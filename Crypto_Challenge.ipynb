{
 "cells": [
  {
   "cell_type": "code",
   "execution_count": 8,
   "id": "4a1aaab3",
   "metadata": {},
   "outputs": [],
   "source": [
    "# Initial imports\n",
    "import pandas as pd\n",
    "import hvplot.pandas\n",
    "import plotly.express as px\n",
    "from sklearn.preprocessing import StandardScaler, MinMaxScaler\n",
    "from sklearn.decomposition import PCA\n",
    "from sklearn.cluster import KMeans"
   ]
  },
  {
   "cell_type": "code",
   "execution_count": 36,
   "id": "6f212617",
   "metadata": {},
   "outputs": [
    {
     "data": {
      "text/html": [
       "<div>\n",
       "<style scoped>\n",
       "    .dataframe tbody tr th:only-of-type {\n",
       "        vertical-align: middle;\n",
       "    }\n",
       "\n",
       "    .dataframe tbody tr th {\n",
       "        vertical-align: top;\n",
       "    }\n",
       "\n",
       "    .dataframe thead th {\n",
       "        text-align: right;\n",
       "    }\n",
       "</style>\n",
       "<table border=\"1\" class=\"dataframe\">\n",
       "  <thead>\n",
       "    <tr style=\"text-align: right;\">\n",
       "      <th></th>\n",
       "      <th>Unnamed: 0</th>\n",
       "      <th>CoinName</th>\n",
       "      <th>Algorithm</th>\n",
       "      <th>IsTrading</th>\n",
       "      <th>ProofType</th>\n",
       "      <th>TotalCoinsMined</th>\n",
       "      <th>TotalCoinSupply</th>\n",
       "    </tr>\n",
       "  </thead>\n",
       "  <tbody>\n",
       "    <tr>\n",
       "      <th>0</th>\n",
       "      <td>42</td>\n",
       "      <td>42 Coin</td>\n",
       "      <td>Scrypt</td>\n",
       "      <td>True</td>\n",
       "      <td>PoW/PoS</td>\n",
       "      <td>4.199995e+01</td>\n",
       "      <td>42</td>\n",
       "    </tr>\n",
       "    <tr>\n",
       "      <th>1</th>\n",
       "      <td>365</td>\n",
       "      <td>365Coin</td>\n",
       "      <td>X11</td>\n",
       "      <td>True</td>\n",
       "      <td>PoW/PoS</td>\n",
       "      <td>NaN</td>\n",
       "      <td>2300000000</td>\n",
       "    </tr>\n",
       "    <tr>\n",
       "      <th>2</th>\n",
       "      <td>404</td>\n",
       "      <td>404Coin</td>\n",
       "      <td>Scrypt</td>\n",
       "      <td>True</td>\n",
       "      <td>PoW/PoS</td>\n",
       "      <td>1.055185e+09</td>\n",
       "      <td>532000000</td>\n",
       "    </tr>\n",
       "    <tr>\n",
       "      <th>3</th>\n",
       "      <td>611</td>\n",
       "      <td>SixEleven</td>\n",
       "      <td>SHA-256</td>\n",
       "      <td>True</td>\n",
       "      <td>PoW</td>\n",
       "      <td>NaN</td>\n",
       "      <td>611000</td>\n",
       "    </tr>\n",
       "    <tr>\n",
       "      <th>4</th>\n",
       "      <td>808</td>\n",
       "      <td>808</td>\n",
       "      <td>SHA-256</td>\n",
       "      <td>True</td>\n",
       "      <td>PoW/PoS</td>\n",
       "      <td>0.000000e+00</td>\n",
       "      <td>0</td>\n",
       "    </tr>\n",
       "  </tbody>\n",
       "</table>\n",
       "</div>"
      ],
      "text/plain": [
       "  Unnamed: 0   CoinName Algorithm  IsTrading ProofType  TotalCoinsMined  \\\n",
       "0         42    42 Coin    Scrypt       True   PoW/PoS     4.199995e+01   \n",
       "1        365    365Coin       X11       True   PoW/PoS              NaN   \n",
       "2        404    404Coin    Scrypt       True   PoW/PoS     1.055185e+09   \n",
       "3        611  SixEleven   SHA-256       True       PoW              NaN   \n",
       "4        808        808   SHA-256       True   PoW/PoS     0.000000e+00   \n",
       "\n",
       "  TotalCoinSupply  \n",
       "0              42  \n",
       "1      2300000000  \n",
       "2       532000000  \n",
       "3          611000  \n",
       "4               0  "
      ]
     },
     "execution_count": 36,
     "metadata": {},
     "output_type": "execute_result"
    }
   ],
   "source": [
    "crypto_data = pd.read_csv(\"Resources/crypto_data.csv\")\n",
    "crypto_data.head()"
   ]
  },
  {
   "cell_type": "code",
   "execution_count": 37,
   "id": "4a5e34b0",
   "metadata": {},
   "outputs": [],
   "source": [
    "crypto_data.drop(columns=\"IsTrading\", inplace = True)"
   ]
  },
  {
   "cell_type": "code",
   "execution_count": 38,
   "id": "b0dbd825",
   "metadata": {},
   "outputs": [],
   "source": [
    "crypto_data.dropna(inplace = True)"
   ]
  },
  {
   "cell_type": "code",
   "execution_count": null,
   "id": "5461d9d9",
   "metadata": {},
   "outputs": [],
   "source": []
  },
  {
   "cell_type": "code",
   "execution_count": 39,
   "id": "742cf5e0",
   "metadata": {},
   "outputs": [],
   "source": [
    "crypto_data.rename(columns={\"Unnamed: 0\" : \"Index\"}, inplace=True)\n",
    "crypto_data = crypto_data.set_index(\"Index\")"
   ]
  },
  {
   "cell_type": "code",
   "execution_count": 40,
   "id": "8fd761c7",
   "metadata": {},
   "outputs": [
    {
     "data": {
      "text/html": [
       "<div>\n",
       "<style scoped>\n",
       "    .dataframe tbody tr th:only-of-type {\n",
       "        vertical-align: middle;\n",
       "    }\n",
       "\n",
       "    .dataframe tbody tr th {\n",
       "        vertical-align: top;\n",
       "    }\n",
       "\n",
       "    .dataframe thead th {\n",
       "        text-align: right;\n",
       "    }\n",
       "</style>\n",
       "<table border=\"1\" class=\"dataframe\">\n",
       "  <thead>\n",
       "    <tr style=\"text-align: right;\">\n",
       "      <th></th>\n",
       "      <th>CoinName</th>\n",
       "      <th>Algorithm</th>\n",
       "      <th>ProofType</th>\n",
       "      <th>TotalCoinsMined</th>\n",
       "      <th>TotalCoinSupply</th>\n",
       "    </tr>\n",
       "    <tr>\n",
       "      <th>Index</th>\n",
       "      <th></th>\n",
       "      <th></th>\n",
       "      <th></th>\n",
       "      <th></th>\n",
       "      <th></th>\n",
       "    </tr>\n",
       "  </thead>\n",
       "  <tbody>\n",
       "    <tr>\n",
       "      <th>42</th>\n",
       "      <td>42 Coin</td>\n",
       "      <td>Scrypt</td>\n",
       "      <td>PoW/PoS</td>\n",
       "      <td>4.199995e+01</td>\n",
       "      <td>42</td>\n",
       "    </tr>\n",
       "    <tr>\n",
       "      <th>404</th>\n",
       "      <td>404Coin</td>\n",
       "      <td>Scrypt</td>\n",
       "      <td>PoW/PoS</td>\n",
       "      <td>1.055185e+09</td>\n",
       "      <td>532000000</td>\n",
       "    </tr>\n",
       "    <tr>\n",
       "      <th>808</th>\n",
       "      <td>808</td>\n",
       "      <td>SHA-256</td>\n",
       "      <td>PoW/PoS</td>\n",
       "      <td>0.000000e+00</td>\n",
       "      <td>0</td>\n",
       "    </tr>\n",
       "    <tr>\n",
       "      <th>1337</th>\n",
       "      <td>EliteCoin</td>\n",
       "      <td>X13</td>\n",
       "      <td>PoW/PoS</td>\n",
       "      <td>2.927942e+10</td>\n",
       "      <td>314159265359</td>\n",
       "    </tr>\n",
       "    <tr>\n",
       "      <th>BTC</th>\n",
       "      <td>Bitcoin</td>\n",
       "      <td>SHA-256</td>\n",
       "      <td>PoW</td>\n",
       "      <td>1.792718e+07</td>\n",
       "      <td>21000000</td>\n",
       "    </tr>\n",
       "  </tbody>\n",
       "</table>\n",
       "</div>"
      ],
      "text/plain": [
       "        CoinName Algorithm ProofType  TotalCoinsMined TotalCoinSupply\n",
       "Index                                                                \n",
       "42       42 Coin    Scrypt   PoW/PoS     4.199995e+01              42\n",
       "404      404Coin    Scrypt   PoW/PoS     1.055185e+09       532000000\n",
       "808          808   SHA-256   PoW/PoS     0.000000e+00               0\n",
       "1337   EliteCoin       X13   PoW/PoS     2.927942e+10    314159265359\n",
       "BTC      Bitcoin   SHA-256       PoW     1.792718e+07        21000000"
      ]
     },
     "execution_count": 40,
     "metadata": {},
     "output_type": "execute_result"
    }
   ],
   "source": [
    "crypto_data.head()"
   ]
  },
  {
   "cell_type": "code",
   "execution_count": 43,
   "id": "514c8798",
   "metadata": {},
   "outputs": [
    {
     "data": {
      "text/html": [
       "<div>\n",
       "<style scoped>\n",
       "    .dataframe tbody tr th:only-of-type {\n",
       "        vertical-align: middle;\n",
       "    }\n",
       "\n",
       "    .dataframe tbody tr th {\n",
       "        vertical-align: top;\n",
       "    }\n",
       "\n",
       "    .dataframe thead th {\n",
       "        text-align: right;\n",
       "    }\n",
       "</style>\n",
       "<table border=\"1\" class=\"dataframe\">\n",
       "  <thead>\n",
       "    <tr style=\"text-align: right;\">\n",
       "      <th></th>\n",
       "      <th>CoinName</th>\n",
       "      <th>Algorithm</th>\n",
       "      <th>ProofType</th>\n",
       "      <th>TotalCoinsMined</th>\n",
       "      <th>TotalCoinSupply</th>\n",
       "    </tr>\n",
       "    <tr>\n",
       "      <th>Index</th>\n",
       "      <th></th>\n",
       "      <th></th>\n",
       "      <th></th>\n",
       "      <th></th>\n",
       "      <th></th>\n",
       "    </tr>\n",
       "  </thead>\n",
       "  <tbody>\n",
       "    <tr>\n",
       "      <th>42</th>\n",
       "      <td>42 Coin</td>\n",
       "      <td>Scrypt</td>\n",
       "      <td>PoW/PoS</td>\n",
       "      <td>4.199995e+01</td>\n",
       "      <td>42</td>\n",
       "    </tr>\n",
       "    <tr>\n",
       "      <th>404</th>\n",
       "      <td>404Coin</td>\n",
       "      <td>Scrypt</td>\n",
       "      <td>PoW/PoS</td>\n",
       "      <td>1.055185e+09</td>\n",
       "      <td>532000000</td>\n",
       "    </tr>\n",
       "    <tr>\n",
       "      <th>1337</th>\n",
       "      <td>EliteCoin</td>\n",
       "      <td>X13</td>\n",
       "      <td>PoW/PoS</td>\n",
       "      <td>2.927942e+10</td>\n",
       "      <td>314159265359</td>\n",
       "    </tr>\n",
       "    <tr>\n",
       "      <th>BTC</th>\n",
       "      <td>Bitcoin</td>\n",
       "      <td>SHA-256</td>\n",
       "      <td>PoW</td>\n",
       "      <td>1.792718e+07</td>\n",
       "      <td>21000000</td>\n",
       "    </tr>\n",
       "    <tr>\n",
       "      <th>ETH</th>\n",
       "      <td>Ethereum</td>\n",
       "      <td>Ethash</td>\n",
       "      <td>PoW</td>\n",
       "      <td>1.076842e+08</td>\n",
       "      <td>0</td>\n",
       "    </tr>\n",
       "  </tbody>\n",
       "</table>\n",
       "</div>"
      ],
      "text/plain": [
       "        CoinName Algorithm ProofType  TotalCoinsMined TotalCoinSupply\n",
       "Index                                                                \n",
       "42       42 Coin    Scrypt   PoW/PoS     4.199995e+01              42\n",
       "404      404Coin    Scrypt   PoW/PoS     1.055185e+09       532000000\n",
       "1337   EliteCoin       X13   PoW/PoS     2.927942e+10    314159265359\n",
       "BTC      Bitcoin   SHA-256       PoW     1.792718e+07        21000000\n",
       "ETH     Ethereum    Ethash       PoW     1.076842e+08               0"
      ]
     },
     "execution_count": 43,
     "metadata": {},
     "output_type": "execute_result"
    }
   ],
   "source": [
    "# Keep the rows where coins are mined.\n",
    "crypto_data = crypto_data.loc[crypto_data[\"TotalCoinsMined\"] != 0]\n",
    "crypto_data.head()"
   ]
  },
  {
   "cell_type": "code",
   "execution_count": 45,
   "id": "ba65b785",
   "metadata": {},
   "outputs": [
    {
     "data": {
      "text/html": [
       "<div>\n",
       "<style scoped>\n",
       "    .dataframe tbody tr th:only-of-type {\n",
       "        vertical-align: middle;\n",
       "    }\n",
       "\n",
       "    .dataframe tbody tr th {\n",
       "        vertical-align: top;\n",
       "    }\n",
       "\n",
       "    .dataframe thead th {\n",
       "        text-align: right;\n",
       "    }\n",
       "</style>\n",
       "<table border=\"1\" class=\"dataframe\">\n",
       "  <thead>\n",
       "    <tr style=\"text-align: right;\">\n",
       "      <th></th>\n",
       "      <th>CoinName</th>\n",
       "    </tr>\n",
       "    <tr>\n",
       "      <th>Index</th>\n",
       "      <th></th>\n",
       "    </tr>\n",
       "  </thead>\n",
       "  <tbody>\n",
       "    <tr>\n",
       "      <th>42</th>\n",
       "      <td>42 Coin</td>\n",
       "    </tr>\n",
       "    <tr>\n",
       "      <th>404</th>\n",
       "      <td>404Coin</td>\n",
       "    </tr>\n",
       "    <tr>\n",
       "      <th>1337</th>\n",
       "      <td>EliteCoin</td>\n",
       "    </tr>\n",
       "    <tr>\n",
       "      <th>BTC</th>\n",
       "      <td>Bitcoin</td>\n",
       "    </tr>\n",
       "    <tr>\n",
       "      <th>ETH</th>\n",
       "      <td>Ethereum</td>\n",
       "    </tr>\n",
       "  </tbody>\n",
       "</table>\n",
       "</div>"
      ],
      "text/plain": [
       "        CoinName\n",
       "Index           \n",
       "42       42 Coin\n",
       "404      404Coin\n",
       "1337   EliteCoin\n",
       "BTC      Bitcoin\n",
       "ETH     Ethereum"
      ]
     },
     "execution_count": 45,
     "metadata": {},
     "output_type": "execute_result"
    }
   ],
   "source": [
    "# Create a new DataFrame that holds only the cryptocurrencies names.\n",
    "crypto_names = crypto_data[[\"CoinName\"]]\n",
    "crypto_names.head()"
   ]
  },
  {
   "cell_type": "code",
   "execution_count": 50,
   "id": "f1a612e8",
   "metadata": {},
   "outputs": [
    {
     "data": {
      "text/html": [
       "<div>\n",
       "<style scoped>\n",
       "    .dataframe tbody tr th:only-of-type {\n",
       "        vertical-align: middle;\n",
       "    }\n",
       "\n",
       "    .dataframe tbody tr th {\n",
       "        vertical-align: top;\n",
       "    }\n",
       "\n",
       "    .dataframe thead th {\n",
       "        text-align: right;\n",
       "    }\n",
       "</style>\n",
       "<table border=\"1\" class=\"dataframe\">\n",
       "  <thead>\n",
       "    <tr style=\"text-align: right;\">\n",
       "      <th></th>\n",
       "      <th>Algorithm</th>\n",
       "      <th>ProofType</th>\n",
       "      <th>TotalCoinsMined</th>\n",
       "      <th>TotalCoinSupply</th>\n",
       "    </tr>\n",
       "    <tr>\n",
       "      <th>Index</th>\n",
       "      <th></th>\n",
       "      <th></th>\n",
       "      <th></th>\n",
       "      <th></th>\n",
       "    </tr>\n",
       "  </thead>\n",
       "  <tbody>\n",
       "    <tr>\n",
       "      <th>42</th>\n",
       "      <td>Scrypt</td>\n",
       "      <td>PoW/PoS</td>\n",
       "      <td>4.199995e+01</td>\n",
       "      <td>42</td>\n",
       "    </tr>\n",
       "    <tr>\n",
       "      <th>404</th>\n",
       "      <td>Scrypt</td>\n",
       "      <td>PoW/PoS</td>\n",
       "      <td>1.055185e+09</td>\n",
       "      <td>532000000</td>\n",
       "    </tr>\n",
       "    <tr>\n",
       "      <th>1337</th>\n",
       "      <td>X13</td>\n",
       "      <td>PoW/PoS</td>\n",
       "      <td>2.927942e+10</td>\n",
       "      <td>314159265359</td>\n",
       "    </tr>\n",
       "    <tr>\n",
       "      <th>BTC</th>\n",
       "      <td>SHA-256</td>\n",
       "      <td>PoW</td>\n",
       "      <td>1.792718e+07</td>\n",
       "      <td>21000000</td>\n",
       "    </tr>\n",
       "    <tr>\n",
       "      <th>ETH</th>\n",
       "      <td>Ethash</td>\n",
       "      <td>PoW</td>\n",
       "      <td>1.076842e+08</td>\n",
       "      <td>0</td>\n",
       "    </tr>\n",
       "  </tbody>\n",
       "</table>\n",
       "</div>"
      ],
      "text/plain": [
       "      Algorithm ProofType  TotalCoinsMined TotalCoinSupply\n",
       "Index                                                     \n",
       "42       Scrypt   PoW/PoS     4.199995e+01              42\n",
       "404      Scrypt   PoW/PoS     1.055185e+09       532000000\n",
       "1337        X13   PoW/PoS     2.927942e+10    314159265359\n",
       "BTC     SHA-256       PoW     1.792718e+07        21000000\n",
       "ETH      Ethash       PoW     1.076842e+08               0"
      ]
     },
     "execution_count": 50,
     "metadata": {},
     "output_type": "execute_result"
    }
   ],
   "source": [
    "# Drop the 'CoinName' column since it's not going to be used on the clustering algorithm.\n",
    "clust_algo = crypto_data.drop(columns=\"CoinName\")\n",
    "clust_algo.head()"
   ]
  },
  {
   "cell_type": "code",
   "execution_count": 51,
   "id": "dfbffaaf",
   "metadata": {},
   "outputs": [
    {
     "data": {
      "text/html": [
       "<div>\n",
       "<style scoped>\n",
       "    .dataframe tbody tr th:only-of-type {\n",
       "        vertical-align: middle;\n",
       "    }\n",
       "\n",
       "    .dataframe tbody tr th {\n",
       "        vertical-align: top;\n",
       "    }\n",
       "\n",
       "    .dataframe thead th {\n",
       "        text-align: right;\n",
       "    }\n",
       "</style>\n",
       "<table border=\"1\" class=\"dataframe\">\n",
       "  <thead>\n",
       "    <tr style=\"text-align: right;\">\n",
       "      <th></th>\n",
       "      <th>TotalCoinsMined</th>\n",
       "      <th>TotalCoinSupply</th>\n",
       "      <th>Algorithm_1GB AES Pattern Search</th>\n",
       "      <th>Algorithm_536</th>\n",
       "      <th>Algorithm_Argon2d</th>\n",
       "      <th>Algorithm_BLAKE256</th>\n",
       "      <th>Algorithm_Blake</th>\n",
       "      <th>Algorithm_Blake2S</th>\n",
       "      <th>Algorithm_Blake2b</th>\n",
       "      <th>Algorithm_C11</th>\n",
       "      <th>...</th>\n",
       "      <th>ProofType_PoW/PoS</th>\n",
       "      <th>ProofType_PoW/PoS</th>\n",
       "      <th>ProofType_PoW/PoW</th>\n",
       "      <th>ProofType_PoW/nPoS</th>\n",
       "      <th>ProofType_Pos</th>\n",
       "      <th>ProofType_Proof of Authority</th>\n",
       "      <th>ProofType_Proof of Trust</th>\n",
       "      <th>ProofType_TPoS</th>\n",
       "      <th>ProofType_Zero-Knowledge Proof</th>\n",
       "      <th>ProofType_dPoW/PoW</th>\n",
       "    </tr>\n",
       "    <tr>\n",
       "      <th>Index</th>\n",
       "      <th></th>\n",
       "      <th></th>\n",
       "      <th></th>\n",
       "      <th></th>\n",
       "      <th></th>\n",
       "      <th></th>\n",
       "      <th></th>\n",
       "      <th></th>\n",
       "      <th></th>\n",
       "      <th></th>\n",
       "      <th></th>\n",
       "      <th></th>\n",
       "      <th></th>\n",
       "      <th></th>\n",
       "      <th></th>\n",
       "      <th></th>\n",
       "      <th></th>\n",
       "      <th></th>\n",
       "      <th></th>\n",
       "      <th></th>\n",
       "      <th></th>\n",
       "    </tr>\n",
       "  </thead>\n",
       "  <tbody>\n",
       "    <tr>\n",
       "      <th>42</th>\n",
       "      <td>4.199995e+01</td>\n",
       "      <td>42</td>\n",
       "      <td>0</td>\n",
       "      <td>0</td>\n",
       "      <td>0</td>\n",
       "      <td>0</td>\n",
       "      <td>0</td>\n",
       "      <td>0</td>\n",
       "      <td>0</td>\n",
       "      <td>0</td>\n",
       "      <td>...</td>\n",
       "      <td>1</td>\n",
       "      <td>0</td>\n",
       "      <td>0</td>\n",
       "      <td>0</td>\n",
       "      <td>0</td>\n",
       "      <td>0</td>\n",
       "      <td>0</td>\n",
       "      <td>0</td>\n",
       "      <td>0</td>\n",
       "      <td>0</td>\n",
       "    </tr>\n",
       "    <tr>\n",
       "      <th>404</th>\n",
       "      <td>1.055185e+09</td>\n",
       "      <td>532000000</td>\n",
       "      <td>0</td>\n",
       "      <td>0</td>\n",
       "      <td>0</td>\n",
       "      <td>0</td>\n",
       "      <td>0</td>\n",
       "      <td>0</td>\n",
       "      <td>0</td>\n",
       "      <td>0</td>\n",
       "      <td>...</td>\n",
       "      <td>1</td>\n",
       "      <td>0</td>\n",
       "      <td>0</td>\n",
       "      <td>0</td>\n",
       "      <td>0</td>\n",
       "      <td>0</td>\n",
       "      <td>0</td>\n",
       "      <td>0</td>\n",
       "      <td>0</td>\n",
       "      <td>0</td>\n",
       "    </tr>\n",
       "    <tr>\n",
       "      <th>1337</th>\n",
       "      <td>2.927942e+10</td>\n",
       "      <td>314159265359</td>\n",
       "      <td>0</td>\n",
       "      <td>0</td>\n",
       "      <td>0</td>\n",
       "      <td>0</td>\n",
       "      <td>0</td>\n",
       "      <td>0</td>\n",
       "      <td>0</td>\n",
       "      <td>0</td>\n",
       "      <td>...</td>\n",
       "      <td>1</td>\n",
       "      <td>0</td>\n",
       "      <td>0</td>\n",
       "      <td>0</td>\n",
       "      <td>0</td>\n",
       "      <td>0</td>\n",
       "      <td>0</td>\n",
       "      <td>0</td>\n",
       "      <td>0</td>\n",
       "      <td>0</td>\n",
       "    </tr>\n",
       "    <tr>\n",
       "      <th>BTC</th>\n",
       "      <td>1.792718e+07</td>\n",
       "      <td>21000000</td>\n",
       "      <td>0</td>\n",
       "      <td>0</td>\n",
       "      <td>0</td>\n",
       "      <td>0</td>\n",
       "      <td>0</td>\n",
       "      <td>0</td>\n",
       "      <td>0</td>\n",
       "      <td>0</td>\n",
       "      <td>...</td>\n",
       "      <td>0</td>\n",
       "      <td>0</td>\n",
       "      <td>0</td>\n",
       "      <td>0</td>\n",
       "      <td>0</td>\n",
       "      <td>0</td>\n",
       "      <td>0</td>\n",
       "      <td>0</td>\n",
       "      <td>0</td>\n",
       "      <td>0</td>\n",
       "    </tr>\n",
       "    <tr>\n",
       "      <th>ETH</th>\n",
       "      <td>1.076842e+08</td>\n",
       "      <td>0</td>\n",
       "      <td>0</td>\n",
       "      <td>0</td>\n",
       "      <td>0</td>\n",
       "      <td>0</td>\n",
       "      <td>0</td>\n",
       "      <td>0</td>\n",
       "      <td>0</td>\n",
       "      <td>0</td>\n",
       "      <td>...</td>\n",
       "      <td>0</td>\n",
       "      <td>0</td>\n",
       "      <td>0</td>\n",
       "      <td>0</td>\n",
       "      <td>0</td>\n",
       "      <td>0</td>\n",
       "      <td>0</td>\n",
       "      <td>0</td>\n",
       "      <td>0</td>\n",
       "      <td>0</td>\n",
       "    </tr>\n",
       "  </tbody>\n",
       "</table>\n",
       "<p>5 rows × 103 columns</p>\n",
       "</div>"
      ],
      "text/plain": [
       "       TotalCoinsMined TotalCoinSupply  Algorithm_1GB AES Pattern Search  \\\n",
       "Index                                                                      \n",
       "42        4.199995e+01              42                                 0   \n",
       "404       1.055185e+09       532000000                                 0   \n",
       "1337      2.927942e+10    314159265359                                 0   \n",
       "BTC       1.792718e+07        21000000                                 0   \n",
       "ETH       1.076842e+08               0                                 0   \n",
       "\n",
       "       Algorithm_536  Algorithm_Argon2d  Algorithm_BLAKE256  Algorithm_Blake  \\\n",
       "Index                                                                          \n",
       "42                 0                  0                   0                0   \n",
       "404                0                  0                   0                0   \n",
       "1337               0                  0                   0                0   \n",
       "BTC                0                  0                   0                0   \n",
       "ETH                0                  0                   0                0   \n",
       "\n",
       "       Algorithm_Blake2S  Algorithm_Blake2b  Algorithm_C11  ...  \\\n",
       "Index                                                       ...   \n",
       "42                     0                  0              0  ...   \n",
       "404                    0                  0              0  ...   \n",
       "1337                   0                  0              0  ...   \n",
       "BTC                    0                  0              0  ...   \n",
       "ETH                    0                  0              0  ...   \n",
       "\n",
       "       ProofType_PoW/PoS  ProofType_PoW/PoS   ProofType_PoW/PoW  \\\n",
       "Index                                                             \n",
       "42                     1                   0                  0   \n",
       "404                    1                   0                  0   \n",
       "1337                   1                   0                  0   \n",
       "BTC                    0                   0                  0   \n",
       "ETH                    0                   0                  0   \n",
       "\n",
       "       ProofType_PoW/nPoS  ProofType_Pos  ProofType_Proof of Authority  \\\n",
       "Index                                                                    \n",
       "42                      0              0                             0   \n",
       "404                     0              0                             0   \n",
       "1337                    0              0                             0   \n",
       "BTC                     0              0                             0   \n",
       "ETH                     0              0                             0   \n",
       "\n",
       "       ProofType_Proof of Trust  ProofType_TPoS  \\\n",
       "Index                                             \n",
       "42                            0               0   \n",
       "404                           0               0   \n",
       "1337                          0               0   \n",
       "BTC                           0               0   \n",
       "ETH                           0               0   \n",
       "\n",
       "       ProofType_Zero-Knowledge Proof  ProofType_dPoW/PoW  \n",
       "Index                                                      \n",
       "42                                  0                   0  \n",
       "404                                 0                   0  \n",
       "1337                                0                   0  \n",
       "BTC                                 0                   0  \n",
       "ETH                                 0                   0  \n",
       "\n",
       "[5 rows x 103 columns]"
      ]
     },
     "execution_count": 51,
     "metadata": {},
     "output_type": "execute_result"
    }
   ],
   "source": [
    "clust_algo = pd.get_dummies(clust_algo, columns=[\"Algorithm\", \"ProofType\"])\n",
    "clust_algo.head()"
   ]
  },
  {
   "cell_type": "code",
   "execution_count": 52,
   "id": "c25ae064",
   "metadata": {},
   "outputs": [],
   "source": [
    "# Standardize the data with StandardScaler().\n",
    "std_array = StandardScaler().fit_transform(clust_algo)"
   ]
  },
  {
   "cell_type": "code",
   "execution_count": 53,
   "id": "da514b3c",
   "metadata": {},
   "outputs": [
    {
     "data": {
      "text/plain": [
       "array([[-0.11416167, -0.15072664, -0.04163054, ..., -0.04163054,\n",
       "        -0.04163054, -0.04163054],\n",
       "       [-0.09006124, -0.142553  , -0.04163054, ..., -0.04163054,\n",
       "        -0.04163054, -0.04163054],\n",
       "       [ 0.55458069,  4.67601177, -0.04163054, ..., -0.04163054,\n",
       "        -0.04163054, -0.04163054],\n",
       "       ...,\n",
       "       [-0.11399502, -0.150404  , -0.04163054, ..., -0.04163054,\n",
       "        -0.04163054, -0.04163054],\n",
       "       [-0.11415874, -0.15071128, -0.04163054, ..., -0.04163054,\n",
       "        -0.04163054, -0.04163054],\n",
       "       [-0.11367081, -0.14919024, -0.04163054, ..., -0.04163054,\n",
       "        -0.04163054, -0.04163054]])"
      ]
     },
     "execution_count": 53,
     "metadata": {},
     "output_type": "execute_result"
    }
   ],
   "source": [
    "std_array"
   ]
  },
  {
   "cell_type": "code",
   "execution_count": 80,
   "id": "4f037fa4",
   "metadata": {},
   "outputs": [],
   "source": [
    "# Initialize PCA model\n",
    "pca = PCA(n_components=3)\n"
   ]
  },
  {
   "cell_type": "code",
   "execution_count": 81,
   "id": "4f1d4b36",
   "metadata": {},
   "outputs": [
    {
     "data": {
      "text/plain": [
       "array([[-0.32298296,  1.14693518, -0.39723828],\n",
       "       [-0.3056183 ,  1.14718158, -0.39731703],\n",
       "       [ 2.42121667,  1.74994786, -0.45408084],\n",
       "       ...,\n",
       "       [-0.15774821, -2.10733921,  0.13090294],\n",
       "       [-0.27578084,  0.78192053, -0.22226319],\n",
       "       [-0.32197246,  1.14689898, -0.39724446]])"
      ]
     },
     "execution_count": 81,
     "metadata": {},
     "output_type": "execute_result"
    }
   ],
   "source": [
    "# Using PCA to reduce dimension to three principal components.\n",
    "crypto_pca = pca.fit_transform(std_array)\n",
    "crypto_pca"
   ]
  },
  {
   "cell_type": "code",
   "execution_count": 82,
   "id": "618de230",
   "metadata": {},
   "outputs": [
    {
     "data": {
      "text/html": [
       "<div>\n",
       "<style scoped>\n",
       "    .dataframe tbody tr th:only-of-type {\n",
       "        vertical-align: middle;\n",
       "    }\n",
       "\n",
       "    .dataframe tbody tr th {\n",
       "        vertical-align: top;\n",
       "    }\n",
       "\n",
       "    .dataframe thead th {\n",
       "        text-align: right;\n",
       "    }\n",
       "</style>\n",
       "<table border=\"1\" class=\"dataframe\">\n",
       "  <thead>\n",
       "    <tr style=\"text-align: right;\">\n",
       "      <th></th>\n",
       "      <th>PC 1</th>\n",
       "      <th>PC 2</th>\n",
       "      <th>PC 3</th>\n",
       "    </tr>\n",
       "    <tr>\n",
       "      <th>Index</th>\n",
       "      <th></th>\n",
       "      <th></th>\n",
       "      <th></th>\n",
       "    </tr>\n",
       "  </thead>\n",
       "  <tbody>\n",
       "    <tr>\n",
       "      <th>42</th>\n",
       "      <td>-0.322983</td>\n",
       "      <td>1.146935</td>\n",
       "      <td>-0.397238</td>\n",
       "    </tr>\n",
       "    <tr>\n",
       "      <th>404</th>\n",
       "      <td>-0.305618</td>\n",
       "      <td>1.147182</td>\n",
       "      <td>-0.397317</td>\n",
       "    </tr>\n",
       "    <tr>\n",
       "      <th>1337</th>\n",
       "      <td>2.421217</td>\n",
       "      <td>1.749948</td>\n",
       "      <td>-0.454081</td>\n",
       "    </tr>\n",
       "    <tr>\n",
       "      <th>BTC</th>\n",
       "      <td>-0.139223</td>\n",
       "      <td>-1.333985</td>\n",
       "      <td>0.148047</td>\n",
       "    </tr>\n",
       "    <tr>\n",
       "      <th>ETH</th>\n",
       "      <td>-0.136645</td>\n",
       "      <td>-2.067827</td>\n",
       "      <td>0.234586</td>\n",
       "    </tr>\n",
       "  </tbody>\n",
       "</table>\n",
       "</div>"
      ],
      "text/plain": [
       "           PC 1      PC 2      PC 3\n",
       "Index                              \n",
       "42    -0.322983  1.146935 -0.397238\n",
       "404   -0.305618  1.147182 -0.397317\n",
       "1337   2.421217  1.749948 -0.454081\n",
       "BTC   -0.139223 -1.333985  0.148047\n",
       "ETH   -0.136645 -2.067827  0.234586"
      ]
     },
     "execution_count": 82,
     "metadata": {},
     "output_type": "execute_result"
    }
   ],
   "source": [
    "# Create a DataFrame with the three principal components.\n",
    "crypto_pca_df = pd.DataFrame(data=crypto_pca, index = clust_algo.index, columns=[\"PC 1\", \"PC 2\", \"PC 3\"])\n",
    "crypto_pca_df.head()"
   ]
  },
  {
   "cell_type": "code",
   "execution_count": 93,
   "id": "22b91a68",
   "metadata": {},
   "outputs": [],
   "source": [
    "# Find the best value for K\n",
    "inertia = []\n",
    "k = list(range(1, 11))\n",
    "\n",
    "# Calculate the inertia for the range of K values\n",
    "for i in k:\n",
    "    km = KMeans(n_clusters=i, random_state=0)\n",
    "    km.fit(crypto_pca_df)\n",
    "    inertia.append(km.inertia_)"
   ]
  },
  {
   "cell_type": "code",
   "execution_count": 95,
   "id": "604bb642",
   "metadata": {},
   "outputs": [
    {
     "data": {},
     "metadata": {},
     "output_type": "display_data"
    },
    {
     "data": {
      "application/vnd.holoviews_exec.v0+json": "",
      "text/html": [
       "<div id='1120'>\n",
       "\n",
       "\n",
       "\n",
       "\n",
       "\n",
       "  <div class=\"bk-root\" id=\"6515200f-e0f9-4acf-b7d4-619cac2d75d9\" data-root-id=\"1120\"></div>\n",
       "</div>\n",
       "<script type=\"application/javascript\">(function(root) {\n",
       "  function embed_document(root) {\n",
       "    var docs_json = {\"b8ff1ae9-6cc8-4068-ad7e-fef78181e68f\":{\"defs\":[{\"extends\":null,\"module\":null,\"name\":\"ReactiveHTML1\",\"overrides\":[],\"properties\":[]},{\"extends\":null,\"module\":null,\"name\":\"FlexBox1\",\"overrides\":[],\"properties\":[{\"default\":\"flex-start\",\"kind\":null,\"name\":\"align_content\"},{\"default\":\"flex-start\",\"kind\":null,\"name\":\"align_items\"},{\"default\":\"row\",\"kind\":null,\"name\":\"flex_direction\"},{\"default\":\"wrap\",\"kind\":null,\"name\":\"flex_wrap\"},{\"default\":\"flex-start\",\"kind\":null,\"name\":\"justify_content\"}]},{\"extends\":null,\"module\":null,\"name\":\"GridStack1\",\"overrides\":[],\"properties\":[{\"default\":\"warn\",\"kind\":null,\"name\":\"mode\"},{\"default\":null,\"kind\":null,\"name\":\"ncols\"},{\"default\":null,\"kind\":null,\"name\":\"nrows\"},{\"default\":true,\"kind\":null,\"name\":\"allow_resize\"},{\"default\":true,\"kind\":null,\"name\":\"allow_drag\"},{\"default\":[],\"kind\":null,\"name\":\"state\"}]},{\"extends\":null,\"module\":null,\"name\":\"click1\",\"overrides\":[],\"properties\":[{\"default\":\"\",\"kind\":null,\"name\":\"terminal_output\"},{\"default\":\"\",\"kind\":null,\"name\":\"debug_name\"},{\"default\":0,\"kind\":null,\"name\":\"clears\"}]},{\"extends\":null,\"module\":null,\"name\":\"TemplateActions1\",\"overrides\":[],\"properties\":[{\"default\":0,\"kind\":null,\"name\":\"open_modal\"},{\"default\":0,\"kind\":null,\"name\":\"close_modal\"}]},{\"extends\":null,\"module\":null,\"name\":\"MaterialTemplateActions1\",\"overrides\":[],\"properties\":[{\"default\":0,\"kind\":null,\"name\":\"open_modal\"},{\"default\":0,\"kind\":null,\"name\":\"close_modal\"}]}],\"roots\":{\"references\":[{\"attributes\":{\"children\":[{\"id\":\"1121\"},{\"id\":\"1125\"},{\"id\":\"1191\"}],\"margin\":[0,0,0,0],\"name\":\"Row01841\",\"tags\":[\"embedded\"]},\"id\":\"1120\",\"type\":\"Row\"},{\"attributes\":{\"coordinates\":null,\"data_source\":{\"id\":\"1155\"},\"glyph\":{\"id\":\"1158\"},\"group\":null,\"hover_glyph\":null,\"muted_glyph\":{\"id\":\"1160\"},\"nonselection_glyph\":{\"id\":\"1159\"},\"selection_glyph\":{\"id\":\"1163\"},\"view\":{\"id\":\"1162\"}},\"id\":\"1161\",\"type\":\"GlyphRenderer\"},{\"attributes\":{\"line_color\":\"#30a2da\",\"line_width\":2,\"x\":{\"field\":\"k\"},\"y\":{\"field\":\"inertia\"}},\"id\":\"1163\",\"type\":\"Line\"},{\"attributes\":{\"axis_label\":\"k\",\"coordinates\":null,\"formatter\":{\"id\":\"1166\"},\"group\":null,\"major_label_policy\":{\"id\":\"1167\"},\"ticker\":{\"id\":\"1164\"}},\"id\":\"1134\",\"type\":\"LinearAxis\"},{\"attributes\":{},\"id\":\"1179\",\"type\":\"UnionRenderers\"},{\"attributes\":{\"coordinates\":null,\"group\":null,\"text\":\"Elbow Curve\",\"text_color\":\"black\",\"text_font_size\":\"12pt\"},\"id\":\"1126\",\"type\":\"Title\"},{\"attributes\":{},\"id\":\"1146\",\"type\":\"ResetTool\"},{\"attributes\":{\"bottom_units\":\"screen\",\"coordinates\":null,\"fill_alpha\":0.5,\"fill_color\":\"lightgrey\",\"group\":null,\"left_units\":\"screen\",\"level\":\"overlay\",\"line_alpha\":1.0,\"line_color\":\"black\",\"line_dash\":[4,4],\"line_width\":2,\"right_units\":\"screen\",\"syncable\":false,\"top_units\":\"screen\"},\"id\":\"1147\",\"type\":\"BoxAnnotation\"},{\"attributes\":{\"margin\":[5,5,5,5],\"name\":\"HSpacer01845\",\"sizing_mode\":\"stretch_width\"},\"id\":\"1121\",\"type\":\"Spacer\"},{\"attributes\":{},\"id\":\"1171\",\"type\":\"BasicTickFormatter\"},{\"attributes\":{\"axis\":{\"id\":\"1138\"},\"coordinates\":null,\"dimension\":1,\"grid_line_color\":null,\"group\":null,\"ticker\":null},\"id\":\"1141\",\"type\":\"Grid\"},{\"attributes\":{\"data\":{\"inertia\":{\"__ndarray__\":\"BqwgAOHRrkAWDG5N1O2kQJFlY10oWplAfaJ8UMVcgkAhzIahVKx3QLXi922gKHNA8sFATSa6b0CbSzxOtd9pQHbZf8uRZGVAlPPEULeZYUA=\",\"dtype\":\"float64\",\"order\":\"little\",\"shape\":[10]},\"k\":[1,2,3,4,5,6,7,8,9,10]},\"selected\":{\"id\":\"1156\"},\"selection_policy\":{\"id\":\"1179\"}},\"id\":\"1155\",\"type\":\"ColumnDataSource\"},{\"attributes\":{},\"id\":\"1132\",\"type\":\"LinearScale\"},{\"attributes\":{\"ticks\":[1,2,3,4,5,6,7,8,9,10]},\"id\":\"1164\",\"type\":\"FixedTicker\"},{\"attributes\":{},\"id\":\"1172\",\"type\":\"AllLabels\"},{\"attributes\":{\"end\":10.0,\"reset_end\":10.0,\"reset_start\":1.0,\"start\":1.0,\"tags\":[[[\"k\",\"k\",null]]]},\"id\":\"1122\",\"type\":\"Range1d\"},{\"attributes\":{\"axis\":{\"id\":\"1134\"},\"coordinates\":null,\"grid_line_color\":null,\"group\":null,\"ticker\":null},\"id\":\"1137\",\"type\":\"Grid\"},{\"attributes\":{},\"id\":\"1167\",\"type\":\"AllLabels\"},{\"attributes\":{},\"id\":\"1139\",\"type\":\"BasicTicker\"},{\"attributes\":{},\"id\":\"1156\",\"type\":\"Selection\"},{\"attributes\":{},\"id\":\"1130\",\"type\":\"LinearScale\"},{\"attributes\":{\"axis_label\":\"inertia\",\"coordinates\":null,\"formatter\":{\"id\":\"1171\"},\"group\":null,\"major_label_policy\":{\"id\":\"1172\"},\"ticker\":{\"id\":\"1139\"}},\"id\":\"1138\",\"type\":\"LinearAxis\"},{\"attributes\":{},\"id\":\"1166\",\"type\":\"BasicTickFormatter\"},{\"attributes\":{\"line_color\":\"#30a2da\",\"line_width\":2,\"x\":{\"field\":\"k\"},\"y\":{\"field\":\"inertia\"}},\"id\":\"1158\",\"type\":\"Line\"},{\"attributes\":{\"line_alpha\":0.1,\"line_color\":\"#30a2da\",\"line_width\":2,\"x\":{\"field\":\"k\"},\"y\":{\"field\":\"inertia\"}},\"id\":\"1159\",\"type\":\"Line\"},{\"attributes\":{\"margin\":[5,5,5,5],\"name\":\"HSpacer01846\",\"sizing_mode\":\"stretch_width\"},\"id\":\"1191\",\"type\":\"Spacer\"},{\"attributes\":{\"line_alpha\":0.2,\"line_color\":\"#30a2da\",\"line_width\":2,\"x\":{\"field\":\"k\"},\"y\":{\"field\":\"inertia\"}},\"id\":\"1160\",\"type\":\"Line\"},{\"attributes\":{\"tools\":[{\"id\":\"1124\"},{\"id\":\"1142\"},{\"id\":\"1143\"},{\"id\":\"1144\"},{\"id\":\"1145\"},{\"id\":\"1146\"}]},\"id\":\"1148\",\"type\":\"Toolbar\"},{\"attributes\":{\"source\":{\"id\":\"1155\"}},\"id\":\"1162\",\"type\":\"CDSView\"},{\"attributes\":{\"below\":[{\"id\":\"1134\"}],\"center\":[{\"id\":\"1137\"},{\"id\":\"1141\"}],\"height\":300,\"left\":[{\"id\":\"1138\"}],\"margin\":[5,5,5,5],\"min_border_bottom\":10,\"min_border_left\":10,\"min_border_right\":10,\"min_border_top\":10,\"renderers\":[{\"id\":\"1161\"}],\"sizing_mode\":\"fixed\",\"title\":{\"id\":\"1126\"},\"toolbar\":{\"id\":\"1148\"},\"width\":700,\"x_range\":{\"id\":\"1122\"},\"x_scale\":{\"id\":\"1130\"},\"y_range\":{\"id\":\"1123\"},\"y_scale\":{\"id\":\"1132\"}},\"id\":\"1125\",\"subtype\":\"Figure\",\"type\":\"Plot\"},{\"attributes\":{},\"id\":\"1142\",\"type\":\"SaveTool\"},{\"attributes\":{},\"id\":\"1143\",\"type\":\"PanTool\"},{\"attributes\":{\"callback\":null,\"renderers\":[{\"id\":\"1161\"}],\"tags\":[\"hv_created\"],\"tooltips\":[[\"k\",\"@{k}\"],[\"inertia\",\"@{inertia}\"]]},\"id\":\"1124\",\"type\":\"HoverTool\"},{\"attributes\":{},\"id\":\"1144\",\"type\":\"WheelZoomTool\"},{\"attributes\":{\"end\":4325.35303677047,\"reset_end\":4325.35303677047,\"reset_start\":-239.60995529075814,\"start\":-239.60995529075814,\"tags\":[[[\"inertia\",\"inertia\",null]]]},\"id\":\"1123\",\"type\":\"Range1d\"},{\"attributes\":{\"overlay\":{\"id\":\"1147\"}},\"id\":\"1145\",\"type\":\"BoxZoomTool\"}],\"root_ids\":[\"1120\"]},\"title\":\"Bokeh Application\",\"version\":\"2.4.2\"}};\n",
       "    var render_items = [{\"docid\":\"b8ff1ae9-6cc8-4068-ad7e-fef78181e68f\",\"root_ids\":[\"1120\"],\"roots\":{\"1120\":\"6515200f-e0f9-4acf-b7d4-619cac2d75d9\"}}];\n",
       "    root.Bokeh.embed.embed_items_notebook(docs_json, render_items);\n",
       "  }\n",
       "  if (root.Bokeh !== undefined && root.Bokeh.Panel !== undefined) {\n",
       "    embed_document(root);\n",
       "  } else {\n",
       "    var attempts = 0;\n",
       "    var timer = setInterval(function(root) {\n",
       "      if (root.Bokeh !== undefined && root.Bokeh.Panel !== undefined) {\n",
       "        clearInterval(timer);\n",
       "        embed_document(root);\n",
       "      } else if (document.readyState == \"complete\") {\n",
       "        attempts++;\n",
       "        if (attempts > 200) {\n",
       "          clearInterval(timer);\n",
       "          console.log(\"Bokeh: ERROR: Unable to run BokehJS code because BokehJS library is missing\");\n",
       "        }\n",
       "      }\n",
       "    }, 25, root)\n",
       "  }\n",
       "})(window);</script>"
      ],
      "text/plain": [
       ":Curve   [k]   (inertia)"
      ]
     },
     "execution_count": 95,
     "metadata": {
      "application/vnd.holoviews_exec.v0+json": {
       "id": "1120"
      }
     },
     "output_type": "execute_result"
    }
   ],
   "source": [
    "# Define a DataFrame to plot the Elbow Curve using hvPlot\n",
    "elbow_data = {\"k\": k, \"inertia\": inertia}\n",
    "df_elbow = pd.DataFrame(elbow_data)\n",
    "df_elbow.hvplot.line(x=\"k\", y=\"inertia\", title=\"Elbow Curve\", xticks=k)"
   ]
  },
  {
   "cell_type": "code",
   "execution_count": 104,
   "id": "72e5ede2",
   "metadata": {},
   "outputs": [
    {
     "data": {
      "text/plain": [
       "array([1, 1, 1, 0, 0, 0, 1, 0, 0, 0, 1, 0, 1, 1, 0, 1, 0, 0, 1, 1, 0, 0,\n",
       "       0, 0, 0, 1, 0, 0, 0, 1, 0, 1, 0, 0, 1, 1, 0, 0, 0, 0, 0, 0, 1, 1,\n",
       "       0, 0, 0, 0, 0, 1, 1, 0, 1, 0, 0, 0, 0, 1, 0, 0, 1, 0, 1, 1, 1, 0,\n",
       "       0, 0, 1, 1, 1, 1, 1, 0, 0, 0, 1, 1, 0, 1, 0, 1, 1, 0, 0, 0, 0, 1,\n",
       "       1, 0, 1, 0, 0, 1, 1, 0, 1, 1, 0, 0, 1, 1, 0, 1, 1, 0, 1, 0, 1, 0,\n",
       "       1, 0, 1, 1, 0, 0, 1, 0, 0, 0, 1, 0, 0, 0, 0, 0, 1, 1, 0, 0, 0, 1,\n",
       "       0, 1, 0, 0, 1, 0, 1, 0, 1, 1, 0, 0, 1, 0, 0, 1, 1, 0, 1, 0, 1, 1,\n",
       "       1, 0, 0, 0, 0, 1, 1, 1, 1, 1, 0, 0, 0, 1, 1, 1, 1, 1, 0, 1, 1, 1,\n",
       "       1, 1, 0, 1, 0, 1, 1, 0, 1, 0, 1, 1, 0, 1, 0, 1, 0, 1, 0, 1, 1, 1,\n",
       "       1, 0, 1, 1, 1, 1, 1, 0, 0, 1, 1, 0, 0, 1, 1, 1, 1, 1, 0, 1, 1, 1,\n",
       "       1, 1, 1, 1, 1, 0, 1, 1, 1, 1, 1, 1, 0, 0, 0, 1, 1, 1, 1, 0, 1, 0,\n",
       "       1, 1, 0, 1, 0, 0, 1, 0, 0, 1, 0, 1, 1, 1, 0, 1, 1, 0, 1, 1, 1, 1,\n",
       "       1, 1, 1, 0, 1, 0, 1, 1, 1, 1, 0, 1, 0, 1, 0, 0, 0, 0, 1, 0, 1, 1,\n",
       "       0, 1, 0, 0, 0, 1, 0, 1, 0, 0, 0, 1, 0, 1, 0, 1, 1, 1, 0, 1, 0, 0,\n",
       "       0, 0, 0, 1, 1, 0, 1, 1, 1, 0, 1, 0, 1, 0, 1, 0, 1, 1, 1, 1, 0, 1,\n",
       "       1, 0, 1, 1, 1, 0, 0, 0, 0, 1, 1, 1, 1, 1, 0, 1, 0, 0, 0, 1, 0, 1,\n",
       "       0, 0, 1, 1, 0, 1, 0, 0, 1, 1, 0, 0, 1, 0, 0, 1, 1, 1, 1, 0, 0, 0,\n",
       "       1, 0, 0, 1, 0, 0, 1, 0, 1, 0, 1, 0, 0, 1, 3, 3, 0, 0, 1, 1, 1, 0,\n",
       "       1, 1, 1, 1, 1, 1, 0, 0, 0, 0, 0, 1, 0, 1, 1, 1, 0, 1, 0, 1, 1, 1,\n",
       "       0, 1, 0, 1, 1, 0, 1, 1, 0, 0, 1, 0, 1, 0, 1, 1, 0, 1, 1, 0, 0, 1,\n",
       "       1, 1, 1, 0, 1, 0, 1, 1, 1, 1, 1, 0, 1, 1, 0, 0, 0, 1, 1, 1, 1, 1,\n",
       "       1, 1, 0, 0, 1, 0, 0, 0, 0, 0, 1, 0, 1, 1, 1, 0, 1, 1, 0, 1, 1, 1,\n",
       "       0, 0, 3, 0, 1, 0, 0, 1, 0, 1, 0, 1, 1, 0, 1, 0, 0, 0, 0, 0, 0, 0,\n",
       "       1, 0, 1, 0, 1, 1, 0, 0, 1, 1, 1, 1, 1, 0, 0, 0, 1, 1, 0, 1, 0, 1,\n",
       "       0, 1, 0, 1, 1, 1, 1, 0, 1, 1, 1, 0, 1, 0, 1, 0, 1, 1, 1, 0, 0, 1,\n",
       "       1, 1, 1, 1, 1, 1, 0, 1, 0, 0, 1, 1, 0, 1, 1, 1, 1, 1, 1, 2, 0, 1,\n",
       "       1, 1, 0, 0, 1, 1], dtype=int32)"
      ]
     },
     "execution_count": 104,
     "metadata": {},
     "output_type": "execute_result"
    }
   ],
   "source": [
    "# Initialize the K-Means model.\n",
    "model = KMeans(n_clusters=4, random_state=0)\n",
    "# Fit the model\n",
    "model.fit(crypto_pca)\n",
    "# Predict clusters\n",
    "predictions = model.predict(crypto_pca)\n",
    "predictions"
   ]
  },
  {
   "cell_type": "code",
   "execution_count": 105,
   "id": "a053d75d",
   "metadata": {},
   "outputs": [
    {
     "data": {
      "text/html": [
       "<div>\n",
       "<style scoped>\n",
       "    .dataframe tbody tr th:only-of-type {\n",
       "        vertical-align: middle;\n",
       "    }\n",
       "\n",
       "    .dataframe tbody tr th {\n",
       "        vertical-align: top;\n",
       "    }\n",
       "\n",
       "    .dataframe thead th {\n",
       "        text-align: right;\n",
       "    }\n",
       "</style>\n",
       "<table border=\"1\" class=\"dataframe\">\n",
       "  <thead>\n",
       "    <tr style=\"text-align: right;\">\n",
       "      <th></th>\n",
       "      <th>CoinName</th>\n",
       "      <th>Algorithm</th>\n",
       "      <th>ProofType</th>\n",
       "      <th>TotalCoinsMined</th>\n",
       "      <th>TotalCoinSupply</th>\n",
       "      <th>PC 1</th>\n",
       "      <th>PC 2</th>\n",
       "      <th>PC 3</th>\n",
       "      <th>Class</th>\n",
       "    </tr>\n",
       "    <tr>\n",
       "      <th>Index</th>\n",
       "      <th></th>\n",
       "      <th></th>\n",
       "      <th></th>\n",
       "      <th></th>\n",
       "      <th></th>\n",
       "      <th></th>\n",
       "      <th></th>\n",
       "      <th></th>\n",
       "      <th></th>\n",
       "    </tr>\n",
       "  </thead>\n",
       "  <tbody>\n",
       "    <tr>\n",
       "      <th>42</th>\n",
       "      <td>42 Coin</td>\n",
       "      <td>Scrypt</td>\n",
       "      <td>PoW/PoS</td>\n",
       "      <td>4.199995e+01</td>\n",
       "      <td>42</td>\n",
       "      <td>-0.322983</td>\n",
       "      <td>1.146935</td>\n",
       "      <td>-0.397238</td>\n",
       "      <td>1</td>\n",
       "    </tr>\n",
       "    <tr>\n",
       "      <th>404</th>\n",
       "      <td>404Coin</td>\n",
       "      <td>Scrypt</td>\n",
       "      <td>PoW/PoS</td>\n",
       "      <td>1.055185e+09</td>\n",
       "      <td>532000000</td>\n",
       "      <td>-0.305618</td>\n",
       "      <td>1.147182</td>\n",
       "      <td>-0.397317</td>\n",
       "      <td>1</td>\n",
       "    </tr>\n",
       "    <tr>\n",
       "      <th>1337</th>\n",
       "      <td>EliteCoin</td>\n",
       "      <td>X13</td>\n",
       "      <td>PoW/PoS</td>\n",
       "      <td>2.927942e+10</td>\n",
       "      <td>314159265359</td>\n",
       "      <td>2.421217</td>\n",
       "      <td>1.749948</td>\n",
       "      <td>-0.454081</td>\n",
       "      <td>1</td>\n",
       "    </tr>\n",
       "    <tr>\n",
       "      <th>BTC</th>\n",
       "      <td>Bitcoin</td>\n",
       "      <td>SHA-256</td>\n",
       "      <td>PoW</td>\n",
       "      <td>1.792718e+07</td>\n",
       "      <td>21000000</td>\n",
       "      <td>-0.139223</td>\n",
       "      <td>-1.333985</td>\n",
       "      <td>0.148047</td>\n",
       "      <td>0</td>\n",
       "    </tr>\n",
       "    <tr>\n",
       "      <th>ETH</th>\n",
       "      <td>Ethereum</td>\n",
       "      <td>Ethash</td>\n",
       "      <td>PoW</td>\n",
       "      <td>1.076842e+08</td>\n",
       "      <td>0</td>\n",
       "      <td>-0.136645</td>\n",
       "      <td>-2.067827</td>\n",
       "      <td>0.234586</td>\n",
       "      <td>0</td>\n",
       "    </tr>\n",
       "    <tr>\n",
       "      <th>LTC</th>\n",
       "      <td>Litecoin</td>\n",
       "      <td>Scrypt</td>\n",
       "      <td>PoW</td>\n",
       "      <td>6.303924e+07</td>\n",
       "      <td>84000000</td>\n",
       "      <td>-0.158015</td>\n",
       "      <td>-1.066375</td>\n",
       "      <td>-0.028552</td>\n",
       "      <td>0</td>\n",
       "    </tr>\n",
       "    <tr>\n",
       "      <th>DASH</th>\n",
       "      <td>Dash</td>\n",
       "      <td>X11</td>\n",
       "      <td>PoW/PoS</td>\n",
       "      <td>9.031294e+06</td>\n",
       "      <td>22000000</td>\n",
       "      <td>-0.380503</td>\n",
       "      <td>1.290229</td>\n",
       "      <td>-0.294675</td>\n",
       "      <td>1</td>\n",
       "    </tr>\n",
       "    <tr>\n",
       "      <th>XMR</th>\n",
       "      <td>Monero</td>\n",
       "      <td>CryptoNight-V7</td>\n",
       "      <td>PoW</td>\n",
       "      <td>1.720114e+07</td>\n",
       "      <td>0</td>\n",
       "      <td>-0.146952</td>\n",
       "      <td>-2.332572</td>\n",
       "      <td>0.283130</td>\n",
       "      <td>0</td>\n",
       "    </tr>\n",
       "    <tr>\n",
       "      <th>ETC</th>\n",
       "      <td>Ethereum Classic</td>\n",
       "      <td>Ethash</td>\n",
       "      <td>PoW</td>\n",
       "      <td>1.133597e+08</td>\n",
       "      <td>210000000</td>\n",
       "      <td>-0.135025</td>\n",
       "      <td>-2.067922</td>\n",
       "      <td>0.234574</td>\n",
       "      <td>0</td>\n",
       "    </tr>\n",
       "    <tr>\n",
       "      <th>ZEC</th>\n",
       "      <td>ZCash</td>\n",
       "      <td>Equihash</td>\n",
       "      <td>PoW</td>\n",
       "      <td>7.383056e+06</td>\n",
       "      <td>21000000</td>\n",
       "      <td>-0.157747</td>\n",
       "      <td>-2.107339</td>\n",
       "      <td>0.130903</td>\n",
       "      <td>0</td>\n",
       "    </tr>\n",
       "    <tr>\n",
       "      <th>BTS</th>\n",
       "      <td>Bitshares</td>\n",
       "      <td>SHA-512</td>\n",
       "      <td>PoS</td>\n",
       "      <td>2.741570e+09</td>\n",
       "      <td>3600570502</td>\n",
       "      <td>-0.231369</td>\n",
       "      <td>0.623154</td>\n",
       "      <td>-0.186293</td>\n",
       "      <td>1</td>\n",
       "    </tr>\n",
       "    <tr>\n",
       "      <th>DGB</th>\n",
       "      <td>DigiByte</td>\n",
       "      <td>Multiple</td>\n",
       "      <td>PoW</td>\n",
       "      <td>1.140622e+10</td>\n",
       "      <td>21000000000</td>\n",
       "      <td>0.182906</td>\n",
       "      <td>-1.921271</td>\n",
       "      <td>0.239106</td>\n",
       "      <td>0</td>\n",
       "    </tr>\n",
       "    <tr>\n",
       "      <th>BTCD</th>\n",
       "      <td>BitcoinDark</td>\n",
       "      <td>SHA-256</td>\n",
       "      <td>PoW/PoS</td>\n",
       "      <td>1.288862e+06</td>\n",
       "      <td>22000000</td>\n",
       "      <td>-0.302974</td>\n",
       "      <td>0.879307</td>\n",
       "      <td>-0.220646</td>\n",
       "      <td>1</td>\n",
       "    </tr>\n",
       "    <tr>\n",
       "      <th>XPY</th>\n",
       "      <td>PayCoin</td>\n",
       "      <td>SHA-256</td>\n",
       "      <td>PoS</td>\n",
       "      <td>1.199533e+07</td>\n",
       "      <td>12500000</td>\n",
       "      <td>-0.255714</td>\n",
       "      <td>0.514303</td>\n",
       "      <td>-0.045671</td>\n",
       "      <td>1</td>\n",
       "    </tr>\n",
       "    <tr>\n",
       "      <th>PRC</th>\n",
       "      <td>ProsperCoin</td>\n",
       "      <td>Scrypt</td>\n",
       "      <td>PoW</td>\n",
       "      <td>5.768310e+06</td>\n",
       "      <td>21000000</td>\n",
       "      <td>-0.159209</td>\n",
       "      <td>-1.066372</td>\n",
       "      <td>-0.028546</td>\n",
       "      <td>0</td>\n",
       "    </tr>\n",
       "    <tr>\n",
       "      <th>KOBO</th>\n",
       "      <td>KoboCoin</td>\n",
       "      <td>X15</td>\n",
       "      <td>PoW/PoS</td>\n",
       "      <td>2.554254e+07</td>\n",
       "      <td>350000000</td>\n",
       "      <td>-0.228902</td>\n",
       "      <td>1.885994</td>\n",
       "      <td>-0.452922</td>\n",
       "      <td>1</td>\n",
       "    </tr>\n",
       "    <tr>\n",
       "      <th>SPR</th>\n",
       "      <td>Spreadcoin</td>\n",
       "      <td>X11</td>\n",
       "      <td>PoW</td>\n",
       "      <td>1.114973e+07</td>\n",
       "      <td>20000000</td>\n",
       "      <td>-0.216945</td>\n",
       "      <td>-0.923070</td>\n",
       "      <td>0.074019</td>\n",
       "      <td>0</td>\n",
       "    </tr>\n",
       "    <tr>\n",
       "      <th>ARG</th>\n",
       "      <td>Argentum</td>\n",
       "      <td>Scrypt</td>\n",
       "      <td>PoW</td>\n",
       "      <td>1.220580e+07</td>\n",
       "      <td>64000000</td>\n",
       "      <td>-0.158810</td>\n",
       "      <td>-1.066389</td>\n",
       "      <td>-0.028548</td>\n",
       "      <td>0</td>\n",
       "    </tr>\n",
       "    <tr>\n",
       "      <th>AUR</th>\n",
       "      <td>Aurora Coin</td>\n",
       "      <td>Scrypt</td>\n",
       "      <td>PoW/PoS</td>\n",
       "      <td>1.813510e+07</td>\n",
       "      <td>16768584</td>\n",
       "      <td>-0.322628</td>\n",
       "      <td>1.146936</td>\n",
       "      <td>-0.397240</td>\n",
       "      <td>1</td>\n",
       "    </tr>\n",
       "    <tr>\n",
       "      <th>BLU</th>\n",
       "      <td>BlueCoin</td>\n",
       "      <td>Scrypt</td>\n",
       "      <td>PoW/PoS</td>\n",
       "      <td>6.354239e+08</td>\n",
       "      <td>0</td>\n",
       "      <td>-0.314886</td>\n",
       "      <td>1.147232</td>\n",
       "      <td>-0.397269</td>\n",
       "      <td>1</td>\n",
       "    </tr>\n",
       "  </tbody>\n",
       "</table>\n",
       "</div>"
      ],
      "text/plain": [
       "               CoinName       Algorithm ProofType  TotalCoinsMined  \\\n",
       "Index                                                                \n",
       "42              42 Coin          Scrypt   PoW/PoS     4.199995e+01   \n",
       "404             404Coin          Scrypt   PoW/PoS     1.055185e+09   \n",
       "1337          EliteCoin             X13   PoW/PoS     2.927942e+10   \n",
       "BTC             Bitcoin         SHA-256       PoW     1.792718e+07   \n",
       "ETH            Ethereum          Ethash       PoW     1.076842e+08   \n",
       "LTC            Litecoin          Scrypt       PoW     6.303924e+07   \n",
       "DASH               Dash             X11   PoW/PoS     9.031294e+06   \n",
       "XMR              Monero  CryptoNight-V7       PoW     1.720114e+07   \n",
       "ETC    Ethereum Classic          Ethash       PoW     1.133597e+08   \n",
       "ZEC               ZCash        Equihash       PoW     7.383056e+06   \n",
       "BTS           Bitshares         SHA-512       PoS     2.741570e+09   \n",
       "DGB            DigiByte        Multiple       PoW     1.140622e+10   \n",
       "BTCD        BitcoinDark         SHA-256   PoW/PoS     1.288862e+06   \n",
       "XPY             PayCoin         SHA-256       PoS     1.199533e+07   \n",
       "PRC         ProsperCoin          Scrypt       PoW     5.768310e+06   \n",
       "KOBO           KoboCoin             X15   PoW/PoS     2.554254e+07   \n",
       "SPR          Spreadcoin             X11       PoW     1.114973e+07   \n",
       "ARG            Argentum          Scrypt       PoW     1.220580e+07   \n",
       "AUR         Aurora Coin          Scrypt   PoW/PoS     1.813510e+07   \n",
       "BLU            BlueCoin          Scrypt   PoW/PoS     6.354239e+08   \n",
       "\n",
       "      TotalCoinSupply      PC 1      PC 2      PC 3  Class  \n",
       "Index                                                       \n",
       "42                 42 -0.322983  1.146935 -0.397238      1  \n",
       "404         532000000 -0.305618  1.147182 -0.397317      1  \n",
       "1337     314159265359  2.421217  1.749948 -0.454081      1  \n",
       "BTC          21000000 -0.139223 -1.333985  0.148047      0  \n",
       "ETH                 0 -0.136645 -2.067827  0.234586      0  \n",
       "LTC          84000000 -0.158015 -1.066375 -0.028552      0  \n",
       "DASH         22000000 -0.380503  1.290229 -0.294675      1  \n",
       "XMR                 0 -0.146952 -2.332572  0.283130      0  \n",
       "ETC         210000000 -0.135025 -2.067922  0.234574      0  \n",
       "ZEC          21000000 -0.157747 -2.107339  0.130903      0  \n",
       "BTS        3600570502 -0.231369  0.623154 -0.186293      1  \n",
       "DGB       21000000000  0.182906 -1.921271  0.239106      0  \n",
       "BTCD         22000000 -0.302974  0.879307 -0.220646      1  \n",
       "XPY          12500000 -0.255714  0.514303 -0.045671      1  \n",
       "PRC          21000000 -0.159209 -1.066372 -0.028546      0  \n",
       "KOBO        350000000 -0.228902  1.885994 -0.452922      1  \n",
       "SPR          20000000 -0.216945 -0.923070  0.074019      0  \n",
       "ARG          64000000 -0.158810 -1.066389 -0.028548      0  \n",
       "AUR          16768584 -0.322628  1.146936 -0.397240      1  \n",
       "BLU                 0 -0.314886  1.147232 -0.397269      1  "
      ]
     },
     "execution_count": 105,
     "metadata": {},
     "output_type": "execute_result"
    }
   ],
   "source": [
    "# Create a new DataFrame including predicted clusters and cryptocurrencies features.\n",
    "# Concatentate the crypto_df and pcs_df DataFrames on the same columns.\n",
    "clustered_df = crypto_data.join(crypto_pca_df, on=crypto_data.index, how='outer').drop(columns=\"key_0\")\n",
    "\n",
    "#  Add a new column, \"Class\" to the clustered_df DataFrame that holds the predictions.\n",
    "clustered_df[\"Class\"] = model.labels_\n",
    "\n",
    "# Print the shape of the clustered_df\n",
    "clustered_df.head(20)"
   ]
  },
  {
   "cell_type": "code",
   "execution_count": 128,
   "id": "d9d38685",
   "metadata": {},
   "outputs": [
    {
     "data": {
      "application/vnd.plotly.v1+json": {
       "config": {
        "plotlyServerURL": "https://plot.ly"
       },
       "data": [
        {
         "customdata": [
          [
           "Scrypt"
          ],
          [
           "Scrypt"
          ],
          [
           "X13"
          ],
          [
           "X11"
          ],
          [
           "SHA-512"
          ],
          [
           "SHA-256"
          ],
          [
           "SHA-256"
          ],
          [
           "X15"
          ],
          [
           "Scrypt"
          ],
          [
           "Scrypt"
          ],
          [
           "Scrypt"
          ],
          [
           "Scrypt"
          ],
          [
           "Scrypt"
          ],
          [
           "Scrypt"
          ],
          [
           "Groestl"
          ],
          [
           "PoS"
          ],
          [
           "Scrypt"
          ],
          [
           "Scrypt"
          ],
          [
           "X11"
          ],
          [
           "X11"
          ],
          [
           "SHA3"
          ],
          [
           "Scrypt"
          ],
          [
           "SHA-256"
          ],
          [
           "Scrypt"
          ],
          [
           "X13"
          ],
          [
           "X13"
          ],
          [
           "NeoScrypt"
          ],
          [
           "Scrypt"
          ],
          [
           "Scrypt"
          ],
          [
           "Scrypt"
          ],
          [
           "X11"
          ],
          [
           "X11"
          ],
          [
           "Multiple"
          ],
          [
           "PHI1612"
          ],
          [
           "X11"
          ],
          [
           "Scrypt"
          ],
          [
           "Scrypt"
          ],
          [
           "Scrypt"
          ],
          [
           "X11"
          ],
          [
           "Multiple"
          ],
          [
           "X13"
          ],
          [
           "Scrypt"
          ],
          [
           "Shabal256"
          ],
          [
           "Counterparty"
          ],
          [
           "SHA-256"
          ],
          [
           "Groestl"
          ],
          [
           "Scrypt"
          ],
          [
           "X13"
          ],
          [
           "Scrypt"
          ],
          [
           "Scrypt"
          ],
          [
           "X13"
          ],
          [
           "X11"
          ],
          [
           "Scrypt"
          ],
          [
           "X11"
          ],
          [
           "SHA3"
          ],
          [
           "QUAIT"
          ],
          [
           "X11"
          ],
          [
           "Scrypt"
          ],
          [
           "X13"
          ],
          [
           "SHA-256"
          ],
          [
           "X15"
          ],
          [
           "BLAKE256"
          ],
          [
           "SHA-256"
          ],
          [
           "X11"
          ],
          [
           "SHA-256"
          ],
          [
           "NIST5"
          ],
          [
           "Scrypt"
          ],
          [
           "Scrypt"
          ],
          [
           "X11"
          ],
          [
           "Scrypt"
          ],
          [
           "SHA-256"
          ],
          [
           "Scrypt"
          ],
          [
           "PoS"
          ],
          [
           "X11"
          ],
          [
           "SHA-256"
          ],
          [
           "SHA-256"
          ],
          [
           "NIST5"
          ],
          [
           "X11"
          ],
          [
           "POS 3.0"
          ],
          [
           "Scrypt"
          ],
          [
           "Scrypt"
          ],
          [
           "Scrypt"
          ],
          [
           "X13"
          ],
          [
           "X11"
          ],
          [
           "X11"
          ],
          [
           "Scrypt"
          ],
          [
           "SHA-256"
          ],
          [
           "X11"
          ],
          [
           "Scrypt"
          ],
          [
           "Scrypt"
          ],
          [
           "Scrypt"
          ],
          [
           "Scrypt"
          ],
          [
           "SHA-256D"
          ],
          [
           "PoS"
          ],
          [
           "Scrypt"
          ],
          [
           "X11"
          ],
          [
           "PoS"
          ],
          [
           "X13"
          ],
          [
           "X14"
          ],
          [
           "PoS"
          ],
          [
           "SHA-256D"
          ],
          [
           "DPoS"
          ],
          [
           "X11"
          ],
          [
           "X13"
          ],
          [
           "X11"
          ],
          [
           "PoS"
          ],
          [
           "Scrypt"
          ],
          [
           "Scrypt"
          ],
          [
           "PoS"
          ],
          [
           "X11"
          ],
          [
           "SHA-256"
          ],
          [
           "Scrypt"
          ],
          [
           "X11"
          ],
          [
           "Scrypt"
          ],
          [
           "Scrypt"
          ],
          [
           "X11"
          ],
          [
           "Scrypt"
          ],
          [
           "Scrypt"
          ],
          [
           "Scrypt"
          ],
          [
           "Scrypt"
          ],
          [
           "Quark"
          ],
          [
           "QuBit"
          ],
          [
           "Scrypt"
          ],
          [
           "SHA-256"
          ],
          [
           "X11"
          ],
          [
           "Scrypt"
          ],
          [
           "Scrypt"
          ],
          [
           "Scrypt"
          ],
          [
           "Scrypt"
          ],
          [
           "X13"
          ],
          [
           "Scrypt"
          ],
          [
           "Scrypt"
          ],
          [
           "X11"
          ],
          [
           "Blake2S"
          ],
          [
           "X11"
          ],
          [
           "PoS"
          ],
          [
           "X11"
          ],
          [
           "PoS"
          ],
          [
           "X11"
          ],
          [
           "Scrypt"
          ],
          [
           "Scrypt"
          ],
          [
           "Scrypt"
          ],
          [
           "SHA-256"
          ],
          [
           "X11"
          ],
          [
           "Scrypt"
          ],
          [
           "PoS"
          ],
          [
           "Scrypt"
          ],
          [
           "X15"
          ],
          [
           "SHA-256"
          ],
          [
           "POS 3.0"
          ],
          [
           "536"
          ],
          [
           "NIST5"
          ],
          [
           "NIST5"
          ],
          [
           "Skein"
          ],
          [
           "X13"
          ],
          [
           "Scrypt"
          ],
          [
           "X13"
          ],
          [
           "SkunkHash v2 Raptor"
          ],
          [
           "Skein"
          ],
          [
           "X11"
          ],
          [
           "Scrypt"
          ],
          [
           "VeChainThor Authority"
          ],
          [
           "PoS"
          ],
          [
           "Scrypt"
          ],
          [
           "Scrypt"
          ],
          [
           "SHA-512"
          ],
          [
           "Ouroboros"
          ],
          [
           "X11"
          ],
          [
           "NeoScrypt"
          ],
          [
           "Scrypt"
          ],
          [
           "Lyra2REv2"
          ],
          [
           "Scrypt"
          ],
          [
           "SHA-256"
          ],
          [
           "NIST5"
          ],
          [
           "PHI1612"
          ],
          [
           "Scrypt"
          ],
          [
           "Quark"
          ],
          [
           "POS 2.0"
          ],
          [
           "Scrypt"
          ],
          [
           "SHA-256"
          ],
          [
           "Quark"
          ],
          [
           "X11"
          ],
          [
           "DPoS"
          ],
          [
           "NIST5"
          ],
          [
           "X13"
          ],
          [
           "Scrypt"
          ],
          [
           "NIST5"
          ],
          [
           "Quark"
          ],
          [
           "Scrypt"
          ],
          [
           "Scrypt"
          ],
          [
           "X11"
          ],
          [
           "Scrypt"
          ],
          [
           "Scrypt"
          ],
          [
           "Quark"
          ],
          [
           "Scrypt"
          ],
          [
           "Scrypt"
          ],
          [
           "X11"
          ],
          [
           "Scrypt"
          ],
          [
           "POS 3.0"
          ],
          [
           "Scrypt"
          ],
          [
           "Scrypt"
          ],
          [
           "X11"
          ],
          [
           "SHA-256"
          ],
          [
           "X13"
          ],
          [
           "Skein"
          ],
          [
           "X11"
          ],
          [
           "Skein"
          ],
          [
           "C11"
          ],
          [
           "Proof-of-Authority"
          ],
          [
           "X11"
          ],
          [
           "XEVAN"
          ],
          [
           "Scrypt"
          ],
          [
           "VBFT"
          ],
          [
           "PHI1612"
          ],
          [
           "NIST5"
          ],
          [
           "Scrypt"
          ],
          [
           "Scrypt"
          ],
          [
           "Scrypt"
          ],
          [
           "Green Protocol"
          ],
          [
           "PoS"
          ],
          [
           "Scrypt"
          ],
          [
           "Semux BFT consensus"
          ],
          [
           "Quark"
          ],
          [
           "PoS"
          ],
          [
           "X16R"
          ],
          [
           "Scrypt"
          ],
          [
           "XEVAN"
          ],
          [
           "Scrypt"
          ],
          [
           "Scrypt"
          ],
          [
           "Scrypt"
          ],
          [
           "X11"
          ],
          [
           "SHA-256D"
          ],
          [
           "Scrypt"
          ],
          [
           "Scrypt"
          ],
          [
           "X11"
          ],
          [
           "Scrypt"
          ],
          [
           "SHA-256D"
          ],
          [
           "Scrypt"
          ],
          [
           "X15"
          ],
          [
           "Scrypt"
          ],
          [
           "Quark"
          ],
          [
           "Scrypt"
          ],
          [
           "SHA-256"
          ],
          [
           "DPoS"
          ],
          [
           "Scrypt"
          ],
          [
           "X16R"
          ],
          [
           "Quark"
          ],
          [
           "Quark"
          ],
          [
           "Scrypt"
          ],
          [
           "Lyra2REv2"
          ],
          [
           "Quark"
          ],
          [
           "Scrypt"
          ],
          [
           "X11"
          ],
          [
           "X11"
          ],
          [
           "Scrypt"
          ],
          [
           "PoS"
          ],
          [
           "Keccak"
          ],
          [
           "X11"
          ],
          [
           "Tribus"
          ],
          [
           "Scrypt"
          ],
          [
           "NeoScrypt"
          ],
          [
           "XEVAN"
          ],
          [
           "SHA-512"
          ],
          [
           "Quark"
          ],
          [
           "XEVAN"
          ],
          [
           "X11"
          ],
          [
           "Quark"
          ],
          [
           "Scrypt"
          ],
          [
           "Quark"
          ],
          [
           "Quark"
          ],
          [
           "Scrypt"
          ],
          [
           "X11"
          ],
          [
           "Scrypt"
          ],
          [
           "XEVAN"
          ],
          [
           "SHA-256D"
          ],
          [
           "X11"
          ],
          [
           "X11"
          ],
          [
           "DPoS"
          ],
          [
           "Scrypt"
          ],
          [
           "X11"
          ],
          [
           "Scrypt"
          ],
          [
           "Scrypt"
          ],
          [
           "SHA-256"
          ],
          [
           "Scrypt"
          ],
          [
           "X11"
          ],
          [
           "Scrypt"
          ],
          [
           "SHA-256"
          ],
          [
           "X11"
          ],
          [
           "Scrypt"
          ],
          [
           "Scrypt"
          ],
          [
           "X11"
          ],
          [
           "Scrypt"
          ],
          [
           "PoS"
          ],
          [
           "X11"
          ],
          [
           "SHA-256"
          ],
          [
           "DPoS"
          ],
          [
           "Scrypt"
          ],
          [
           "Scrypt"
          ],
          [
           "NeoScrypt"
          ],
          [
           "SHA3-256"
          ],
          [
           "X13"
          ],
          [
           "PHI2"
          ],
          [
           "DPoS"
          ],
          [
           "DPoS"
          ],
          [
           "SHA-256"
          ],
          [
           "Lyra2Z"
          ],
          [
           "Leased POS"
          ],
          [
           "PoS"
          ],
          [
           "Scrypt"
          ],
          [
           "PoS"
          ],
          [
           "SHA-256"
          ],
          [
           "Scrypt"
          ],
          [
           "Scrypt"
          ],
          [
           "Scrypt"
          ]
         ],
         "hovertemplate": "<b>%{hovertext}</b><br><br>Class=%{marker.color}<br>PC 1=%{x}<br>PC 2=%{y}<br>PC 3=%{z}<br>Algorithm=%{customdata[0]}<extra></extra>",
         "hovertext": [
          "42 Coin",
          "404Coin",
          "EliteCoin",
          "Dash",
          "Bitshares",
          "BitcoinDark",
          "PayCoin",
          "KoboCoin",
          "Aurora Coin",
          "BlueCoin",
          "EnergyCoin",
          "BitBar",
          "CryptoBullion",
          "CasinoCoin",
          "Diamond",
          "Exclusive Coin",
          "FlutterCoin",
          "HoboNickels",
          "HyperStake",
          "IOCoin",
          "MaxCoin",
          "MintCoin",
          "MazaCoin",
          "Nautilus Coin",
          "NavCoin",
          "OpalCoin",
          "Orbitcoin",
          "PotCoin",
          "PhoenixCoin",
          "Reddcoin",
          "SuperCoin",
          "SyncCoin",
          "TeslaCoin",
          "TittieCoin",
          "TorCoin",
          "UnitaryStatus Dollar",
          "UltraCoin",
          "VeriCoin",
          "X11 Coin",
          "Crypti",
          "StealthCoin",
          "ZCC Coin",
          "BurstCoin",
          "StorjCoin",
          "Neutron",
          "FairCoin",
          "RubyCoin",
          "Kore",
          "Dnotes",
          "8BIT Coin",
          "Sativa Coin",
          "Ucoin",
          "Vtorrent",
          "IslaCoin",
          "Nexus",
          "Droidz",
          "Squall Coin",
          "Diggits",
          "Paycon",
          "Emercoin",
          "EverGreenCoin",
          "Decred",
          "EDRCoin",
          "Hitcoin",
          "DubaiCoin",
          "PWR Coin",
          "BillaryCoin",
          "GPU Coin",
          "EuropeCoin",
          "ZeitCoin",
          "SwingCoin",
          "SafeExchangeCoin",
          "Nebuchadnezzar",
          "Ratecoin",
          "Revenu",
          "Clockcoin",
          "VIP Tokens",
          "BitSend",
          "Let it Ride",
          "PutinCoin",
          "iBankCoin",
          "Frankywillcoin",
          "MudraCoin",
          "Lutetium Coin",
          "GoldBlocks",
          "CarterCoin",
          "BitTokens",
          "MustangCoin",
          "ZoneCoin",
          "RootCoin",
          "BitCurrency",
          "Swiscoin",
          "BuzzCoin",
          "Opair",
          "PesoBit",
          "Halloween Coin",
          "CoffeeCoin",
          "RoyalCoin",
          "GanjaCoin V2",
          "TeamUP",
          "LanaCoin",
          "ARK",
          "InsaneCoin",
          "EmberCoin",
          "XenixCoin",
          "FreeCoin",
          "PLNCoin",
          "AquariusCoin",
          "Creatio",
          "Eternity",
          "Eurocoin",
          "BitcoinFast",
          "Stakenet",
          "BitConnect Coin",
          "MoneyCoin",
          "Enigma",
          "Russiacoin",
          "PandaCoin",
          "GameUnits",
          "GAKHcoin",
          "Allsafe",
          "LiteCreed",
          "Klingon Empire Darsek",
          "Internet of People",
          "KushCoin",
          "Printerium",
          "Impeach",
          "Zilbercoin",
          "FirstCoin",
          "FindCoin",
          "OpenChat",
          "RenosCoin",
          "VirtacoinPlus",
          "TajCoin",
          "Impact",
          "Atmos",
          "HappyCoin",
          "MacronCoin",
          "Condensate",
          "Independent Money System",
          "ArgusCoin",
          "LomoCoin",
          "ProCurrency",
          "GoldReserve",
          "GrowthCoin",
          "Phreak",
          "Degas Coin",
          "HTML5 Coin",
          "Ultimate Secure Cash",
          "QTUM",
          "Espers",
          "Denarius",
          "Virta Unique Coin",
          "Bitcoin Planet",
          "BritCoin",
          "Linda",
          "DeepOnion",
          "Signatum",
          "Cream",
          "Monoeci",
          "Draftcoin",
          "Vechain",
          "Stakecoin",
          "CoinonatX",
          "Ethereum Dark",
          "Obsidian",
          "Cardano",
          "Regalcoin",
          "TrezarCoin",
          "TerraNovaCoin",
          "Rupee",
          "WomenCoin",
          "Theresa May Coin",
          "NamoCoin",
          "LUXCoin",
          "Xios",
          "Bitcloud 2.0",
          "KekCoin",
          "BlackholeCoin",
          "Infinity Economics",
          "Alqo",
          "Magnet",
          "Lamden Tau",
          "Electra",
          "Bitcoin Diamond",
          "Cash & Back Coin",
          "Bulwark",
          "Kalkulus",
          "GermanCoin",
          "LiteCoin Ultra",
          "PhantomX",
          "Accolade",
          "OmiseGO Classic",
          "Digiwage",
          "Trollcoin",
          "Litecoin Plus",
          "Monkey Project",
          "ECC",
          "TokenPay",
          "My Big Coin",
          "Unified Society USDEX",
          "BitSoar Coin",
          "Credence Coin",
          "Tokyo Coin",
          "BashCoin",
          "DigiMoney",
          "Lizus Payment",
          "Stipend",
          "Poa Network",
          "Pushi",
          "Ellerium",
          "Velox",
          "Ontology",
          "Seraph",
          "Bitspace",
          "Briacoin",
          "Ignition",
          "MedicCoin",
          "Bitcoin Green",
          "Deviant Coin",
          "Abjcoin",
          "Semux",
          "Carebit",
          "Zealium",
          "Proton",
          "iDealCash",
          "Bitcoin Incognito",
          "HollyWoodCoin",
          "Parlay",
          "Listerclassic Coin",
          "BetKings",
          "Cognitio",
          "Mercoin",
          "Swisscoin",
          "Reliance",
          "Xt3ch",
          "TheVig",
          "EmaratCoin",
          "Dekado",
          "Lynx",
          "Poseidon Quark",
          "MYCE",
          "BitcoinWSpectrum",
          "Muse",
          "GambleCoin",
          "Trivechain",
          "Dystem",
          "Giant",
          "Peony Coin",
          "Absolute Coin",
          "Vitae",
          "TPCash",
          "ARENON",
          "EUNO",
          "MMOCoin",
          "Ketan",
          "XDNA",
          "PAXEX",
          "Averopay",
          "ThunderStake",
          "SimpleBank",
          "Bettex coin",
          "TWIST",
          "DACH Coin",
          "BitMoney",
          "Junson Ming Chan Coin",
          "HerbCoin",
          "Oduwa",
          "Galilel",
          "Crypto Sports",
          "Credit",
          "Dash Platinum",
          "Nasdacoin",
          "Beetle Coin",
          "Titan Coin",
          "Award",
          "Insane Coin",
          "ALAX",
          "LiteDoge",
          "TruckCoin",
          "OrangeCoin",
          "BitstarCoin",
          "NeosCoin",
          "HyperCoin",
          "PinkCoin",
          "AudioCoin",
          "IncaKoin",
          "Piggy Coin",
          "Genstake",
          "XiaoMiCoin",
          "CapriCoin",
          " ClubCoin",
          "Radium",
          "Creditbit ",
          "OKCash",
          "Lisk",
          "HiCoin",
          "WhiteCoin",
          "FriendshipCoin",
          "Fiii",
          "Triangles Coin",
          "Gexan",
          "EOS",
          "Oxycoin",
          "TigerCash",
          "LAPO",
          "Waves",
          "Particl",
          "ShardCoin",
          "Nxt",
          "ZEPHYR",
          "Gapcoin",
          "BitcoinPlus",
          "DivotyCoin"
         ],
         "legendgroup": "1",
         "marker": {
          "color": [
           1,
           1,
           1,
           1,
           1,
           1,
           1,
           1,
           1,
           1,
           1,
           1,
           1,
           1,
           1,
           1,
           1,
           1,
           1,
           1,
           1,
           1,
           1,
           1,
           1,
           1,
           1,
           1,
           1,
           1,
           1,
           1,
           1,
           1,
           1,
           1,
           1,
           1,
           1,
           1,
           1,
           1,
           1,
           1,
           1,
           1,
           1,
           1,
           1,
           1,
           1,
           1,
           1,
           1,
           1,
           1,
           1,
           1,
           1,
           1,
           1,
           1,
           1,
           1,
           1,
           1,
           1,
           1,
           1,
           1,
           1,
           1,
           1,
           1,
           1,
           1,
           1,
           1,
           1,
           1,
           1,
           1,
           1,
           1,
           1,
           1,
           1,
           1,
           1,
           1,
           1,
           1,
           1,
           1,
           1,
           1,
           1,
           1,
           1,
           1,
           1,
           1,
           1,
           1,
           1,
           1,
           1,
           1,
           1,
           1,
           1,
           1,
           1,
           1,
           1,
           1,
           1,
           1,
           1,
           1,
           1,
           1,
           1,
           1,
           1,
           1,
           1,
           1,
           1,
           1,
           1,
           1,
           1,
           1,
           1,
           1,
           1,
           1,
           1,
           1,
           1,
           1,
           1,
           1,
           1,
           1,
           1,
           1,
           1,
           1,
           1,
           1,
           1,
           1,
           1,
           1,
           1,
           1,
           1,
           1,
           1,
           1,
           1,
           1,
           1,
           1,
           1,
           1,
           1,
           1,
           1,
           1,
           1,
           1,
           1,
           1,
           1,
           1,
           1,
           1,
           1,
           1,
           1,
           1,
           1,
           1,
           1,
           1,
           1,
           1,
           1,
           1,
           1,
           1,
           1,
           1,
           1,
           1,
           1,
           1,
           1,
           1,
           1,
           1,
           1,
           1,
           1,
           1,
           1,
           1,
           1,
           1,
           1,
           1,
           1,
           1,
           1,
           1,
           1,
           1,
           1,
           1,
           1,
           1,
           1,
           1,
           1,
           1,
           1,
           1,
           1,
           1,
           1,
           1,
           1,
           1,
           1,
           1,
           1,
           1,
           1,
           1,
           1,
           1,
           1,
           1,
           1,
           1,
           1,
           1,
           1,
           1,
           1,
           1,
           1,
           1,
           1,
           1,
           1,
           1,
           1,
           1,
           1,
           1,
           1,
           1,
           1,
           1,
           1,
           1,
           1,
           1,
           1,
           1,
           1,
           1,
           1,
           1,
           1,
           1,
           1,
           1,
           1,
           1,
           1,
           1,
           1,
           1,
           1,
           1,
           1,
           1,
           1,
           1,
           1,
           1,
           1,
           1,
           1,
           1,
           1,
           1,
           1,
           1,
           1,
           1,
           1,
           1,
           1,
           1,
           1,
           1,
           1,
           1
          ],
          "coloraxis": "coloraxis",
          "symbol": "circle"
         },
         "mode": "markers",
         "name": "1",
         "scene": "scene",
         "showlegend": true,
         "type": "scatter3d",
         "x": [
          -0.32298295565446117,
          -0.3056183045633186,
          2.421216671567056,
          -0.38050293542977415,
          -0.23136915730639318,
          -0.30297358244827965,
          -0.25571401883546163,
          -0.22890202248991434,
          -0.3226283449360726,
          -0.3148860631481293,
          -0.32141482792186904,
          -0.32297873070497457,
          -0.32296234909849014,
          0.7688181253233756,
          -0.36132923736162664,
          -0.34139727754329047,
          -0.2811939220450026,
          -0.32096149804310437,
          -0.31219840744060895,
          -0.38039309986863806,
          -0.3955697870105034,
          -0.00445184965769903,
          -0.2647668354285384,
          -0.2754644760048544,
          -0.2652728656489445,
          -0.265921850844956,
          -0.34115679586082853,
          -0.31705158161759284,
          -0.321318617882971,
          0.05057085677329733,
          -0.33294081834625283,
          -0.3807800562857507,
          -0.23172647948046995,
          -0.2892103718558663,
          -0.3806881687833413,
          -0.297193226326871,
          -0.3216061890234961,
          -0.2687231370538156,
          -0.3806509921651365,
          -0.23221159326305446,
          -0.26569328389984254,
          -0.31373074031687337,
          0.17122965162951648,
          -0.31713323980413943,
          -0.3021526406498785,
          -0.36072578711634273,
          -0.275443440365554,
          -0.2660008122527381,
          -0.2698811848424453,
          -0.3229642525251459,
          -0.2659508849690793,
          -0.3334053571305758,
          -0.3226877542588825,
          -0.3807607902666549,
          -0.38252868798856526,
          -0.3911113184415276,
          -0.3782548472496198,
          -0.27377894328382374,
          -0.2654530379039358,
          -0.29523692837254073,
          -0.23143961967524562,
          -0.06542725091159977,
          -0.3029432447078497,
          -0.04508018463289982,
          -0.3030093634554802,
          -0.21710906796860155,
          -0.3225588990702878,
          -0.27364568687022955,
          -0.3778187473086754,
          0.9245948945301842,
          -0.3028016346966848,
          0.007643560752105167,
          -0.3410674720957883,
          -0.3785130276829647,
          -0.3014961412052847,
          -0.2990723555495608,
          -0.3436927426938063,
          -0.3794453814149276,
          -0.32666630025946686,
          -0.29788922272172963,
          -0.322598700522891,
          -0.3209720608643036,
          -0.2173848608913614,
          -0.32037537674947586,
          -0.38021343341437663,
          -0.32176993936134196,
          -0.3029897849725524,
          -0.3807495993658264,
          -0.32279536028780176,
          -0.3229582374503075,
          -0.273628727405101,
          -0.23680785047247774,
          0.034644858240207715,
          -0.33998115766972026,
          -0.3225557899923346,
          -0.36635773724404974,
          -0.33927996895575685,
          -0.21887158845526894,
          -0.41362908047781927,
          -0.3390252952233284,
          -0.2930721847899052,
          3.880024934361826,
          -0.3803253517440396,
          0.9149141693931145,
          -0.38070259227017866,
          -0.3404642034053694,
          -0.3224812891887402,
          -0.3226423518601959,
          -0.3410674720957883,
          -0.3802607512593165,
          -0.3028465206567208,
          -0.3224819040547555,
          -0.34488700202004685,
          -0.32263549973105293,
          -0.31805082660536704,
          -0.3807328654515333,
          -0.3218154326571935,
          0.39459387099211257,
          -0.32284293814518894,
          -0.32291627944277557,
          -0.3434491875866787,
          -0.33904833499607195,
          -0.3189943527979267,
          -0.30296518365853337,
          -0.3806390617995137,
          -0.3226849890584572,
          -0.3228174587345463,
          -0.27534744276384987,
          -0.25926183240669004,
          -0.21862978373523112,
          -0.3028740001517353,
          -0.27507686638931533,
          -0.3798757072735189,
          -0.39650665086671166,
          -0.37856006073047216,
          -0.33924105612390854,
          -0.3797691981014019,
          -0.3334079564719423,
          -0.3755465310222195,
          -0.32275828480149976,
          -0.32275764351492253,
          -0.31561013567359497,
          0.2978059726495428,
          -0.3802666142157733,
          -0.25729617409472005,
          -0.341103517703924,
          -0.32193731509898715,
          0.9492725435365652,
          -0.2543532427342086,
          -0.32539391158378045,
          0.633968694316946,
          -0.3452922721217979,
          -0.3437330767151338,
          -0.40961560241488426,
          -0.2656229786265595,
          0.16059461592941732,
          -0.26569649062302336,
          -0.33135229004168604,
          -0.40909918123001715,
          -0.3805498799047173,
          -0.2754238021058759,
          4.648425576106453,
          -0.3409649081598209,
          -0.32237852724180727,
          -0.32289849888237476,
          -0.2918352779082717,
          0.719517927112294,
          -0.3804886433044522,
          -0.3359517552222329,
          -0.3228525218724824,
          -0.30227633407654153,
          0.47867343887224056,
          -0.3012424647717602,
          -0.32943637036565027,
          -0.37347100637587183,
          -0.3228008686441156,
          -0.3890221926460191,
          -0.3368877361562673,
          -0.3226655195692673,
          -0.07497834309289476,
          -0.389628762326839,
          -0.3792325640582754,
          3.885079583171055,
          0.23745076061731368,
          -0.26222934295435024,
          -0.32002187720384534,
          -0.2978530012261158,
          -0.34333031918006374,
          0.10792434756309272,
          -0.32177070477210684,
          -0.37983612344219214,
          -0.3225436084599762,
          -0.32183103066348595,
          -0.3424618668146407,
          -0.3088220405134724,
          -0.3229215772680199,
          -0.33337610619016766,
          0.2269340697638986,
          -0.3269601144500807,
          -0.2971521113928453,
          -0.31828141006544686,
          -0.25737227833654425,
          -0.3029242377851572,
          -0.21009411806986247,
          -0.4097599664995915,
          -0.3805510430166945,
          -0.4098926182248066,
          -0.3610975281998883,
          -0.4634908350585074,
          -0.3805682938593202,
          -0.33400644081478154,
          -0.2745505731060059,
          -0.3162469518771317,
          -0.3737657703673086,
          -0.3448750761713024,
          -0.32295008160474953,
          -0.32293106065218996,
          -0.2687005716811084,
          -0.32721508082426753,
          -0.3405426411041999,
          -0.3226360606434565,
          4.063979621655696,
          -0.38763290203146156,
          -0.3407392087566527,
          -0.3029994516823879,
          -0.26735987429373753,
          -0.33163908183430196,
          -0.27510508944780476,
          -0.2755206370877845,
          -0.3220694987679448,
          -0.3333821879931599,
          -0.36209057960421087,
          -0.3219235406299837,
          -0.11787160175659302,
          -0.3330377741763686,
          -0.275368489810492,
          -0.36099403725447893,
          -0.32208894500285945,
          -0.1835637611535407,
          2.3686088661617073,
          -0.3388709028742485,
          -0.32033074350481716,
          -0.25448371654209967,
          1.0784637733122835,
          -0.2755699143205649,
          -0.3495016067292234,
          -0.34344876424843773,
          -0.39077345098090666,
          -0.15143089229160306,
          -0.3493954370323741,
          -0.342115370180268,
          -0.31554764893706644,
          -0.3329362644822221,
          -0.38001965489029577,
          -0.2725013802127526,
          -0.3398038457750342,
          -0.3326852971924252,
          -0.33279291571946823,
          -0.3617467727276274,
          -0.17688039215073265,
          -0.3410405647493877,
          -0.2868058417928983,
          -0.28880526137034535,
          -0.34323152450126915,
          0.4739048156914463,
          -0.11428939135996027,
          -0.3900390706581498,
          -0.3226399580347447,
          -0.3905138549448563,
          -0.3435705647406656,
          0.6208242900175515,
          -0.33343272271778823,
          -0.3221023604601084,
          -0.3282355749700439,
          -0.31390008387640334,
          -0.377489677386781,
          -0.3802561198274939,
          3.8978343187241515,
          0.1300438009418213,
          -0.37768907647081623,
          -0.3214645944267831,
          -0.32232108493602357,
          -0.25574828626967494,
          -0.32286023086786764,
          -0.37153661484763373,
          -0.23313824509727019,
          -0.07315537431670086,
          -0.36711576404260804,
          -0.3221079093489378,
          -0.314884371241231,
          -0.376681970832606,
          -0.32048392210838267,
          -0.3413546609268349,
          -0.3458369372627289,
          -0.3014270302030071,
          3.880432648713158,
          -0.07463207037865574,
          -0.3175618390182943,
          -0.3407681039809699,
          -0.5111705671820511,
          -0.2661123030847029,
          -0.41915894083461736,
          3.8907296578765425,
          3.892027326227112,
          -0.2358499937438543,
          0.6302322529806665,
          -0.5252239147640171,
          -0.341287757822625,
          -0.2688424274995239,
          -0.36893178012175754,
          2.5838855994155225,
          -0.3209510851492334,
          -0.2757808372613612,
          -0.32197245960864923
         ],
         "y": [
          1.1469351758226556,
          1.1471815790144015,
          1.7499478559982637,
          1.290228858737239,
          0.6231543749544324,
          0.8793074049772361,
          0.5143025528074404,
          1.8859937896767238,
          1.1469358859777188,
          1.1472316430927758,
          1.1469925927574143,
          1.1469349645698692,
          1.1469351984016172,
          0.7374693750479477,
          0.9702529712518801,
          1.3627422717360336,
          0.26479134973112234,
          1.1469213562514682,
          0.9260037161862313,
          1.2902328803598007,
          2.0489728976234356,
          0.791855961518937,
          0.8789516891905768,
          0.7819210071562903,
          1.8815340925381834,
          1.8815103299836837,
          0.5646798813256448,
          1.1468449297282342,
          1.1469243834410003,
          1.1606128265624238,
          0.9252442340399067,
          1.290234814352865,
          -0.06860819830393212,
          1.065992974594882,
          1.2902308599442314,
          1.1467083298967302,
          1.1469123901215184,
          0.35920524791911096,
          1.2902355149821263,
          -0.06855276475584117,
          1.8815186989488366,
          1.146541985564816,
          1.3941463468800064,
          1.5003165176384947,
          0.8793037935707151,
          0.9702782725299269,
          0.7819336204813853,
          1.8814986553011568,
          0.7817713023353143,
          1.146935860667368,
          1.8815019473049,
          0.925212585787743,
          1.1469313454429058,
          1.2902355205089728,
          2.1478471296465464,
          2.082402483041781,
          0.8613285445694996,
          0.7819213699829144,
          1.8814908975614932,
          0.8788748256141597,
          1.886137812494185,
          0.9920831491955815,
          0.8793085157918045,
          1.283092918483175,
          0.8793145123932347,
          1.575735827153214,
          1.1469199603566915,
          0.781837643521903,
          1.290062170749253,
          0.753408952119105,
          0.8793005255610835,
          0.7373055263826572,
          1.3627397083508535,
          1.2902629252324216,
          0.8792145788091021,
          0.8790820724876839,
          1.5710350970387692,
          1.2901819417410494,
          1.3218795262602545,
          1.146390062187981,
          1.1469167951233619,
          1.1469356086864952,
          1.516398905166426,
          0.9252234194790042,
          1.2902189639674388,
          1.14691371400865,
          0.879307543682375,
          1.2902337343843282,
          1.1469266734949273,
          1.146936080908977,
          0.7820000660889109,
          0.38099098041346663,
          1.9903771905690242,
          1.3627399578705313,
          1.1469508164988056,
          1.2896649480345554,
          1.362790518554977,
          1.516489030655981,
          1.9687543463563073,
          1.3626088018870424,
          1.9875229537602066,
          1.8708350186328893,
          1.290229505276529,
          1.9241244052360926,
          1.2902348309456195,
          1.3627398382100604,
          1.1469253346181394,
          1.1469169047377337,
          1.3627397083508535,
          1.2902099118313006,
          0.8793135212564156,
          1.1469293671610679,
          0.5008334147353695,
          1.1469274030625058,
          1.1466395087519663,
          1.2902328831763987,
          1.1468725224556495,
          0.7826673912087176,
          1.146930787111338,
          1.1469351901753302,
          1.2282046990502282,
          0.582043571913667,
          1.1467152385081778,
          0.8793084444580301,
          1.2902331308394395,
          1.1469314466905556,
          1.146925181199555,
          0.7818968776496101,
          0.22412496176598073,
          1.5164890827067004,
          1.1469395044627024,
          0.7819218438148264,
          1.2901947318098272,
          1.9727540615711898,
          1.2902355845339994,
          1.3627404938087573,
          1.290198631636854,
          1.362742016411705,
          1.2900604604997763,
          1.1469278757476578,
          1.146922491599334,
          1.146473171615184,
          0.4796818336217293,
          1.2902243363515966,
          0.7811341623507218,
          1.3627310689469976,
          1.1468966061618588,
          1.8635124030192236,
          0.5142150734868305,
          1.321877439382495,
          2.0680161251132656,
          1.571035087131933,
          1.571011661422819,
          1.9938846952786344,
          1.8814993143841032,
          1.1280433597363588,
          1.881504748824911,
          1.307788917816984,
          1.9939036040097202,
          1.2902362840410528,
          0.781921599125855,
          1.3218326708315784,
          1.3627130142293438,
          1.146921988449054,
          1.1469351940027614,
          0.6235089906767118,
          1.246807672502464,
          1.2902257222445344,
          0.5645804392259504,
          1.146928435514388,
          0.37021745791868393,
          1.1579887871166181,
          0.8793136968992057,
          1.570744618105356,
          1.4312895778771082,
          1.1469264718067869,
          1.5931428455508598,
          1.3400641251394978,
          1.1469359743361953,
          0.5143416919164903,
          1.5932246626493667,
          1.290186074237929,
          1.8707456094476864,
          1.570420720195073,
          1.8814918194242731,
          1.146889884048378,
          1.2060168938324747,
          1.228205391611869,
          1.1261148409808328,
          1.1468697684068823,
          1.2902327791497143,
          1.1469146645446424,
          1.146926116346341,
          1.2281639939832758,
          1.146794913277775,
          1.1469344953809595,
          0.925212924849588,
          0.7820291531246368,
          1.3218749899277156,
          0.3323421387496979,
          1.146937508038218,
          0.9250979724271415,
          0.8793070158503378,
          1.5162266795198756,
          1.9938999042651653,
          1.2902249014019778,
          1.9938972431089212,
          0.9786201571073331,
          3.807841734779077,
          1.290224269763397,
          1.519230166338486,
          0.7818755497721751,
          1.298870086974792,
          1.4312992799799655,
          1.5710210843527426,
          1.1469341836559637,
          1.1469334161878053,
          0.7818145304162654,
          1.3284955160043337,
          1.362709151753376,
          1.1469259186055216,
          1.8958054278638676,
          1.5931937143443962,
          1.362707810117268,
          0.5709565153454851,
          1.1452227502900743,
          1.0903466625773193,
          0.7819269782304623,
          0.7819088351398256,
          1.1468881064666268,
          0.9252221092078327,
          1.9904844484213051,
          1.14690077031125,
          1.1469793279528162,
          0.925195302512423,
          0.7819041585688993,
          1.9904568919910104,
          1.1469064253936165,
          1.5211019450189593,
          0.4317760412056818,
          1.2279075383245535,
          1.146849296542869,
          0.5142833618641132,
          1.570882117926892,
          0.7819175710751787,
          0.9359685710331419,
          1.228200322793103,
          1.5932213449277595,
          0.7741188544494337,
          0.7352135458146184,
          1.2281913201291133,
          1.1464754595633397,
          0.9252041430010945,
          1.2902260591566168,
          0.7818510343422703,
          1.3626469036287734,
          0.930283110046911,
          0.9251764535253256,
          1.1037256900282961,
          1.1391094396700057,
          0.5646715254569098,
          1.1542235211634884,
          0.6235404356485382,
          1.2281958337002896,
          1.1092453991349756,
          0.9332501430839409,
          1.5932124787250221,
          1.1469323635392152,
          1.593220686762855,
          1.2282014479270829,
          1.1267420437812061,
          0.9252118033862701,
          1.1469059341874441,
          1.5191194040232792,
          1.9885946322392687,
          1.290047869079167,
          1.2902320401990512,
          1.8708466435317606,
          1.1379041375303218,
          1.2903479911276081,
          1.1468443786387907,
          1.1469196969231052,
          0.5142950764507247,
          1.146939669414186,
          1.290207283342922,
          1.1425392587549392,
          0.8875992158376393,
          1.2900031727307264,
          1.1469562362279517,
          1.1469389211998575,
          1.2902326186430455,
          1.1469095642818228,
          1.3627372445044752,
          0.690759562222756,
          0.8793032792488509,
          1.870824388211436,
          0.7819602535177693,
          1.1469140818363368,
          0.5646528320918603,
          1.4698781862337211,
          1.881503268751057,
          1.9520613217341347,
          1.8713184664007483,
          1.8713659804505178,
          0.5143070627993174,
          0.21751946889606472,
          3.9008326998663274,
          1.3627399619524132,
          0.7815165525318897,
          1.5864562520063379,
          0.8142717194542551,
          1.1468265827703135,
          0.781920534754431,
          1.1468989791457445
         ],
         "z": [
          -0.39723828181947546,
          -0.3973170344081181,
          -0.45408084422986794,
          -0.29467510636245947,
          -0.18629343916704436,
          -0.2206460673084401,
          -0.04567094791856744,
          -0.45292218353867414,
          -0.39724002684162585,
          -0.397269256272657,
          -0.39724428065083506,
          -0.39723830956417383,
          -0.39723838381482435,
          0.1823745535470413,
          -0.32500859889328537,
          -0.08838447187769541,
          -0.38403525376959435,
          -0.3972487948292998,
          -0.11978020436195029,
          -0.2946755265355743,
          -0.31364237869683625,
          -0.223301124822553,
          -0.22084776090427946,
          -0.22226474782027925,
          -0.4365257856667353,
          -0.43652330299054976,
          -0.20501015111832718,
          -0.39727070205574877,
          -0.3972469190141433,
          -0.3986673023258579,
          -0.11970085480220796,
          -0.2946735366045249,
          0.04701306827634306,
          -0.1328758047160838,
          -0.2946741197593592,
          -0.39737400612068124,
          -0.39724586525108146,
          -0.21906894155443912,
          -0.29467415772843164,
          0.04701724071387061,
          -0.436524177367523,
          -0.3972968424026718,
          1.0020774689953689,
          -0.1569622422119992,
          -0.22065027345791013,
          -0.3250108059075391,
          -0.2222644534580563,
          -0.43652327892338094,
          -0.22229731495969426,
          -0.3972383533668425,
          -0.4365234235859766,
          -0.11969954105047391,
          -0.39723987443329756,
          -0.29467361028301925,
          -0.05454439794893519,
          -0.35547321350302336,
          -0.15474421023151594,
          -0.22227313759607895,
          -0.43652625474601625,
          -0.2206983204895708,
          -0.4529049769924792,
          -0.2848885078768618,
          -0.2206461833646863,
          -0.2965728176487711,
          -0.22064566401468635,
          -0.38912582086783354,
          -0.397240877027898,
          -0.22227645172750057,
          -0.2946937609180636,
          -0.2291486500114586,
          -0.22064714208664396,
          0.18616331654663495,
          -0.0883861968694011,
          -0.2946839465264216,
          -0.22065636931207458,
          -0.22067264408718845,
          -0.38864366325646704,
          -0.29468186248540806,
          -0.14746376342785555,
          -0.3973806101932513,
          -0.3972407788235582,
          -0.3972482910920544,
          -0.2615579237382384,
          -0.11976414394829472,
          -0.29467686250619907,
          -0.3972450071636512,
          -0.22064598215962777,
          -0.2946737225929393,
          -0.3972394859556718,
          -0.3972383763773567,
          -0.22227139559583972,
          -0.3655420261131571,
          -0.5047463007357629,
          -0.08839160352681487,
          -0.3972399159297624,
          -0.2947634585004627,
          -0.08839349824379782,
          -0.2615476609247674,
          -0.5573563021801995,
          -0.08840051894322752,
          -0.5032031857075884,
          0.40648020881984875,
          -0.2946759710360612,
          -0.44106025233432944,
          -0.2946739221859464,
          -0.08838919965243641,
          -0.3972410937665109,
          -0.39724055778139516,
          -0.0883861968694011,
          -0.29467691315772165,
          -0.2206465070471131,
          -0.3972409630721005,
          0.09519256843208912,
          -0.397240259663428,
          -0.39727222304434684,
          -0.29467383294104293,
          -0.39724608411971724,
          -0.22558091988863577,
          -0.3972391186160235,
          -0.3972386137017698,
          -0.2313710787292878,
          -0.17786258707069488,
          -0.39726512335231434,
          -0.22064607627132227,
          -0.2946742926513225,
          -0.3972398850115004,
          -0.39723942304066484,
          -0.22226609485038604,
          -0.2658955203370708,
          -0.26154886451302367,
          -0.39733837458310417,
          -0.22226665331615156,
          -0.29467931279248083,
          -0.26287330543403126,
          -0.29468457742923515,
          -0.08839527547822583,
          -0.2946797202405811,
          -0.08842430140897815,
          -0.2947051405338384,
          -0.39723963270108675,
          -0.39723980630540595,
          -0.39728965282404394,
          -0.049525620253602305,
          -0.29467642739968813,
          -0.22238020830314728,
          -0.0883862906425761,
          -0.39724471436915254,
          -0.4595061342910026,
          -0.04568049919672283,
          -0.14747017148843064,
          -0.48817849148775727,
          -0.3886356909799777,
          -0.3886442039538715,
          -0.48466926655636494,
          -0.43652514131270564,
          -0.4002465189994319,
          -0.4365246029046247,
          -0.10899523615739558,
          -0.48467124211233326,
          -0.29467463736511706,
          -0.2222649318168087,
          -5.809266793298528,
          -0.08838755294953585,
          -0.3972417118724756,
          -0.39723870220489593,
          -0.1859808322199076,
          -0.04559118403871704,
          -0.29467527686897765,
          -0.2050392421187842,
          -0.39723914527540416,
          -0.05303822699587018,
          -0.4008841595549558,
          -0.22065449663944717,
          -0.3887239154265177,
          -0.3076572644810412,
          -0.3972394648835962,
          -0.4063567157214291,
          -0.0779010814587014,
          -0.39723983875427143,
          -0.0465705562694514,
          -0.40635110286945825,
          -0.29468279244509676,
          0.40645218496367497,
          -0.39155972197439687,
          -0.43654229354373736,
          -0.3972544743071677,
          -0.213661889557207,
          -0.23137164928968312,
          -0.40004503024166943,
          -0.3972463942239249,
          -0.29467830589579885,
          -0.397241120853512,
          -0.39724431013100103,
          -0.23137728817910555,
          -0.3973133038603707,
          -0.39723860928583055,
          -0.11969967611566695,
          -0.22476544751512048,
          -0.14746244253420854,
          -0.3752185294043745,
          -0.3972616420818562,
          -0.12008214286898851,
          -0.22064632557459732,
          -0.26159971417082795,
          -0.48466806563404763,
          -0.29467499182753787,
          -0.4846674886788657,
          -0.1854962700922579,
          4.705313573455409,
          -0.2946749258348828,
          -0.4504462514913185,
          -0.22227074174136205,
          -0.1745742754564283,
          -0.30765548820774685,
          -0.3886382136112513,
          -0.397238477076751,
          -0.3972385961738605,
          -0.22230183136499554,
          -0.055034920048056234,
          -0.08838977991698034,
          -0.39724030385061637,
          0.39271312492558125,
          -0.40636203041696395,
          -0.08838884262070018,
          -0.09289493983198856,
          -0.3975697240271283,
          -0.3105154177977263,
          -0.22226635013907262,
          -0.22226485313814626,
          -0.3972443245362856,
          -0.11969935511760477,
          -0.502765443820374,
          -0.3972446512306686,
          -0.3982592280471676,
          -0.11970192022144985,
          -0.22226575950425573,
          -0.5027717815136268,
          -0.39724364781693605,
          -0.2779339110550378,
          -0.2643191230155707,
          -0.23140330354963204,
          -0.39725421940596145,
          -0.04567768754905044,
          0.12589897640732722,
          -0.22226433103215879,
          -0.26787360640880714,
          -0.23137121934759025,
          -0.40634550236373895,
          -0.2231299103240986,
          -0.228014323877348,
          -0.23137815036362924,
          -0.3972898918654484,
          -0.11970214637886999,
          -0.2946776038009619,
          -0.22228173151632297,
          -0.0883954324691325,
          -0.2575462963448984,
          -0.1197037372471272,
          -0.2633913912525566,
          -0.39821418991964164,
          -0.20501099491577257,
          -0.27547089495068094,
          -0.18599493960525376,
          -0.23137244422268724,
          -0.5514953621927311,
          -0.12053730021577609,
          -0.40634944337578804,
          -0.39724008044299625,
          -0.4063468171081454,
          -0.23137057664275543,
          -0.40258164429867316,
          -0.11969942941418192,
          -0.3972435964964491,
          -0.4504785210380465,
          -0.5030654539356221,
          -0.29469585375959106,
          -0.2946762358809786,
          0.4063918088145617,
          -0.3997821505586811,
          -0.29468536104518783,
          -0.3972487235647936,
          -0.39724207071079576,
          -0.045671013744392704,
          -0.3972387512990188,
          -0.2947204803650907,
          -0.3978252284076282,
          -0.22152912292357374,
          -0.29474897545231915,
          -0.3972419767827344,
          -0.39727852933389163,
          -0.29469403232814134,
          -0.39725154844265087,
          -0.08838484340471586,
          0.047831686004693924,
          -0.22065390642149513,
          0.4064778401829344,
          -0.2232645216048486,
          -0.3972659701025116,
          -0.20501294459518177,
          0.527496168129007,
          -0.4365225772003791,
          -0.4498792915771718,
          0.4064421539842328,
          0.40643718978731364,
          -0.04576981412727512,
          -0.1916983590163919,
          -0.4791901691747527,
          -0.08838509086513559,
          -0.2223105552880973,
          0.13548914096749307,
          0.23472120290752885,
          -0.3972518463049466,
          -0.22226318592137595,
          -0.39724446409237313
         ]
        },
        {
         "customdata": [
          [
           "SHA-256"
          ],
          [
           "Ethash"
          ],
          [
           "Scrypt"
          ],
          [
           "CryptoNight-V7"
          ],
          [
           "Ethash"
          ],
          [
           "Equihash"
          ],
          [
           "Multiple"
          ],
          [
           "Scrypt"
          ],
          [
           "X11"
          ],
          [
           "Scrypt"
          ],
          [
           "Multiple"
          ],
          [
           "Scrypt"
          ],
          [
           "SHA-256"
          ],
          [
           "Scrypt"
          ],
          [
           "Scrypt"
          ],
          [
           "Quark"
          ],
          [
           "Groestl"
          ],
          [
           "Scrypt"
          ],
          [
           "Scrypt"
          ],
          [
           "Scrypt"
          ],
          [
           "X11"
          ],
          [
           "Multiple"
          ],
          [
           "SHA-256"
          ],
          [
           "Scrypt"
          ],
          [
           "Scrypt"
          ],
          [
           "Scrypt"
          ],
          [
           "Scrypt"
          ],
          [
           "Scrypt"
          ],
          [
           "NeoScrypt"
          ],
          [
           "Scrypt"
          ],
          [
           "Scrypt"
          ],
          [
           "Scrypt"
          ],
          [
           "Scrypt"
          ],
          [
           "SHA-256"
          ],
          [
           "Scrypt"
          ],
          [
           "Scrypt"
          ],
          [
           "Scrypt"
          ],
          [
           "Scrypt"
          ],
          [
           "HybridScryptHash256"
          ],
          [
           "Scrypt"
          ],
          [
           "Scrypt"
          ],
          [
           "SHA-256"
          ],
          [
           "Scrypt"
          ],
          [
           "Scrypt"
          ],
          [
           "Scrypt"
          ],
          [
           "Scrypt"
          ],
          [
           "SHA-256"
          ],
          [
           "SHA-256"
          ],
          [
           "SHA-256"
          ],
          [
           "SHA-256"
          ],
          [
           "SHA-256"
          ],
          [
           "X11"
          ],
          [
           "Scrypt"
          ],
          [
           "Lyra2REv2"
          ],
          [
           "Scrypt"
          ],
          [
           "SHA-256"
          ],
          [
           "CryptoNight"
          ],
          [
           "CryptoNight"
          ],
          [
           "Scrypt"
          ],
          [
           "Scrypt"
          ],
          [
           "Scrypt"
          ],
          [
           "Scrypt"
          ],
          [
           "Scrypt"
          ],
          [
           "Scrypt"
          ],
          [
           "Stanford Folding"
          ],
          [
           "Multiple"
          ],
          [
           "QuBit"
          ],
          [
           "Scrypt"
          ],
          [
           "Scrypt"
          ],
          [
           "M7 POW"
          ],
          [
           "Scrypt"
          ],
          [
           "SHA-256"
          ],
          [
           "Scrypt"
          ],
          [
           "X11"
          ],
          [
           "Lyra2RE"
          ],
          [
           "SHA-256"
          ],
          [
           "X11"
          ],
          [
           "Scrypt"
          ],
          [
           "Scrypt"
          ],
          [
           "Ethash"
          ],
          [
           "Blake2b"
          ],
          [
           "X11"
          ],
          [
           "SHA-256"
          ],
          [
           "Scrypt"
          ],
          [
           "1GB AES Pattern Search"
          ],
          [
           "Scrypt"
          ],
          [
           "SHA-256"
          ],
          [
           "X11"
          ],
          [
           "Dagger"
          ],
          [
           "Scrypt"
          ],
          [
           "X11GOST"
          ],
          [
           "Scrypt"
          ],
          [
           "ScryptOG"
          ],
          [
           "X11"
          ],
          [
           "Scrypt"
          ],
          [
           "X11"
          ],
          [
           "Equihash"
          ],
          [
           "CryptoNight"
          ],
          [
           "SHA-256"
          ],
          [
           "Multiple"
          ],
          [
           "Scrypt"
          ],
          [
           "SHA-256"
          ],
          [
           "Scrypt"
          ],
          [
           "Lyra2Z"
          ],
          [
           "Ethash"
          ],
          [
           "Equihash"
          ],
          [
           "Scrypt"
          ],
          [
           "X11"
          ],
          [
           "X11"
          ],
          [
           "CryptoNight"
          ],
          [
           "Scrypt"
          ],
          [
           "CryptoNight"
          ],
          [
           "Lyra2RE"
          ],
          [
           "X11"
          ],
          [
           "CryptoNight-V7"
          ],
          [
           "Scrypt"
          ],
          [
           "X11"
          ],
          [
           "Equihash"
          ],
          [
           "Scrypt"
          ],
          [
           "Lyra2RE"
          ],
          [
           "Dagger-Hashimoto"
          ],
          [
           "Scrypt"
          ],
          [
           "NIST5"
          ],
          [
           "Scrypt"
          ],
          [
           "SHA-256"
          ],
          [
           "Scrypt"
          ],
          [
           "CryptoNight-V7"
          ],
          [
           "Argon2d"
          ],
          [
           "Blake2b"
          ],
          [
           "Cloverhash"
          ],
          [
           "CryptoNight"
          ],
          [
           "X11"
          ],
          [
           "Scrypt"
          ],
          [
           "Scrypt"
          ],
          [
           "X11"
          ],
          [
           "X11"
          ],
          [
           "CryptoNight"
          ],
          [
           "Time Travel"
          ],
          [
           "Scrypt"
          ],
          [
           "Keccak"
          ],
          [
           "X11"
          ],
          [
           "SHA-256"
          ],
          [
           "Scrypt"
          ],
          [
           "Scrypt"
          ],
          [
           "Scrypt"
          ],
          [
           "Scrypt"
          ],
          [
           "Scrypt"
          ],
          [
           "Scrypt"
          ],
          [
           "CryptoNight"
          ],
          [
           "Equihash"
          ],
          [
           "X11"
          ],
          [
           "NeoScrypt"
          ],
          [
           "Equihash"
          ],
          [
           "Dagger"
          ],
          [
           "Scrypt"
          ],
          [
           "X11"
          ],
          [
           "NeoScrypt"
          ],
          [
           "Ethash"
          ],
          [
           "NeoScrypt"
          ],
          [
           "Multiple"
          ],
          [
           "CryptoNight"
          ],
          [
           "CryptoNight"
          ],
          [
           "Ethash"
          ],
          [
           "Scrypt"
          ],
          [
           "X11"
          ],
          [
           "CryptoNight-V7"
          ],
          [
           "Scrypt"
          ],
          [
           "BLAKE256"
          ],
          [
           "X11"
          ],
          [
           "NeoScrypt"
          ],
          [
           "NeoScrypt"
          ],
          [
           "NeoScrypt"
          ],
          [
           "Scrypt"
          ],
          [
           "X11"
          ],
          [
           "SHA-256"
          ],
          [
           "C11"
          ],
          [
           "Ethash"
          ],
          [
           "Scrypt"
          ],
          [
           "CryptoNight"
          ],
          [
           "SkunkHash"
          ],
          [
           "CryptoNight"
          ],
          [
           "Scrypt"
          ],
          [
           "Dagger"
          ],
          [
           "Lyra2REv2"
          ],
          [
           "Scrypt"
          ],
          [
           "Scrypt"
          ],
          [
           "X11"
          ],
          [
           "Ethash"
          ],
          [
           "CryptoNight"
          ],
          [
           "Scrypt"
          ],
          [
           "SHA-256"
          ],
          [
           "IMesh"
          ],
          [
           "Quark"
          ],
          [
           "Equihash"
          ],
          [
           "Lyra2Z"
          ],
          [
           "NeoScrypt"
          ],
          [
           "X11"
          ],
          [
           "CryptoNight"
          ],
          [
           "NIST5"
          ],
          [
           "Lyra2RE"
          ],
          [
           "Tribus"
          ],
          [
           "Lyra2Z"
          ],
          [
           "CryptoNight"
          ],
          [
           "CryptoNight Heavy"
          ],
          [
           "CryptoNight"
          ],
          [
           "Jump Consistent Hash"
          ],
          [
           "CryptoNight"
          ],
          [
           "SHA-512"
          ],
          [
           "X16R"
          ],
          [
           "HMQ1725"
          ],
          [
           "X11"
          ],
          [
           "Scrypt"
          ],
          [
           "Scrypt"
          ],
          [
           "CryptoNight-V7"
          ],
          [
           "Cryptonight-GPU"
          ],
          [
           "XEVAN"
          ],
          [
           "CryptoNight Heavy"
          ],
          [
           "CryptoNight"
          ],
          [
           "X11"
          ],
          [
           "SHA-256"
          ],
          [
           "X11"
          ],
          [
           "SHA-512"
          ],
          [
           "X16R"
          ],
          [
           "Equihash"
          ],
          [
           "HMQ1725"
          ],
          [
           "Lyra2Z"
          ],
          [
           "SHA-256"
          ],
          [
           "PHI1612"
          ],
          [
           "CryptoNight"
          ],
          [
           "Blake"
          ],
          [
           "Blake"
          ],
          [
           "Blake"
          ],
          [
           "Blake"
          ],
          [
           "Equihash"
          ],
          [
           "Exosis"
          ],
          [
           "Scrypt"
          ],
          [
           "Equihash"
          ],
          [
           "Equihash"
          ],
          [
           "Lyra2REv2"
          ],
          [
           "QuBit"
          ],
          [
           "SHA-256"
          ],
          [
           "X13"
          ],
          [
           "SHA-256"
          ],
          [
           "Ethash"
          ],
          [
           "Scrypt"
          ],
          [
           "NeoScrypt"
          ],
          [
           "Blake"
          ],
          [
           "Scrypt"
          ],
          [
           "SHA-256"
          ],
          [
           "Scrypt"
          ],
          [
           "Groestl"
          ],
          [
           "Scrypt"
          ],
          [
           "Scrypt"
          ],
          [
           "Multiple"
          ],
          [
           "Equihash+Scrypt"
          ],
          [
           "Lyra2Z"
          ],
          [
           "Ethash"
          ],
          [
           "Equihash"
          ],
          [
           "CryptoNight"
          ],
          [
           "Equihash"
          ]
         ],
         "hovertemplate": "<b>%{hovertext}</b><br><br>Class=%{marker.color}<br>PC 1=%{x}<br>PC 2=%{y}<br>PC 3=%{z}<br>Algorithm=%{customdata[0]}<extra></extra>",
         "hovertext": [
          "Bitcoin",
          "Ethereum",
          "Litecoin",
          "Monero",
          "Ethereum Classic",
          "ZCash",
          "DigiByte",
          "ProsperCoin",
          "Spreadcoin",
          "Argentum",
          "MyriadCoin",
          "MoonCoin",
          "ZetaCoin",
          "SexCoin",
          "Quatloo",
          "QuarkCoin",
          "Riecoin",
          "Digitalcoin ",
          "Catcoin",
          "CannaCoin",
          "CryptCoin",
          "Verge",
          "DevCoin",
          "EarthCoin",
          "E-Gulden",
          "Einsteinium",
          "Emerald",
          "Franko",
          "FeatherCoin",
          "GrandCoin",
          "GlobalCoin",
          "GoldCoin",
          "Infinite Coin",
          "IXcoin",
          "KrugerCoin",
          "LuckyCoin",
          "Litebar ",
          "MegaCoin",
          "MediterraneanCoin",
          "MinCoin",
          "NobleCoin",
          "Namecoin",
          "NyanCoin",
          "RonPaulCoin",
          "StableCoin",
          "SmartCoin",
          "SysCoin",
          "TigerCoin",
          "TerraCoin",
          "UnbreakableCoin",
          "Unobtanium",
          "UroCoin",
          "ViaCoin",
          "Vertcoin",
          "WorldCoin",
          "JouleCoin",
          "ByteCoin",
          "DigitalNote ",
          "MonaCoin",
          "Gulden",
          "PesetaCoin",
          "Wild Beast Coin",
          "Flo",
          "ArtByte",
          "Folding Coin",
          "Unitus",
          "CypherPunkCoin",
          "OmniCron",
          "GreenCoin",
          "Cryptonite",
          "MasterCoin",
          "SoonCoin",
          "1Credit",
          "MarsCoin ",
          "Crypto",
          "Anarchists Prime",
          "BowsCoin",
          "Song Coin",
          "BitZeny",
          "Expanse",
          "Siacoin",
          "MindCoin",
          "I0coin",
          "Revolution VR",
          "HOdlcoin",
          "Gamecredits",
          "CarpeDiemCoin",
          "Adzcoin",
          "SoilCoin",
          "YoCoin",
          "SibCoin",
          "Francs",
          "Aiden",
          "BolivarCoin",
          "Omni",
          "PizzaCoin",
          "Komodo",
          "Karbo",
          "ZayedCoin",
          "Circuits of Value",
          "DopeCoin",
          "DollarCoin",
          "Shilling",
          "ZCoin",
          "Elementrem",
          "ZClassic",
          "KiloCoin",
          "ArtexCoin",
          "Kurrent",
          "Cannabis Industry Coin",
          "OsmiumCoin",
          "Bikercoins",
          "HexxCoin",
          "PacCoin",
          "Citadel",
          "BeaverCoin",
          "VaultCoin",
          "Zero",
          "Canada eCoin",
          "Zoin",
          "DubaiCoin",
          "EB3coin",
          "Coinonat",
          "BenjiRolls",
          "ILCoin",
          "EquiTrader",
          "Quantum Resistant Ledger",
          "Dynamic",
          "Nano",
          "ChanCoin",
          "Dinastycoin",
          "DigitalPrice",
          "Unify",
          "SocialCoin",
          "ArcticCoin",
          "DAS",
          "LeviarCoin",
          "Bitcore",
          "gCn Coin",
          "SmartCash",
          "Onix",
          "Bitcoin Cash",
          "Sojourn Coin",
          "NewYorkCoin",
          "FrazCoin",
          "Kronecoin",
          "AdCoin",
          "Linx",
          "Sumokoin",
          "BitcoinZ",
          "Elements",
          "VIVO Coin",
          "Bitcoin Gold",
          "Pirl",
          "eBoost",
          "Pura",
          "Innova",
          "Ellaism",
          "GoByte",
          "SHIELD",
          "UltraNote",
          "BitCoal",
          "DaxxCoin",
          "BoxyCoin",
          "AC3",
          "Lethean",
          "PopularCoin",
          "Photon",
          "Sucre",
          "SparksPay",
          "GoaCoin",
          "GunCoin",
          "IrishCoin",
          "Pioneer Coin",
          "UnitedBitcoin",
          "Interzone",
          "1717 Masonic Commemorative Token",
          "Crypto Wisdom Coin",
          "TurtleCoin",
          "MUNcoin",
          "Niobio Cash",
          "ShareChain",
          "Travelflex",
          "KREDS",
          "BitFlip",
          "LottoCoin",
          "Crypto Improvement Fund",
          "Callisto Network",
          "BitTube",
          "Poseidon",
          "Manna",
          "Aidos Kuneen",
          "Cosmo",
          "Bitrolium",
          "Alpenschillling",
          "Rapture",
          "FuturoCoin",
          "Monero Classic",
          "Jumpcoin",
          "Infinex",
          "KEYCO",
          "GINcoin",
          "PlatinCoin",
          "Loki",
          "Newton Coin",
          "MassGrid",
          "PluraCoin",
          "Arionum",
          "Motion",
          "PlusOneCoin",
          "Axe",
          "HexCoin",
          "Deimos",
          "Webchain",
          "Ryo",
          "Urals Coin",
          "Qwertycoin",
          "Bitcoin Nova",
          "DACash",
          "Project Pai",
          "Azart",
          "Kcash",
          "Xchange",
          "CrypticCoin",
          "Brazio",
          "Actinium",
          "Bitcoin SV",
          "Argoneum",
          "FREDEnergy",
          "BlakeBitcoin",
          "Universal Molecule",
          "Lithium",
          "Electron",
          "PirateCash",
          "Exosis",
          "Block-Logic",
          "Beam",
          "Bithereum",
          "Scribe Network",
          "SLICE",
          "BLAST",
          "Bitcoin Rhodium",
          "GlobalToken",
          "Media Protocol Token",
          "SolarCoin",
          "UFO Coin",
          "BlakeCoin",
          "Crypto Escudo",
          "Crown Coin",
          "SmileyCoin",
          "Groestlcoin",
          "Bata",
          "Pakcoin",
          "JoinCoin",
          "Vollar",
          "TecraCoin",
          "Reality Clash",
          "ChainZilla",
          "Beldex",
          "Horizen"
         ],
         "legendgroup": "0",
         "marker": {
          "color": [
           0,
           0,
           0,
           0,
           0,
           0,
           0,
           0,
           0,
           0,
           0,
           0,
           0,
           0,
           0,
           0,
           0,
           0,
           0,
           0,
           0,
           0,
           0,
           0,
           0,
           0,
           0,
           0,
           0,
           0,
           0,
           0,
           0,
           0,
           0,
           0,
           0,
           0,
           0,
           0,
           0,
           0,
           0,
           0,
           0,
           0,
           0,
           0,
           0,
           0,
           0,
           0,
           0,
           0,
           0,
           0,
           0,
           0,
           0,
           0,
           0,
           0,
           0,
           0,
           0,
           0,
           0,
           0,
           0,
           0,
           0,
           0,
           0,
           0,
           0,
           0,
           0,
           0,
           0,
           0,
           0,
           0,
           0,
           0,
           0,
           0,
           0,
           0,
           0,
           0,
           0,
           0,
           0,
           0,
           0,
           0,
           0,
           0,
           0,
           0,
           0,
           0,
           0,
           0,
           0,
           0,
           0,
           0,
           0,
           0,
           0,
           0,
           0,
           0,
           0,
           0,
           0,
           0,
           0,
           0,
           0,
           0,
           0,
           0,
           0,
           0,
           0,
           0,
           0,
           0,
           0,
           0,
           0,
           0,
           0,
           0,
           0,
           0,
           0,
           0,
           0,
           0,
           0,
           0,
           0,
           0,
           0,
           0,
           0,
           0,
           0,
           0,
           0,
           0,
           0,
           0,
           0,
           0,
           0,
           0,
           0,
           0,
           0,
           0,
           0,
           0,
           0,
           0,
           0,
           0,
           0,
           0,
           0,
           0,
           0,
           0,
           0,
           0,
           0,
           0,
           0,
           0,
           0,
           0,
           0,
           0,
           0,
           0,
           0,
           0,
           0,
           0,
           0,
           0,
           0,
           0,
           0,
           0,
           0,
           0,
           0,
           0,
           0,
           0,
           0,
           0,
           0,
           0,
           0,
           0,
           0,
           0,
           0,
           0,
           0,
           0,
           0,
           0,
           0,
           0,
           0,
           0,
           0,
           0,
           0,
           0,
           0,
           0,
           0,
           0,
           0,
           0,
           0,
           0,
           0,
           0,
           0,
           0,
           0,
           0,
           0,
           0,
           0,
           0,
           0,
           0,
           0,
           0,
           0,
           0,
           0,
           0,
           0,
           0,
           0,
           0,
           0,
           0,
           0,
           0
          ],
          "coloraxis": "coloraxis",
          "symbol": "diamond"
         },
         "mode": "markers",
         "name": "0",
         "scene": "scene",
         "showlegend": true,
         "type": "scatter3d",
         "x": [
          -0.1392232900985442,
          -0.13664469440860313,
          -0.15801525176694453,
          -0.14695156826092315,
          -0.13502542015212388,
          -0.15774710449387697,
          0.1829059491593349,
          -0.15920911334558463,
          -0.21694502911450386,
          -0.15881032631208863,
          -0.08088782617481326,
          2.669279325272997,
          -0.1361868014622666,
          -0.15595266817878498,
          -0.15860690980865505,
          -0.2222142577411628,
          -0.19660780993916355,
          -0.15865635160020866,
          -0.15919061572835946,
          -0.1592805771518465,
          -0.21703816344407212,
          0.20780040860519983,
          0.2543150247158908,
          0.0997882436798393,
          -0.15901616415697914,
          -0.1544399288678537,
          -0.15895314719789483,
          -0.1593399821938364,
          -0.17254586672964978,
          -0.13770648341059696,
          -0.15808482496026174,
          -0.1583742816056196,
          1.6623800163604892,
          -0.13918299607493492,
          -0.15555227987360934,
          -0.1590437167717835,
          -0.15941329469510715,
          -0.15864176851542697,
          -0.146389129754289,
          -0.15928968690002426,
          -0.018790952003199874,
          -0.13926394857059746,
          -0.15268978346210169,
          -0.15926854634141446,
          -0.15728713700564703,
          -0.1587340209289123,
          -0.125886695774213,
          -0.1387053434279258,
          -0.13900477736750422,
          -0.13898807738087918,
          -0.13960202095619564,
          -0.21721904951109683,
          -0.1589728827753939,
          -0.18513555833967718,
          -0.155958010321222,
          -0.1387754804833288,
          4.002216255951338,
          0.4595450779706652,
          -0.15779397923025884,
          -0.1417731228110119,
          -0.15645931779427308,
          -0.15941563437918493,
          -0.1563183696056681,
          -0.14197195066604282,
          -0.12114183516864031,
          -0.11630360984598617,
          -0.17638749316013227,
          -0.159283267146837,
          -0.027025518942607678,
          -0.11425659765146726,
          -0.1594248544597943,
          -0.13929292222765288,
          0.51827717316757,
          -0.2165807571956084,
          -0.15059513867393476,
          -0.13902248606354137,
          -0.21687759316911345,
          -0.15747362560193853,
          -0.1566321808442848,
          -0.13775858507380387,
          0.4097112945487746,
          -0.2169143762627538,
          -0.13918416675622455,
          -0.15521443068292187,
          -0.16180222816339618,
          -0.15792864277439533,
          0.29672421796156595,
          -0.21604083329369583,
          -0.15927296735900937,
          -0.15818905002553432,
          -0.15269510627766336,
          -0.1592062539633282,
          -0.15552452204639905,
          -0.2168762851888997,
          -0.15942491538993206,
          -0.2170327143109422,
          -0.28587761125239675,
          0.2980466847287239,
          -0.13945514076191629,
          -0.09555107027617156,
          -0.15647512049199888,
          -0.13941201383785862,
          -0.15907463154735768,
          -0.08388692769290813,
          -0.1374898953059641,
          -0.15776965243925625,
          -0.08327148756991162,
          -0.20305138329812247,
          -0.2147729416191098,
          0.29804050229131657,
          -0.15940592473254905,
          0.2981767368275518,
          -0.15115731639642788,
          0.5262530212542605,
          -0.14566818415756114,
          -0.15937286404912068,
          -0.2094807961455813,
          -0.15778244971473845,
          -0.15742841125172088,
          -0.15086387281194188,
          -0.16581583864282667,
          -0.12915476885077468,
          -0.18138900462839883,
          -0.15891728394972515,
          -0.10439889231151114,
          -0.15873269367255965,
          -0.14551758482668023,
          -0.15344861623605002,
          -0.007839383009817825,
          -0.16397153440094517,
          0.3356633893043804,
          -0.21605003008273377,
          -0.15906424758059964,
          -0.15881897739000023,
          -0.21646060168815515,
          -0.21706178562741427,
          0.29845158797858184,
          -0.15489861796068188,
          3.391583287526663,
          -0.10650699016432191,
          -0.2075706924857118,
          -0.1392224183244399,
          -0.08208340816663857,
          1.6628261465731438,
          -0.15916632870348113,
          -0.15859612523176503,
          -0.15828466536688893,
          -0.1582710334976565,
          0.29864214112844994,
          0.06310781513370925,
          -0.16953366776438683,
          -0.17742798210879945,
          -0.1576219819354377,
          -0.15798211424424322,
          -0.15742654328716188,
          -0.21242348704629568,
          -0.17726723410504128,
          -0.13579170737267318,
          -0.17737138981103337,
          -0.10613300481201306,
          1.169720296455867,
          0.2980227647311531,
          -0.05771489858944382,
          -0.15862725044262782,
          -0.21215945659046406,
          -0.1341854896697923,
          -0.07209120239078125,
          1.1442299267770828,
          -0.2170346893881509,
          -0.17742526990774043,
          -0.17739349229467283,
          -0.1701765588839613,
          -0.15838629067887164,
          -0.2169569730248046,
          -0.13920090547475372,
          -0.19751644948647207,
          -0.25433685179350624,
          -0.15903585932058614,
          8.341457625128804,
          -0.15107815212029993,
          0.30205510526526,
          0.04165225195712634,
          -0.15746238134472432,
          -0.17009975333224556,
          -0.15898405901936155,
          0.16080862668905993,
          -0.2108587472907402,
          -0.08697973576745419,
          0.3062598183843431,
          -0.15923075136895226,
          -0.03553456650927118,
          -0.13981594174863002,
          -0.22713980162797515,
          -0.15657097946001047,
          -0.0815826871897016,
          -0.17746819324621832,
          -0.2160925583751112,
          0.29821298050117784,
          -0.18145027376935416,
          -0.15099634005311965,
          -0.1983509654532988,
          -0.08397463662277636,
          0.30229429058338636,
          0.617531563216472,
          2.1794957651855698,
          -0.12896889198811837,
          0.31237669144630176,
          -0.171691735719383,
          -0.18676836654086557,
          -0.14484057331664618,
          -0.2170161144984484,
          -0.15925642237197124,
          -0.14864129332928847,
          -0.1340809363976487,
          -0.1452342999683468,
          -0.16917326805942706,
          3.24362766846155,
          0.31141295332886176,
          -0.21652576855796377,
          -0.0973776143591273,
          -0.2169863575252692,
          -0.2437205251165054,
          -0.1861735977330375,
          -0.048044924797943735,
          -0.14261750183503658,
          -0.08334848465629272,
          -0.13922245750764806,
          -0.2098237244818524,
          0.3811852147457639,
          -0.1468222530897426,
          -0.14644491417327776,
          -0.1468516129873939,
          -0.09536641987678712,
          -0.2734032117749087,
          -0.15263281493603034,
          -0.15810372181955665,
          -0.15560522716625083,
          -0.1574478743375736,
          -0.18608856654606595,
          -0.17556725091812939,
          -0.13846861534830865,
          -0.102538953932737,
          -0.13729067616032414,
          0.0630727021272083,
          0.5639194298646503,
          -0.0994780881504947,
          -0.09537661556214606,
          -0.14212902181293324,
          -0.13900412070681406,
          0.585859351472854,
          -0.1961504848203691,
          -0.15933609703995372,
          -0.15720866304818415,
          -0.11707022069154056,
          -0.10190775040578785,
          -0.08207321119111291,
          -0.1375244343476205,
          -0.28405177739784493,
          0.32067850513526225,
          -0.15774820695963487
         ],
         "y": [
          -1.3339849310888463,
          -2.06782742685789,
          -1.066374801327792,
          -2.3325720621104624,
          -2.0679218487439766,
          -2.107339171866911,
          -1.921270975610442,
          -1.0663724010436457,
          -0.9230697895725016,
          -1.0663892737430563,
          -1.9170225365700597,
          -1.2438645816093012,
          -1.3339826625971625,
          -1.066420785246346,
          -1.0664081762056143,
          -0.6200726691752796,
          -1.2430628173444151,
          -1.0663720461197186,
          -1.066371723754487,
          -1.0663692644841827,
          -0.9230717357612509,
          -1.917105906008718,
          -1.334931329561756,
          -1.0667553116771566,
          -1.066365336220537,
          -1.0664018424539943,
          -1.066371080413969,
          -1.066370045808311,
          -1.6486783937118508,
          -1.0666095412227845,
          -1.0663671013116747,
          -1.0663793435112792,
          -1.0659751920472673,
          -1.3339834557255668,
          -1.0664174124549515,
          -1.0663656130982906,
          -1.0663654941254228,
          -1.066366998898009,
          -2.243387299933349,
          -1.0663672996839129,
          -1.0721950213087494,
          -1.3339864197963993,
          -1.066364995401403,
          -1.0663745771792665,
          -1.0664696467433747,
          -1.0663771107430289,
          -1.3341312214553724,
          -1.3339850062120195,
          -1.3339923014098582,
          -1.3340195044058265,
          -1.333983610134964,
          -0.9230651836209878,
          -1.0663652153945244,
          -1.4780839204648786,
          -1.0664322682512513,
          -1.3339861015968455,
          -2.364560914051731,
          -2.3665724903295673,
          -1.0663821584338298,
          -1.0669483042679535,
          -1.066378134121588,
          -1.0663665152371922,
          -1.0663682990179764,
          -1.066457851806703,
          -2.1139064856491343,
          -1.9168553641808523,
          -1.631231682096191,
          -1.0663622127114791,
          -1.0688367314644716,
          -2.3149104545942785,
          -1.0663653826729276,
          -1.3339874806651355,
          -1.1088911933097945,
          -0.9230659672526391,
          -2.298546335953888,
          -1.334001557657669,
          -0.9230680523689618,
          -1.066447372298385,
          -1.0664456655623327,
          -2.067880586698271,
          -2.0170466147603583,
          -0.923065739381731,
          -1.3339834985899932,
          -1.0663644763399769,
          -2.278213641436948,
          -1.0663716301446626,
          -1.3338369311252076,
          -0.9230835279108147,
          -2.2679984760937457,
          -1.066442906684961,
          -2.282276760378873,
          -1.0663715643879288,
          -2.2664116778980743,
          -0.9230709323157639,
          -1.0663653826860435,
          -0.923076659958799,
          -1.7389315778789298,
          -2.365173467975677,
          -1.333985175494166,
          -1.916973862700057,
          -1.0664033168265907,
          -1.3339842568500846,
          -1.0663740646370163,
          -1.9547364413089279,
          -2.0678775552346464,
          -2.1073399974585945,
          -1.070896174273194,
          -0.9229124151645192,
          -0.9231425063153885,
          -2.365181745900911,
          -1.0663662228769224,
          -2.3651796855198577,
          -2.2985260846895583,
          -0.9690389582978836,
          -2.332660483604477,
          -1.0663654849985214,
          -0.9235138075374735,
          -2.1073375381916586,
          -1.0663650255507782,
          -2.2985233918264854,
          -2.255729756946857,
          -1.0681844302688737,
          -0.6422803786367506,
          -1.0663723440738553,
          -1.3345243656879522,
          -1.0663922869053992,
          -2.332596412650502,
          -2.072330290991978,
          -2.032584281026272,
          -2.3277268681349295,
          -2.365252734180322,
          -0.9230955760043799,
          -1.0663658354794523,
          -1.066397642057416,
          -0.9230813306751873,
          -0.9230732594497386,
          -2.3651908486897923,
          -2.237988911644569,
          -1.082736897512683,
          -1.2841160607296354,
          -0.9235170651656381,
          -1.3339848991688963,
          -1.0712186526187237,
          -0.9996433168053692,
          -1.066370102526905,
          -1.066396069975291,
          -1.0663963772444722,
          -1.0663958781143876,
          -2.365209408854179,
          -2.11460836262311,
          -0.9226367134826371,
          -1.6486309765592566,
          -2.1073345905118464,
          -2.2680436630096104,
          -1.0663649571553664,
          -0.9231457802472165,
          -1.6486382660535126,
          -2.068001143477504,
          -1.6486324178417309,
          -1.9169660614194228,
          -2.3954664371555294,
          -2.3651761737039836,
          -2.0722570131102898,
          -1.066408920976722,
          -0.9232825047087145,
          -2.332836212994865,
          -1.0668270107681914,
          -1.2487750934891821,
          -0.9230729260861881,
          -1.6486264854945456,
          -1.6486333735147807,
          -1.6487116830206776,
          -1.0663737477034698,
          -0.923072422776885,
          -1.3339835010228698,
          -1.2346817852030012,
          -0.21959133919179769,
          -1.0663682532366006,
          -2.8026167383413845,
          -2.125810136610773,
          -2.365265318726452,
          -1.0663220989521267,
          -2.267983418766457,
          -1.4782770563140541,
          -1.06637806792532,
          -1.0681127649940232,
          -0.9231982813345234,
          -2.070766684772217,
          -2.365597384582428,
          -1.0663731933185892,
          -1.3375252852276749,
          -2.2212808769105012,
          -0.6200809281140511,
          -2.1073319741391243,
          -1.9548559956253742,
          -1.648628057130041,
          -0.9230971331752854,
          -2.365173527526504,
          -0.6422626746395618,
          -2.298532106853387,
          -1.1095668161947405,
          -1.9547316744065044,
          -2.3654497986850687,
          -2.2152474060484164,
          -2.430957569089429,
          -2.259011101121955,
          -2.3653734156376873,
          -1.2249708410346056,
          -1.2773174740674567,
          -2.127144694793403,
          -0.9230731243192282,
          -1.0663749422687123,
          -1.06670204939316,
          -2.3333817339960734,
          -2.362590055041951,
          -0.6941330460260644,
          -2.254007847139427,
          -2.365408702851756,
          -0.9230763971602143,
          -1.3339744981697461,
          -0.9230749626078382,
          -0.2723148907158203,
          -1.277352734082643,
          -2.1088699549032777,
          -2.1271994416493465,
          -1.9547625469203167,
          -1.3339849006035878,
          -0.78201018970874,
          -2.3680362696371855,
          -2.280359560290834,
          -2.28040731649179,
          -2.280363730612524,
          -2.2835838540896036,
          -0.25908883461891996,
          -2.1735393146554056,
          -1.066404391199307,
          -2.1074377349879483,
          -2.1073354517251217,
          -1.4780812652761548,
          -1.6312748449355967,
          -1.3339887729806024,
          -0.3317977273193585,
          -1.3340217666059444,
          -2.067834382266699,
          -1.1116849583754664,
          -1.6486849213210537,
          -2.283584227404018,
          -1.0664636029574401,
          -1.3339922773662665,
          -1.0756743724464966,
          -1.2430614435639913,
          -1.0663653391904118,
          -1.0664170001709337,
          -1.916885483078434,
          -2.231403510422052,
          -1.9548080797681755,
          -2.0678775626694526,
          -1.5437700619640344,
          -2.3653623920048648,
          -2.107339212233629
         ],
         "z": [
          0.14804693220110463,
          0.23458552085228146,
          -0.028551908635623242,
          0.28313001238298513,
          0.23457446140107152,
          0.13090293129268743,
          0.23910643263228737,
          -0.02854588206109484,
          0.07401865228140314,
          -0.02854840376894641,
          0.2405557319112887,
          -0.04826163071454084,
          0.14803186912303698,
          -0.02856364463051335,
          -0.028550015926551348,
          -0.037676525135535086,
          0.04367881788302518,
          -0.02854862597732763,
          -0.028545952823254086,
          -0.02854542658966931,
          0.0740190548973313,
          0.23911417448660424,
          0.14605545207285453,
          -0.029848930672014284,
          -0.028546620183256106,
          -0.028570585091457722,
          -0.028547116084207905,
          -0.028545155223912957,
          0.16365653438662764,
          -0.028660563836435678,
          -0.02855131815455243,
          -0.02855026287054264,
          -0.03761272034069798,
          0.14804677805736743,
          -0.02856553355121757,
          -0.028546491614964264,
          -0.028544645749411526,
          -0.028548538920075937,
          0.32192012802374304,
          -0.028545318997839086,
          -0.029430058715302406,
          0.14804708773905867,
          -0.028578142195208676,
          -0.02854565470169709,
          -0.028558539654318253,
          -0.028548399142383905,
          0.1479758280709287,
          0.14804434820391013,
          0.14804560979036668,
          0.1480446655790526,
          0.14804886173057846,
          0.07402016386883112,
          -0.02854683208801342,
          0.1406759733124079,
          -0.028563981439819416,
          0.1480446631216136,
          0.24851269078846402,
          0.2661068834358026,
          -0.028553244383920633,
          -0.028651016172112805,
          -0.028559769414024133,
          -0.0285446664057617,
          -0.028560160666604908,
          -0.028634502360153885,
          0.3273315093610632,
          0.24073754702581282,
          0.19083638327079963,
          -0.028545189993702542,
          -0.029282725230037672,
          0.26233528883370977,
          -0.028544584604211238,
          0.14804719857703919,
          -0.03326841738398684,
          0.07401695760440197,
          0.3236210295519961,
          0.14804540509681474,
          0.07401837114045531,
          -0.02855690514805128,
          -0.028561045172278095,
          0.2345893903508151,
          0.3522913391024725,
          0.07401862768559538,
          0.14804678253577858,
          -0.028565542080188803,
          0.30571786813394497,
          -0.028552239956100872,
          0.1458787080959859,
          0.07401371064931053,
          0.26004961530695786,
          -0.028553197896903585,
          0.4241158785823151,
          -0.028545869833116088,
          0.16574416815246004,
          0.07401827347092178,
          -0.028544584300930056,
          0.074018871886507,
          -0.14344403990965224,
          0.26695612444537037,
          0.14804808008701525,
          0.24063035895246102,
          -0.0285604876790072,
          0.14804789420301434,
          -0.028546605016007275,
          0.18266903588997213,
          0.2345881470567002,
          0.13090301754927217,
          -0.029067557722839272,
          0.07395438258979843,
          0.07400552439030038,
          0.2669558932649313,
          -0.028544705548707777,
          0.2669552794373261,
          0.3236244725850818,
          0.06885938335074192,
          0.2831208170327238,
          -0.028544846980417798,
          0.07396739490726978,
          0.13090315917080927,
          -0.028554524242488027,
          0.3236230951929748,
          0.2866373696367164,
          -0.02875303357638943,
          -0.019944186003265755,
          -0.02854733483339062,
          0.1478562826778995,
          -0.02854888608239115,
          0.2831220942366321,
          0.26248280268682606,
          0.3538807853444582,
          0.16600769092046344,
          0.2667661214292223,
          0.07401337516783509,
          -0.02854639632089022,
          -0.02854862550566472,
          0.07401587245784677,
          0.0740191244135615,
          0.2669535561736182,
          0.27711692309500857,
          -0.0467621550668783,
          0.1108005098004578,
          0.0739577712075953,
          0.14804692886616969,
          -0.029083685926167977,
          -0.03551554461713791,
          -0.02854602256617142,
          -0.028549686519117705,
          -0.028551248664380295,
          -0.0285513008127456,
          0.26695201896498666,
          0.12957204705393513,
          0.07379604501669951,
          0.16368236923343374,
          0.1309024526395557,
          0.26004175110013356,
          -0.028554531388338442,
          0.07399371030261317,
          0.16368133729957732,
          0.23457577116008224,
          0.16368204154198668,
          0.2406833497660217,
          0.26165264097575064,
          0.26695615803452577,
          0.23405191222503458,
          -0.028549938113979087,
          0.07398806696644701,
          0.28305802161670485,
          -0.02899449525527843,
          0.07771888255710604,
          0.07401899990776964,
          0.16368249785681155,
          0.16368212146117514,
          0.16364367135892213,
          -0.028550025906361562,
          0.07401862847310832,
          0.148046865890154,
          0.18319726879771803,
          0.04087200236787759,
          -0.02854661433933094,
          0.21302002209002688,
          0.3394369006872636,
          0.26693323806569896,
          -0.029545450277273504,
          0.26004106730364535,
          0.14059491709106636,
          -0.028547183163607114,
          -0.030196039990858042,
          0.07398424946006628,
          0.23424494676018884,
          0.2669017705061878,
          -0.02854579928539282,
          0.14741806092745474,
          0.3420723232036918,
          -0.037652235971054764,
          0.13089729689946256,
          0.1826537668979962,
          0.16368266205893964,
          0.07401353785872435,
          0.26695529368680065,
          -0.019943320287041013,
          0.3236234796240275,
          0.10530336974381055,
          0.18266962393277628,
          0.26692620710774634,
          0.19233540443258604,
          0.25549629012621755,
          0.3139366596292535,
          0.2668783705655218,
          0.007712753259522153,
          0.10082466153777139,
          0.26991313092336494,
          0.07401890105023998,
          -0.028545726686675054,
          -0.028608988961228925,
          0.2830402347852388,
          0.2669834451274587,
          -0.08176089265022149,
          0.17801929712519723,
          0.26688205732091763,
          0.07401635341675446,
          0.1478386895484608,
          0.07401869454981502,
          -0.3416002663005532,
          0.10082058103385408,
          0.13030768973115794,
          0.2699003176567223,
          0.18266552586881518,
          0.1480469290160641,
          0.06103601326000792,
          0.2664511267050173,
          0.17325244858902936,
          0.1732490563250271,
          0.17325246293818558,
          0.17289392681209945,
          -0.06282028454860637,
          0.2656584330877863,
          -0.028552404188713878,
          0.13088913594304324,
          0.13090155757167082,
          0.14068080746082945,
          0.1908309288079647,
          0.1480430490539552,
          -0.06782896983525176,
          0.14803613356475925,
          0.2335898423633012,
          -0.03358433614430948,
          0.16329213352364044,
          0.17289396581543162,
          -0.02863390148851888,
          0.1480456072783281,
          -0.03255395943663315,
          0.043676581901621936,
          -0.028545025624680597,
          -0.02855726453431419,
          0.2407404148097747,
          0.3852949002730864,
          0.18265772836745484,
          0.2345883189755331,
          -0.14858739525757245,
          0.2668373404446738,
          0.13090293551014076
         ]
        },
        {
         "customdata": [
          [
           "Proof-of-BibleHash"
          ],
          [
           "SHA-256 + Hive"
          ],
          [
           "ECC 256K1"
          ]
         ],
         "hovertemplate": "<b>%{hovertext}</b><br><br>Class=%{marker.color}<br>PC 1=%{x}<br>PC 2=%{y}<br>PC 3=%{z}<br>Algorithm=%{customdata[0]}<extra></extra>",
         "hovertext": [
          "BiblePay",
          "LitecoinCash",
          "Acute Angle Cloud"
         ],
         "legendgroup": "3",
         "marker": {
          "color": [
           3,
           3,
           3
          ],
          "coloraxis": "coloraxis",
          "symbol": "square"
         },
         "mode": "markers",
         "name": "3",
         "scene": "scene",
         "showlegend": true,
         "type": "scatter3d",
         "x": [
          -0.17844776968925585,
          -0.3814085829643886,
          -0.3124968666468264
         ],
         "y": [
          2.634438081899227,
          2.8665765979703375,
          2.515718299602539
         ],
         "z": [
          20.65174466536593,
          21.981952286398954,
          12.38554518132615
         ]
        },
        {
         "customdata": [
          [
           "TRC10"
          ]
         ],
         "hovertemplate": "<b>%{hovertext}</b><br><br>Class=%{marker.color}<br>PC 1=%{x}<br>PC 2=%{y}<br>PC 3=%{z}<br>Algorithm=%{customdata[0]}<extra></extra>",
         "hovertext": [
          "BitTorrent"
         ],
         "legendgroup": "2",
         "marker": {
          "color": [
           2
          ],
          "coloraxis": "coloraxis",
          "symbol": "x"
         },
         "mode": "markers",
         "name": "2",
         "scene": "scene",
         "showlegend": true,
         "type": "scatter3d",
         "x": [
          35.49961829661983
         ],
         "y": [
          1.8823873393644173
         ],
         "z": [
          0.2610847138666059
         ]
        }
       ],
       "layout": {
        "coloraxis": {
         "colorbar": {
          "title": {
           "text": "Class"
          }
         },
         "colorscale": [
          [
           0,
           "#0d0887"
          ],
          [
           0.1111111111111111,
           "#46039f"
          ],
          [
           0.2222222222222222,
           "#7201a8"
          ],
          [
           0.3333333333333333,
           "#9c179e"
          ],
          [
           0.4444444444444444,
           "#bd3786"
          ],
          [
           0.5555555555555556,
           "#d8576b"
          ],
          [
           0.6666666666666666,
           "#ed7953"
          ],
          [
           0.7777777777777778,
           "#fb9f3a"
          ],
          [
           0.8888888888888888,
           "#fdca26"
          ],
          [
           1,
           "#f0f921"
          ]
         ]
        },
        "legend": {
         "title": {
          "text": "Class"
         },
         "tracegroupgap": 0,
         "x": 0,
         "y": 1
        },
        "margin": {
         "t": 60
        },
        "scene": {
         "domain": {
          "x": [
           0,
           1
          ],
          "y": [
           0,
           1
          ]
         },
         "xaxis": {
          "title": {
           "text": "PC 1"
          }
         },
         "yaxis": {
          "title": {
           "text": "PC 2"
          }
         },
         "zaxis": {
          "title": {
           "text": "PC 3"
          }
         }
        },
        "template": {
         "data": {
          "bar": [
           {
            "error_x": {
             "color": "#2a3f5f"
            },
            "error_y": {
             "color": "#2a3f5f"
            },
            "marker": {
             "line": {
              "color": "#E5ECF6",
              "width": 0.5
             },
             "pattern": {
              "fillmode": "overlay",
              "size": 10,
              "solidity": 0.2
             }
            },
            "type": "bar"
           }
          ],
          "barpolar": [
           {
            "marker": {
             "line": {
              "color": "#E5ECF6",
              "width": 0.5
             },
             "pattern": {
              "fillmode": "overlay",
              "size": 10,
              "solidity": 0.2
             }
            },
            "type": "barpolar"
           }
          ],
          "carpet": [
           {
            "aaxis": {
             "endlinecolor": "#2a3f5f",
             "gridcolor": "white",
             "linecolor": "white",
             "minorgridcolor": "white",
             "startlinecolor": "#2a3f5f"
            },
            "baxis": {
             "endlinecolor": "#2a3f5f",
             "gridcolor": "white",
             "linecolor": "white",
             "minorgridcolor": "white",
             "startlinecolor": "#2a3f5f"
            },
            "type": "carpet"
           }
          ],
          "choropleth": [
           {
            "colorbar": {
             "outlinewidth": 0,
             "ticks": ""
            },
            "type": "choropleth"
           }
          ],
          "contour": [
           {
            "colorbar": {
             "outlinewidth": 0,
             "ticks": ""
            },
            "colorscale": [
             [
              0,
              "#0d0887"
             ],
             [
              0.1111111111111111,
              "#46039f"
             ],
             [
              0.2222222222222222,
              "#7201a8"
             ],
             [
              0.3333333333333333,
              "#9c179e"
             ],
             [
              0.4444444444444444,
              "#bd3786"
             ],
             [
              0.5555555555555556,
              "#d8576b"
             ],
             [
              0.6666666666666666,
              "#ed7953"
             ],
             [
              0.7777777777777778,
              "#fb9f3a"
             ],
             [
              0.8888888888888888,
              "#fdca26"
             ],
             [
              1,
              "#f0f921"
             ]
            ],
            "type": "contour"
           }
          ],
          "contourcarpet": [
           {
            "colorbar": {
             "outlinewidth": 0,
             "ticks": ""
            },
            "type": "contourcarpet"
           }
          ],
          "heatmap": [
           {
            "colorbar": {
             "outlinewidth": 0,
             "ticks": ""
            },
            "colorscale": [
             [
              0,
              "#0d0887"
             ],
             [
              0.1111111111111111,
              "#46039f"
             ],
             [
              0.2222222222222222,
              "#7201a8"
             ],
             [
              0.3333333333333333,
              "#9c179e"
             ],
             [
              0.4444444444444444,
              "#bd3786"
             ],
             [
              0.5555555555555556,
              "#d8576b"
             ],
             [
              0.6666666666666666,
              "#ed7953"
             ],
             [
              0.7777777777777778,
              "#fb9f3a"
             ],
             [
              0.8888888888888888,
              "#fdca26"
             ],
             [
              1,
              "#f0f921"
             ]
            ],
            "type": "heatmap"
           }
          ],
          "heatmapgl": [
           {
            "colorbar": {
             "outlinewidth": 0,
             "ticks": ""
            },
            "colorscale": [
             [
              0,
              "#0d0887"
             ],
             [
              0.1111111111111111,
              "#46039f"
             ],
             [
              0.2222222222222222,
              "#7201a8"
             ],
             [
              0.3333333333333333,
              "#9c179e"
             ],
             [
              0.4444444444444444,
              "#bd3786"
             ],
             [
              0.5555555555555556,
              "#d8576b"
             ],
             [
              0.6666666666666666,
              "#ed7953"
             ],
             [
              0.7777777777777778,
              "#fb9f3a"
             ],
             [
              0.8888888888888888,
              "#fdca26"
             ],
             [
              1,
              "#f0f921"
             ]
            ],
            "type": "heatmapgl"
           }
          ],
          "histogram": [
           {
            "marker": {
             "pattern": {
              "fillmode": "overlay",
              "size": 10,
              "solidity": 0.2
             }
            },
            "type": "histogram"
           }
          ],
          "histogram2d": [
           {
            "colorbar": {
             "outlinewidth": 0,
             "ticks": ""
            },
            "colorscale": [
             [
              0,
              "#0d0887"
             ],
             [
              0.1111111111111111,
              "#46039f"
             ],
             [
              0.2222222222222222,
              "#7201a8"
             ],
             [
              0.3333333333333333,
              "#9c179e"
             ],
             [
              0.4444444444444444,
              "#bd3786"
             ],
             [
              0.5555555555555556,
              "#d8576b"
             ],
             [
              0.6666666666666666,
              "#ed7953"
             ],
             [
              0.7777777777777778,
              "#fb9f3a"
             ],
             [
              0.8888888888888888,
              "#fdca26"
             ],
             [
              1,
              "#f0f921"
             ]
            ],
            "type": "histogram2d"
           }
          ],
          "histogram2dcontour": [
           {
            "colorbar": {
             "outlinewidth": 0,
             "ticks": ""
            },
            "colorscale": [
             [
              0,
              "#0d0887"
             ],
             [
              0.1111111111111111,
              "#46039f"
             ],
             [
              0.2222222222222222,
              "#7201a8"
             ],
             [
              0.3333333333333333,
              "#9c179e"
             ],
             [
              0.4444444444444444,
              "#bd3786"
             ],
             [
              0.5555555555555556,
              "#d8576b"
             ],
             [
              0.6666666666666666,
              "#ed7953"
             ],
             [
              0.7777777777777778,
              "#fb9f3a"
             ],
             [
              0.8888888888888888,
              "#fdca26"
             ],
             [
              1,
              "#f0f921"
             ]
            ],
            "type": "histogram2dcontour"
           }
          ],
          "mesh3d": [
           {
            "colorbar": {
             "outlinewidth": 0,
             "ticks": ""
            },
            "type": "mesh3d"
           }
          ],
          "parcoords": [
           {
            "line": {
             "colorbar": {
              "outlinewidth": 0,
              "ticks": ""
             }
            },
            "type": "parcoords"
           }
          ],
          "pie": [
           {
            "automargin": true,
            "type": "pie"
           }
          ],
          "scatter": [
           {
            "marker": {
             "colorbar": {
              "outlinewidth": 0,
              "ticks": ""
             }
            },
            "type": "scatter"
           }
          ],
          "scatter3d": [
           {
            "line": {
             "colorbar": {
              "outlinewidth": 0,
              "ticks": ""
             }
            },
            "marker": {
             "colorbar": {
              "outlinewidth": 0,
              "ticks": ""
             }
            },
            "type": "scatter3d"
           }
          ],
          "scattercarpet": [
           {
            "marker": {
             "colorbar": {
              "outlinewidth": 0,
              "ticks": ""
             }
            },
            "type": "scattercarpet"
           }
          ],
          "scattergeo": [
           {
            "marker": {
             "colorbar": {
              "outlinewidth": 0,
              "ticks": ""
             }
            },
            "type": "scattergeo"
           }
          ],
          "scattergl": [
           {
            "marker": {
             "colorbar": {
              "outlinewidth": 0,
              "ticks": ""
             }
            },
            "type": "scattergl"
           }
          ],
          "scattermapbox": [
           {
            "marker": {
             "colorbar": {
              "outlinewidth": 0,
              "ticks": ""
             }
            },
            "type": "scattermapbox"
           }
          ],
          "scatterpolar": [
           {
            "marker": {
             "colorbar": {
              "outlinewidth": 0,
              "ticks": ""
             }
            },
            "type": "scatterpolar"
           }
          ],
          "scatterpolargl": [
           {
            "marker": {
             "colorbar": {
              "outlinewidth": 0,
              "ticks": ""
             }
            },
            "type": "scatterpolargl"
           }
          ],
          "scatterternary": [
           {
            "marker": {
             "colorbar": {
              "outlinewidth": 0,
              "ticks": ""
             }
            },
            "type": "scatterternary"
           }
          ],
          "surface": [
           {
            "colorbar": {
             "outlinewidth": 0,
             "ticks": ""
            },
            "colorscale": [
             [
              0,
              "#0d0887"
             ],
             [
              0.1111111111111111,
              "#46039f"
             ],
             [
              0.2222222222222222,
              "#7201a8"
             ],
             [
              0.3333333333333333,
              "#9c179e"
             ],
             [
              0.4444444444444444,
              "#bd3786"
             ],
             [
              0.5555555555555556,
              "#d8576b"
             ],
             [
              0.6666666666666666,
              "#ed7953"
             ],
             [
              0.7777777777777778,
              "#fb9f3a"
             ],
             [
              0.8888888888888888,
              "#fdca26"
             ],
             [
              1,
              "#f0f921"
             ]
            ],
            "type": "surface"
           }
          ],
          "table": [
           {
            "cells": {
             "fill": {
              "color": "#EBF0F8"
             },
             "line": {
              "color": "white"
             }
            },
            "header": {
             "fill": {
              "color": "#C8D4E3"
             },
             "line": {
              "color": "white"
             }
            },
            "type": "table"
           }
          ]
         },
         "layout": {
          "annotationdefaults": {
           "arrowcolor": "#2a3f5f",
           "arrowhead": 0,
           "arrowwidth": 1
          },
          "autotypenumbers": "strict",
          "coloraxis": {
           "colorbar": {
            "outlinewidth": 0,
            "ticks": ""
           }
          },
          "colorscale": {
           "diverging": [
            [
             0,
             "#8e0152"
            ],
            [
             0.1,
             "#c51b7d"
            ],
            [
             0.2,
             "#de77ae"
            ],
            [
             0.3,
             "#f1b6da"
            ],
            [
             0.4,
             "#fde0ef"
            ],
            [
             0.5,
             "#f7f7f7"
            ],
            [
             0.6,
             "#e6f5d0"
            ],
            [
             0.7,
             "#b8e186"
            ],
            [
             0.8,
             "#7fbc41"
            ],
            [
             0.9,
             "#4d9221"
            ],
            [
             1,
             "#276419"
            ]
           ],
           "sequential": [
            [
             0,
             "#0d0887"
            ],
            [
             0.1111111111111111,
             "#46039f"
            ],
            [
             0.2222222222222222,
             "#7201a8"
            ],
            [
             0.3333333333333333,
             "#9c179e"
            ],
            [
             0.4444444444444444,
             "#bd3786"
            ],
            [
             0.5555555555555556,
             "#d8576b"
            ],
            [
             0.6666666666666666,
             "#ed7953"
            ],
            [
             0.7777777777777778,
             "#fb9f3a"
            ],
            [
             0.8888888888888888,
             "#fdca26"
            ],
            [
             1,
             "#f0f921"
            ]
           ],
           "sequentialminus": [
            [
             0,
             "#0d0887"
            ],
            [
             0.1111111111111111,
             "#46039f"
            ],
            [
             0.2222222222222222,
             "#7201a8"
            ],
            [
             0.3333333333333333,
             "#9c179e"
            ],
            [
             0.4444444444444444,
             "#bd3786"
            ],
            [
             0.5555555555555556,
             "#d8576b"
            ],
            [
             0.6666666666666666,
             "#ed7953"
            ],
            [
             0.7777777777777778,
             "#fb9f3a"
            ],
            [
             0.8888888888888888,
             "#fdca26"
            ],
            [
             1,
             "#f0f921"
            ]
           ]
          },
          "colorway": [
           "#636efa",
           "#EF553B",
           "#00cc96",
           "#ab63fa",
           "#FFA15A",
           "#19d3f3",
           "#FF6692",
           "#B6E880",
           "#FF97FF",
           "#FECB52"
          ],
          "font": {
           "color": "#2a3f5f"
          },
          "geo": {
           "bgcolor": "white",
           "lakecolor": "white",
           "landcolor": "#E5ECF6",
           "showlakes": true,
           "showland": true,
           "subunitcolor": "white"
          },
          "hoverlabel": {
           "align": "left"
          },
          "hovermode": "closest",
          "mapbox": {
           "style": "light"
          },
          "paper_bgcolor": "white",
          "plot_bgcolor": "#E5ECF6",
          "polar": {
           "angularaxis": {
            "gridcolor": "white",
            "linecolor": "white",
            "ticks": ""
           },
           "bgcolor": "#E5ECF6",
           "radialaxis": {
            "gridcolor": "white",
            "linecolor": "white",
            "ticks": ""
           }
          },
          "scene": {
           "xaxis": {
            "backgroundcolor": "#E5ECF6",
            "gridcolor": "white",
            "gridwidth": 2,
            "linecolor": "white",
            "showbackground": true,
            "ticks": "",
            "zerolinecolor": "white"
           },
           "yaxis": {
            "backgroundcolor": "#E5ECF6",
            "gridcolor": "white",
            "gridwidth": 2,
            "linecolor": "white",
            "showbackground": true,
            "ticks": "",
            "zerolinecolor": "white"
           },
           "zaxis": {
            "backgroundcolor": "#E5ECF6",
            "gridcolor": "white",
            "gridwidth": 2,
            "linecolor": "white",
            "showbackground": true,
            "ticks": "",
            "zerolinecolor": "white"
           }
          },
          "shapedefaults": {
           "line": {
            "color": "#2a3f5f"
           }
          },
          "ternary": {
           "aaxis": {
            "gridcolor": "white",
            "linecolor": "white",
            "ticks": ""
           },
           "baxis": {
            "gridcolor": "white",
            "linecolor": "white",
            "ticks": ""
           },
           "bgcolor": "#E5ECF6",
           "caxis": {
            "gridcolor": "white",
            "linecolor": "white",
            "ticks": ""
           }
          },
          "title": {
           "x": 0.05
          },
          "xaxis": {
           "automargin": true,
           "gridcolor": "white",
           "linecolor": "white",
           "ticks": "",
           "title": {
            "standoff": 15
           },
           "zerolinecolor": "white",
           "zerolinewidth": 2
          },
          "yaxis": {
           "automargin": true,
           "gridcolor": "white",
           "linecolor": "white",
           "ticks": "",
           "title": {
            "standoff": 15
           },
           "zerolinecolor": "white",
           "zerolinewidth": 2
          }
         }
        },
        "width": 800
       }
      },
      "text/html": [
       "<div>                            <div id=\"a6a0c1bd-5ca6-443d-b431-1b9072f10575\" class=\"plotly-graph-div\" style=\"height:525px; width:800px;\"></div>            <script type=\"text/javascript\">                require([\"plotly\"], function(Plotly) {                    window.PLOTLYENV=window.PLOTLYENV || {};                                    if (document.getElementById(\"a6a0c1bd-5ca6-443d-b431-1b9072f10575\")) {                    Plotly.newPlot(                        \"a6a0c1bd-5ca6-443d-b431-1b9072f10575\",                        [{\"customdata\":[[\"Scrypt\"],[\"Scrypt\"],[\"X13\"],[\"X11\"],[\"SHA-512\"],[\"SHA-256\"],[\"SHA-256\"],[\"X15\"],[\"Scrypt\"],[\"Scrypt\"],[\"Scrypt\"],[\"Scrypt\"],[\"Scrypt\"],[\"Scrypt\"],[\"Groestl\"],[\"PoS\"],[\"Scrypt\"],[\"Scrypt\"],[\"X11\"],[\"X11\"],[\"SHA3\"],[\"Scrypt\"],[\"SHA-256\"],[\"Scrypt\"],[\"X13\"],[\"X13\"],[\"NeoScrypt\"],[\"Scrypt\"],[\"Scrypt\"],[\"Scrypt\"],[\"X11\"],[\"X11\"],[\"Multiple\"],[\"PHI1612\"],[\"X11\"],[\"Scrypt\"],[\"Scrypt\"],[\"Scrypt\"],[\"X11\"],[\"Multiple\"],[\"X13\"],[\"Scrypt\"],[\"Shabal256\"],[\"Counterparty\"],[\"SHA-256\"],[\"Groestl\"],[\"Scrypt\"],[\"X13\"],[\"Scrypt\"],[\"Scrypt\"],[\"X13\"],[\"X11\"],[\"Scrypt\"],[\"X11\"],[\"SHA3\"],[\"QUAIT\"],[\"X11\"],[\"Scrypt\"],[\"X13\"],[\"SHA-256\"],[\"X15\"],[\"BLAKE256\"],[\"SHA-256\"],[\"X11\"],[\"SHA-256\"],[\"NIST5\"],[\"Scrypt\"],[\"Scrypt\"],[\"X11\"],[\"Scrypt\"],[\"SHA-256\"],[\"Scrypt\"],[\"PoS\"],[\"X11\"],[\"SHA-256\"],[\"SHA-256\"],[\"NIST5\"],[\"X11\"],[\"POS 3.0\"],[\"Scrypt\"],[\"Scrypt\"],[\"Scrypt\"],[\"X13\"],[\"X11\"],[\"X11\"],[\"Scrypt\"],[\"SHA-256\"],[\"X11\"],[\"Scrypt\"],[\"Scrypt\"],[\"Scrypt\"],[\"Scrypt\"],[\"SHA-256D\"],[\"PoS\"],[\"Scrypt\"],[\"X11\"],[\"PoS\"],[\"X13\"],[\"X14\"],[\"PoS\"],[\"SHA-256D\"],[\"DPoS\"],[\"X11\"],[\"X13\"],[\"X11\"],[\"PoS\"],[\"Scrypt\"],[\"Scrypt\"],[\"PoS\"],[\"X11\"],[\"SHA-256\"],[\"Scrypt\"],[\"X11\"],[\"Scrypt\"],[\"Scrypt\"],[\"X11\"],[\"Scrypt\"],[\"Scrypt\"],[\"Scrypt\"],[\"Scrypt\"],[\"Quark\"],[\"QuBit\"],[\"Scrypt\"],[\"SHA-256\"],[\"X11\"],[\"Scrypt\"],[\"Scrypt\"],[\"Scrypt\"],[\"Scrypt\"],[\"X13\"],[\"Scrypt\"],[\"Scrypt\"],[\"X11\"],[\"Blake2S\"],[\"X11\"],[\"PoS\"],[\"X11\"],[\"PoS\"],[\"X11\"],[\"Scrypt\"],[\"Scrypt\"],[\"Scrypt\"],[\"SHA-256\"],[\"X11\"],[\"Scrypt\"],[\"PoS\"],[\"Scrypt\"],[\"X15\"],[\"SHA-256\"],[\"POS 3.0\"],[\"536\"],[\"NIST5\"],[\"NIST5\"],[\"Skein\"],[\"X13\"],[\"Scrypt\"],[\"X13\"],[\"SkunkHash v2 Raptor\"],[\"Skein\"],[\"X11\"],[\"Scrypt\"],[\"VeChainThor Authority\"],[\"PoS\"],[\"Scrypt\"],[\"Scrypt\"],[\"SHA-512\"],[\"Ouroboros\"],[\"X11\"],[\"NeoScrypt\"],[\"Scrypt\"],[\"Lyra2REv2\"],[\"Scrypt\"],[\"SHA-256\"],[\"NIST5\"],[\"PHI1612\"],[\"Scrypt\"],[\"Quark\"],[\"POS 2.0\"],[\"Scrypt\"],[\"SHA-256\"],[\"Quark\"],[\"X11\"],[\"DPoS\"],[\"NIST5\"],[\"X13\"],[\"Scrypt\"],[\"NIST5\"],[\"Quark\"],[\"Scrypt\"],[\"Scrypt\"],[\"X11\"],[\"Scrypt\"],[\"Scrypt\"],[\"Quark\"],[\"Scrypt\"],[\"Scrypt\"],[\"X11\"],[\"Scrypt\"],[\"POS 3.0\"],[\"Scrypt\"],[\"Scrypt\"],[\"X11\"],[\"SHA-256\"],[\"X13\"],[\"Skein\"],[\"X11\"],[\"Skein\"],[\"C11\"],[\"Proof-of-Authority\"],[\"X11\"],[\"XEVAN\"],[\"Scrypt\"],[\"VBFT\"],[\"PHI1612\"],[\"NIST5\"],[\"Scrypt\"],[\"Scrypt\"],[\"Scrypt\"],[\"Green Protocol\"],[\"PoS\"],[\"Scrypt\"],[\"Semux BFT consensus\"],[\"Quark\"],[\"PoS\"],[\"X16R\"],[\"Scrypt\"],[\"XEVAN\"],[\"Scrypt\"],[\"Scrypt\"],[\"Scrypt\"],[\"X11\"],[\"SHA-256D\"],[\"Scrypt\"],[\"Scrypt\"],[\"X11\"],[\"Scrypt\"],[\"SHA-256D\"],[\"Scrypt\"],[\"X15\"],[\"Scrypt\"],[\"Quark\"],[\"Scrypt\"],[\"SHA-256\"],[\"DPoS\"],[\"Scrypt\"],[\"X16R\"],[\"Quark\"],[\"Quark\"],[\"Scrypt\"],[\"Lyra2REv2\"],[\"Quark\"],[\"Scrypt\"],[\"X11\"],[\"X11\"],[\"Scrypt\"],[\"PoS\"],[\"Keccak\"],[\"X11\"],[\"Tribus\"],[\"Scrypt\"],[\"NeoScrypt\"],[\"XEVAN\"],[\"SHA-512\"],[\"Quark\"],[\"XEVAN\"],[\"X11\"],[\"Quark\"],[\"Scrypt\"],[\"Quark\"],[\"Quark\"],[\"Scrypt\"],[\"X11\"],[\"Scrypt\"],[\"XEVAN\"],[\"SHA-256D\"],[\"X11\"],[\"X11\"],[\"DPoS\"],[\"Scrypt\"],[\"X11\"],[\"Scrypt\"],[\"Scrypt\"],[\"SHA-256\"],[\"Scrypt\"],[\"X11\"],[\"Scrypt\"],[\"SHA-256\"],[\"X11\"],[\"Scrypt\"],[\"Scrypt\"],[\"X11\"],[\"Scrypt\"],[\"PoS\"],[\"X11\"],[\"SHA-256\"],[\"DPoS\"],[\"Scrypt\"],[\"Scrypt\"],[\"NeoScrypt\"],[\"SHA3-256\"],[\"X13\"],[\"PHI2\"],[\"DPoS\"],[\"DPoS\"],[\"SHA-256\"],[\"Lyra2Z\"],[\"Leased POS\"],[\"PoS\"],[\"Scrypt\"],[\"PoS\"],[\"SHA-256\"],[\"Scrypt\"],[\"Scrypt\"],[\"Scrypt\"]],\"hovertemplate\":\"<b>%{hovertext}</b><br><br>Class=%{marker.color}<br>PC 1=%{x}<br>PC 2=%{y}<br>PC 3=%{z}<br>Algorithm=%{customdata[0]}<extra></extra>\",\"hovertext\":[\"42 Coin\",\"404Coin\",\"EliteCoin\",\"Dash\",\"Bitshares\",\"BitcoinDark\",\"PayCoin\",\"KoboCoin\",\"Aurora Coin\",\"BlueCoin\",\"EnergyCoin\",\"BitBar\",\"CryptoBullion\",\"CasinoCoin\",\"Diamond\",\"Exclusive Coin\",\"FlutterCoin\",\"HoboNickels\",\"HyperStake\",\"IOCoin\",\"MaxCoin\",\"MintCoin\",\"MazaCoin\",\"Nautilus Coin\",\"NavCoin\",\"OpalCoin\",\"Orbitcoin\",\"PotCoin\",\"PhoenixCoin\",\"Reddcoin\",\"SuperCoin\",\"SyncCoin\",\"TeslaCoin\",\"TittieCoin\",\"TorCoin\",\"UnitaryStatus Dollar\",\"UltraCoin\",\"VeriCoin\",\"X11 Coin\",\"Crypti\",\"StealthCoin\",\"ZCC Coin\",\"BurstCoin\",\"StorjCoin\",\"Neutron\",\"FairCoin\",\"RubyCoin\",\"Kore\",\"Dnotes\",\"8BIT Coin\",\"Sativa Coin\",\"Ucoin\",\"Vtorrent\",\"IslaCoin\",\"Nexus\",\"Droidz\",\"Squall Coin\",\"Diggits\",\"Paycon\",\"Emercoin\",\"EverGreenCoin\",\"Decred\",\"EDRCoin\",\"Hitcoin\",\"DubaiCoin\",\"PWR Coin\",\"BillaryCoin\",\"GPU Coin\",\"EuropeCoin\",\"ZeitCoin\",\"SwingCoin\",\"SafeExchangeCoin\",\"Nebuchadnezzar\",\"Ratecoin\",\"Revenu\",\"Clockcoin\",\"VIP Tokens\",\"BitSend\",\"Let it Ride\",\"PutinCoin\",\"iBankCoin\",\"Frankywillcoin\",\"MudraCoin\",\"Lutetium Coin\",\"GoldBlocks\",\"CarterCoin\",\"BitTokens\",\"MustangCoin\",\"ZoneCoin\",\"RootCoin\",\"BitCurrency\",\"Swiscoin\",\"BuzzCoin\",\"Opair\",\"PesoBit\",\"Halloween Coin\",\"CoffeeCoin\",\"RoyalCoin\",\"GanjaCoin V2\",\"TeamUP\",\"LanaCoin\",\"ARK\",\"InsaneCoin\",\"EmberCoin\",\"XenixCoin\",\"FreeCoin\",\"PLNCoin\",\"AquariusCoin\",\"Creatio\",\"Eternity\",\"Eurocoin\",\"BitcoinFast\",\"Stakenet\",\"BitConnect Coin\",\"MoneyCoin\",\"Enigma\",\"Russiacoin\",\"PandaCoin\",\"GameUnits\",\"GAKHcoin\",\"Allsafe\",\"LiteCreed\",\"Klingon Empire Darsek\",\"Internet of People\",\"KushCoin\",\"Printerium\",\"Impeach\",\"Zilbercoin\",\"FirstCoin\",\"FindCoin\",\"OpenChat\",\"RenosCoin\",\"VirtacoinPlus\",\"TajCoin\",\"Impact\",\"Atmos\",\"HappyCoin\",\"MacronCoin\",\"Condensate\",\"Independent Money System\",\"ArgusCoin\",\"LomoCoin\",\"ProCurrency\",\"GoldReserve\",\"GrowthCoin\",\"Phreak\",\"Degas Coin\",\"HTML5 Coin\",\"Ultimate Secure Cash\",\"QTUM\",\"Espers\",\"Denarius\",\"Virta Unique Coin\",\"Bitcoin Planet\",\"BritCoin\",\"Linda\",\"DeepOnion\",\"Signatum\",\"Cream\",\"Monoeci\",\"Draftcoin\",\"Vechain\",\"Stakecoin\",\"CoinonatX\",\"Ethereum Dark\",\"Obsidian\",\"Cardano\",\"Regalcoin\",\"TrezarCoin\",\"TerraNovaCoin\",\"Rupee\",\"WomenCoin\",\"Theresa May Coin\",\"NamoCoin\",\"LUXCoin\",\"Xios\",\"Bitcloud 2.0\",\"KekCoin\",\"BlackholeCoin\",\"Infinity Economics\",\"Alqo\",\"Magnet\",\"Lamden Tau\",\"Electra\",\"Bitcoin Diamond\",\"Cash & Back Coin\",\"Bulwark\",\"Kalkulus\",\"GermanCoin\",\"LiteCoin Ultra\",\"PhantomX\",\"Accolade\",\"OmiseGO Classic\",\"Digiwage\",\"Trollcoin\",\"Litecoin Plus\",\"Monkey Project\",\"ECC\",\"TokenPay\",\"My Big Coin\",\"Unified Society USDEX\",\"BitSoar Coin\",\"Credence Coin\",\"Tokyo Coin\",\"BashCoin\",\"DigiMoney\",\"Lizus Payment\",\"Stipend\",\"Poa Network\",\"Pushi\",\"Ellerium\",\"Velox\",\"Ontology\",\"Seraph\",\"Bitspace\",\"Briacoin\",\"Ignition\",\"MedicCoin\",\"Bitcoin Green\",\"Deviant Coin\",\"Abjcoin\",\"Semux\",\"Carebit\",\"Zealium\",\"Proton\",\"iDealCash\",\"Bitcoin Incognito\",\"HollyWoodCoin\",\"Parlay\",\"Listerclassic Coin\",\"BetKings\",\"Cognitio\",\"Mercoin\",\"Swisscoin\",\"Reliance\",\"Xt3ch\",\"TheVig\",\"EmaratCoin\",\"Dekado\",\"Lynx\",\"Poseidon Quark\",\"MYCE\",\"BitcoinWSpectrum\",\"Muse\",\"GambleCoin\",\"Trivechain\",\"Dystem\",\"Giant\",\"Peony Coin\",\"Absolute Coin\",\"Vitae\",\"TPCash\",\"ARENON\",\"EUNO\",\"MMOCoin\",\"Ketan\",\"XDNA\",\"PAXEX\",\"Averopay\",\"ThunderStake\",\"SimpleBank\",\"Bettex coin\",\"TWIST\",\"DACH Coin\",\"BitMoney\",\"Junson Ming Chan Coin\",\"HerbCoin\",\"Oduwa\",\"Galilel\",\"Crypto Sports\",\"Credit\",\"Dash Platinum\",\"Nasdacoin\",\"Beetle Coin\",\"Titan Coin\",\"Award\",\"Insane Coin\",\"ALAX\",\"LiteDoge\",\"TruckCoin\",\"OrangeCoin\",\"BitstarCoin\",\"NeosCoin\",\"HyperCoin\",\"PinkCoin\",\"AudioCoin\",\"IncaKoin\",\"Piggy Coin\",\"Genstake\",\"XiaoMiCoin\",\"CapriCoin\",\" ClubCoin\",\"Radium\",\"Creditbit \",\"OKCash\",\"Lisk\",\"HiCoin\",\"WhiteCoin\",\"FriendshipCoin\",\"Fiii\",\"Triangles Coin\",\"Gexan\",\"EOS\",\"Oxycoin\",\"TigerCash\",\"LAPO\",\"Waves\",\"Particl\",\"ShardCoin\",\"Nxt\",\"ZEPHYR\",\"Gapcoin\",\"BitcoinPlus\",\"DivotyCoin\"],\"legendgroup\":\"1\",\"marker\":{\"color\":[1,1,1,1,1,1,1,1,1,1,1,1,1,1,1,1,1,1,1,1,1,1,1,1,1,1,1,1,1,1,1,1,1,1,1,1,1,1,1,1,1,1,1,1,1,1,1,1,1,1,1,1,1,1,1,1,1,1,1,1,1,1,1,1,1,1,1,1,1,1,1,1,1,1,1,1,1,1,1,1,1,1,1,1,1,1,1,1,1,1,1,1,1,1,1,1,1,1,1,1,1,1,1,1,1,1,1,1,1,1,1,1,1,1,1,1,1,1,1,1,1,1,1,1,1,1,1,1,1,1,1,1,1,1,1,1,1,1,1,1,1,1,1,1,1,1,1,1,1,1,1,1,1,1,1,1,1,1,1,1,1,1,1,1,1,1,1,1,1,1,1,1,1,1,1,1,1,1,1,1,1,1,1,1,1,1,1,1,1,1,1,1,1,1,1,1,1,1,1,1,1,1,1,1,1,1,1,1,1,1,1,1,1,1,1,1,1,1,1,1,1,1,1,1,1,1,1,1,1,1,1,1,1,1,1,1,1,1,1,1,1,1,1,1,1,1,1,1,1,1,1,1,1,1,1,1,1,1,1,1,1,1,1,1,1,1,1,1,1,1,1,1,1,1,1,1,1,1,1,1,1,1,1,1,1,1,1,1,1,1,1,1,1,1,1,1,1,1,1,1,1,1,1,1,1,1,1,1,1,1,1,1,1,1],\"coloraxis\":\"coloraxis\",\"symbol\":\"circle\"},\"mode\":\"markers\",\"name\":\"1\",\"scene\":\"scene\",\"showlegend\":true,\"x\":[-0.32298295565446117,-0.3056183045633186,2.421216671567056,-0.38050293542977415,-0.23136915730639318,-0.30297358244827965,-0.25571401883546163,-0.22890202248991434,-0.3226283449360726,-0.3148860631481293,-0.32141482792186904,-0.32297873070497457,-0.32296234909849014,0.7688181253233756,-0.36132923736162664,-0.34139727754329047,-0.2811939220450026,-0.32096149804310437,-0.31219840744060895,-0.38039309986863806,-0.3955697870105034,-0.00445184965769903,-0.2647668354285384,-0.2754644760048544,-0.2652728656489445,-0.265921850844956,-0.34115679586082853,-0.31705158161759284,-0.321318617882971,0.05057085677329733,-0.33294081834625283,-0.3807800562857507,-0.23172647948046995,-0.2892103718558663,-0.3806881687833413,-0.297193226326871,-0.3216061890234961,-0.2687231370538156,-0.3806509921651365,-0.23221159326305446,-0.26569328389984254,-0.31373074031687337,0.17122965162951648,-0.31713323980413943,-0.3021526406498785,-0.36072578711634273,-0.275443440365554,-0.2660008122527381,-0.2698811848424453,-0.3229642525251459,-0.2659508849690793,-0.3334053571305758,-0.3226877542588825,-0.3807607902666549,-0.38252868798856526,-0.3911113184415276,-0.3782548472496198,-0.27377894328382374,-0.2654530379039358,-0.29523692837254073,-0.23143961967524562,-0.06542725091159977,-0.3029432447078497,-0.04508018463289982,-0.3030093634554802,-0.21710906796860155,-0.3225588990702878,-0.27364568687022955,-0.3778187473086754,0.9245948945301842,-0.3028016346966848,0.007643560752105167,-0.3410674720957883,-0.3785130276829647,-0.3014961412052847,-0.2990723555495608,-0.3436927426938063,-0.3794453814149276,-0.32666630025946686,-0.29788922272172963,-0.322598700522891,-0.3209720608643036,-0.2173848608913614,-0.32037537674947586,-0.38021343341437663,-0.32176993936134196,-0.3029897849725524,-0.3807495993658264,-0.32279536028780176,-0.3229582374503075,-0.273628727405101,-0.23680785047247774,0.034644858240207715,-0.33998115766972026,-0.3225557899923346,-0.36635773724404974,-0.33927996895575685,-0.21887158845526894,-0.41362908047781927,-0.3390252952233284,-0.2930721847899052,3.880024934361826,-0.3803253517440396,0.9149141693931145,-0.38070259227017866,-0.3404642034053694,-0.3224812891887402,-0.3226423518601959,-0.3410674720957883,-0.3802607512593165,-0.3028465206567208,-0.3224819040547555,-0.34488700202004685,-0.32263549973105293,-0.31805082660536704,-0.3807328654515333,-0.3218154326571935,0.39459387099211257,-0.32284293814518894,-0.32291627944277557,-0.3434491875866787,-0.33904833499607195,-0.3189943527979267,-0.30296518365853337,-0.3806390617995137,-0.3226849890584572,-0.3228174587345463,-0.27534744276384987,-0.25926183240669004,-0.21862978373523112,-0.3028740001517353,-0.27507686638931533,-0.3798757072735189,-0.39650665086671166,-0.37856006073047216,-0.33924105612390854,-0.3797691981014019,-0.3334079564719423,-0.3755465310222195,-0.32275828480149976,-0.32275764351492253,-0.31561013567359497,0.2978059726495428,-0.3802666142157733,-0.25729617409472005,-0.341103517703924,-0.32193731509898715,0.9492725435365652,-0.2543532427342086,-0.32539391158378045,0.633968694316946,-0.3452922721217979,-0.3437330767151338,-0.40961560241488426,-0.2656229786265595,0.16059461592941732,-0.26569649062302336,-0.33135229004168604,-0.40909918123001715,-0.3805498799047173,-0.2754238021058759,4.648425576106453,-0.3409649081598209,-0.32237852724180727,-0.32289849888237476,-0.2918352779082717,0.719517927112294,-0.3804886433044522,-0.3359517552222329,-0.3228525218724824,-0.30227633407654153,0.47867343887224056,-0.3012424647717602,-0.32943637036565027,-0.37347100637587183,-0.3228008686441156,-0.3890221926460191,-0.3368877361562673,-0.3226655195692673,-0.07497834309289476,-0.389628762326839,-0.3792325640582754,3.885079583171055,0.23745076061731368,-0.26222934295435024,-0.32002187720384534,-0.2978530012261158,-0.34333031918006374,0.10792434756309272,-0.32177070477210684,-0.37983612344219214,-0.3225436084599762,-0.32183103066348595,-0.3424618668146407,-0.3088220405134724,-0.3229215772680199,-0.33337610619016766,0.2269340697638986,-0.3269601144500807,-0.2971521113928453,-0.31828141006544686,-0.25737227833654425,-0.3029242377851572,-0.21009411806986247,-0.4097599664995915,-0.3805510430166945,-0.4098926182248066,-0.3610975281998883,-0.4634908350585074,-0.3805682938593202,-0.33400644081478154,-0.2745505731060059,-0.3162469518771317,-0.3737657703673086,-0.3448750761713024,-0.32295008160474953,-0.32293106065218996,-0.2687005716811084,-0.32721508082426753,-0.3405426411041999,-0.3226360606434565,4.063979621655696,-0.38763290203146156,-0.3407392087566527,-0.3029994516823879,-0.26735987429373753,-0.33163908183430196,-0.27510508944780476,-0.2755206370877845,-0.3220694987679448,-0.3333821879931599,-0.36209057960421087,-0.3219235406299837,-0.11787160175659302,-0.3330377741763686,-0.275368489810492,-0.36099403725447893,-0.32208894500285945,-0.1835637611535407,2.3686088661617073,-0.3388709028742485,-0.32033074350481716,-0.25448371654209967,1.0784637733122835,-0.2755699143205649,-0.3495016067292234,-0.34344876424843773,-0.39077345098090666,-0.15143089229160306,-0.3493954370323741,-0.342115370180268,-0.31554764893706644,-0.3329362644822221,-0.38001965489029577,-0.2725013802127526,-0.3398038457750342,-0.3326852971924252,-0.33279291571946823,-0.3617467727276274,-0.17688039215073265,-0.3410405647493877,-0.2868058417928983,-0.28880526137034535,-0.34323152450126915,0.4739048156914463,-0.11428939135996027,-0.3900390706581498,-0.3226399580347447,-0.3905138549448563,-0.3435705647406656,0.6208242900175515,-0.33343272271778823,-0.3221023604601084,-0.3282355749700439,-0.31390008387640334,-0.377489677386781,-0.3802561198274939,3.8978343187241515,0.1300438009418213,-0.37768907647081623,-0.3214645944267831,-0.32232108493602357,-0.25574828626967494,-0.32286023086786764,-0.37153661484763373,-0.23313824509727019,-0.07315537431670086,-0.36711576404260804,-0.3221079093489378,-0.314884371241231,-0.376681970832606,-0.32048392210838267,-0.3413546609268349,-0.3458369372627289,-0.3014270302030071,3.880432648713158,-0.07463207037865574,-0.3175618390182943,-0.3407681039809699,-0.5111705671820511,-0.2661123030847029,-0.41915894083461736,3.8907296578765425,3.892027326227112,-0.2358499937438543,0.6302322529806665,-0.5252239147640171,-0.341287757822625,-0.2688424274995239,-0.36893178012175754,2.5838855994155225,-0.3209510851492334,-0.2757808372613612,-0.32197245960864923],\"y\":[1.1469351758226556,1.1471815790144015,1.7499478559982637,1.290228858737239,0.6231543749544324,0.8793074049772361,0.5143025528074404,1.8859937896767238,1.1469358859777188,1.1472316430927758,1.1469925927574143,1.1469349645698692,1.1469351984016172,0.7374693750479477,0.9702529712518801,1.3627422717360336,0.26479134973112234,1.1469213562514682,0.9260037161862313,1.2902328803598007,2.0489728976234356,0.791855961518937,0.8789516891905768,0.7819210071562903,1.8815340925381834,1.8815103299836837,0.5646798813256448,1.1468449297282342,1.1469243834410003,1.1606128265624238,0.9252442340399067,1.290234814352865,-0.06860819830393212,1.065992974594882,1.2902308599442314,1.1467083298967302,1.1469123901215184,0.35920524791911096,1.2902355149821263,-0.06855276475584117,1.8815186989488366,1.146541985564816,1.3941463468800064,1.5003165176384947,0.8793037935707151,0.9702782725299269,0.7819336204813853,1.8814986553011568,0.7817713023353143,1.146935860667368,1.8815019473049,0.925212585787743,1.1469313454429058,1.2902355205089728,2.1478471296465464,2.082402483041781,0.8613285445694996,0.7819213699829144,1.8814908975614932,0.8788748256141597,1.886137812494185,0.9920831491955815,0.8793085157918045,1.283092918483175,0.8793145123932347,1.575735827153214,1.1469199603566915,0.781837643521903,1.290062170749253,0.753408952119105,0.8793005255610835,0.7373055263826572,1.3627397083508535,1.2902629252324216,0.8792145788091021,0.8790820724876839,1.5710350970387692,1.2901819417410494,1.3218795262602545,1.146390062187981,1.1469167951233619,1.1469356086864952,1.516398905166426,0.9252234194790042,1.2902189639674388,1.14691371400865,0.879307543682375,1.2902337343843282,1.1469266734949273,1.146936080908977,0.7820000660889109,0.38099098041346663,1.9903771905690242,1.3627399578705313,1.1469508164988056,1.2896649480345554,1.362790518554977,1.516489030655981,1.9687543463563073,1.3626088018870424,1.9875229537602066,1.8708350186328893,1.290229505276529,1.9241244052360926,1.2902348309456195,1.3627398382100604,1.1469253346181394,1.1469169047377337,1.3627397083508535,1.2902099118313006,0.8793135212564156,1.1469293671610679,0.5008334147353695,1.1469274030625058,1.1466395087519663,1.2902328831763987,1.1468725224556495,0.7826673912087176,1.146930787111338,1.1469351901753302,1.2282046990502282,0.582043571913667,1.1467152385081778,0.8793084444580301,1.2902331308394395,1.1469314466905556,1.146925181199555,0.7818968776496101,0.22412496176598073,1.5164890827067004,1.1469395044627024,0.7819218438148264,1.2901947318098272,1.9727540615711898,1.2902355845339994,1.3627404938087573,1.290198631636854,1.362742016411705,1.2900604604997763,1.1469278757476578,1.146922491599334,1.146473171615184,0.4796818336217293,1.2902243363515966,0.7811341623507218,1.3627310689469976,1.1468966061618588,1.8635124030192236,0.5142150734868305,1.321877439382495,2.0680161251132656,1.571035087131933,1.571011661422819,1.9938846952786344,1.8814993143841032,1.1280433597363588,1.881504748824911,1.307788917816984,1.9939036040097202,1.2902362840410528,0.781921599125855,1.3218326708315784,1.3627130142293438,1.146921988449054,1.1469351940027614,0.6235089906767118,1.246807672502464,1.2902257222445344,0.5645804392259504,1.146928435514388,0.37021745791868393,1.1579887871166181,0.8793136968992057,1.570744618105356,1.4312895778771082,1.1469264718067869,1.5931428455508598,1.3400641251394978,1.1469359743361953,0.5143416919164903,1.5932246626493667,1.290186074237929,1.8707456094476864,1.570420720195073,1.8814918194242731,1.146889884048378,1.2060168938324747,1.228205391611869,1.1261148409808328,1.1468697684068823,1.2902327791497143,1.1469146645446424,1.146926116346341,1.2281639939832758,1.146794913277775,1.1469344953809595,0.925212924849588,0.7820291531246368,1.3218749899277156,0.3323421387496979,1.146937508038218,0.9250979724271415,0.8793070158503378,1.5162266795198756,1.9938999042651653,1.2902249014019778,1.9938972431089212,0.9786201571073331,3.807841734779077,1.290224269763397,1.519230166338486,0.7818755497721751,1.298870086974792,1.4312992799799655,1.5710210843527426,1.1469341836559637,1.1469334161878053,0.7818145304162654,1.3284955160043337,1.362709151753376,1.1469259186055216,1.8958054278638676,1.5931937143443962,1.362707810117268,0.5709565153454851,1.1452227502900743,1.0903466625773193,0.7819269782304623,0.7819088351398256,1.1468881064666268,0.9252221092078327,1.9904844484213051,1.14690077031125,1.1469793279528162,0.925195302512423,0.7819041585688993,1.9904568919910104,1.1469064253936165,1.5211019450189593,0.4317760412056818,1.2279075383245535,1.146849296542869,0.5142833618641132,1.570882117926892,0.7819175710751787,0.9359685710331419,1.228200322793103,1.5932213449277595,0.7741188544494337,0.7352135458146184,1.2281913201291133,1.1464754595633397,0.9252041430010945,1.2902260591566168,0.7818510343422703,1.3626469036287734,0.930283110046911,0.9251764535253256,1.1037256900282961,1.1391094396700057,0.5646715254569098,1.1542235211634884,0.6235404356485382,1.2281958337002896,1.1092453991349756,0.9332501430839409,1.5932124787250221,1.1469323635392152,1.593220686762855,1.2282014479270829,1.1267420437812061,0.9252118033862701,1.1469059341874441,1.5191194040232792,1.9885946322392687,1.290047869079167,1.2902320401990512,1.8708466435317606,1.1379041375303218,1.2903479911276081,1.1468443786387907,1.1469196969231052,0.5142950764507247,1.146939669414186,1.290207283342922,1.1425392587549392,0.8875992158376393,1.2900031727307264,1.1469562362279517,1.1469389211998575,1.2902326186430455,1.1469095642818228,1.3627372445044752,0.690759562222756,0.8793032792488509,1.870824388211436,0.7819602535177693,1.1469140818363368,0.5646528320918603,1.4698781862337211,1.881503268751057,1.9520613217341347,1.8713184664007483,1.8713659804505178,0.5143070627993174,0.21751946889606472,3.9008326998663274,1.3627399619524132,0.7815165525318897,1.5864562520063379,0.8142717194542551,1.1468265827703135,0.781920534754431,1.1468989791457445],\"z\":[-0.39723828181947546,-0.3973170344081181,-0.45408084422986794,-0.29467510636245947,-0.18629343916704436,-0.2206460673084401,-0.04567094791856744,-0.45292218353867414,-0.39724002684162585,-0.397269256272657,-0.39724428065083506,-0.39723830956417383,-0.39723838381482435,0.1823745535470413,-0.32500859889328537,-0.08838447187769541,-0.38403525376959435,-0.3972487948292998,-0.11978020436195029,-0.2946755265355743,-0.31364237869683625,-0.223301124822553,-0.22084776090427946,-0.22226474782027925,-0.4365257856667353,-0.43652330299054976,-0.20501015111832718,-0.39727070205574877,-0.3972469190141433,-0.3986673023258579,-0.11970085480220796,-0.2946735366045249,0.04701306827634306,-0.1328758047160838,-0.2946741197593592,-0.39737400612068124,-0.39724586525108146,-0.21906894155443912,-0.29467415772843164,0.04701724071387061,-0.436524177367523,-0.3972968424026718,1.0020774689953689,-0.1569622422119992,-0.22065027345791013,-0.3250108059075391,-0.2222644534580563,-0.43652327892338094,-0.22229731495969426,-0.3972383533668425,-0.4365234235859766,-0.11969954105047391,-0.39723987443329756,-0.29467361028301925,-0.05454439794893519,-0.35547321350302336,-0.15474421023151594,-0.22227313759607895,-0.43652625474601625,-0.2206983204895708,-0.4529049769924792,-0.2848885078768618,-0.2206461833646863,-0.2965728176487711,-0.22064566401468635,-0.38912582086783354,-0.397240877027898,-0.22227645172750057,-0.2946937609180636,-0.2291486500114586,-0.22064714208664396,0.18616331654663495,-0.0883861968694011,-0.2946839465264216,-0.22065636931207458,-0.22067264408718845,-0.38864366325646704,-0.29468186248540806,-0.14746376342785555,-0.3973806101932513,-0.3972407788235582,-0.3972482910920544,-0.2615579237382384,-0.11976414394829472,-0.29467686250619907,-0.3972450071636512,-0.22064598215962777,-0.2946737225929393,-0.3972394859556718,-0.3972383763773567,-0.22227139559583972,-0.3655420261131571,-0.5047463007357629,-0.08839160352681487,-0.3972399159297624,-0.2947634585004627,-0.08839349824379782,-0.2615476609247674,-0.5573563021801995,-0.08840051894322752,-0.5032031857075884,0.40648020881984875,-0.2946759710360612,-0.44106025233432944,-0.2946739221859464,-0.08838919965243641,-0.3972410937665109,-0.39724055778139516,-0.0883861968694011,-0.29467691315772165,-0.2206465070471131,-0.3972409630721005,0.09519256843208912,-0.397240259663428,-0.39727222304434684,-0.29467383294104293,-0.39724608411971724,-0.22558091988863577,-0.3972391186160235,-0.3972386137017698,-0.2313710787292878,-0.17786258707069488,-0.39726512335231434,-0.22064607627132227,-0.2946742926513225,-0.3972398850115004,-0.39723942304066484,-0.22226609485038604,-0.2658955203370708,-0.26154886451302367,-0.39733837458310417,-0.22226665331615156,-0.29467931279248083,-0.26287330543403126,-0.29468457742923515,-0.08839527547822583,-0.2946797202405811,-0.08842430140897815,-0.2947051405338384,-0.39723963270108675,-0.39723980630540595,-0.39728965282404394,-0.049525620253602305,-0.29467642739968813,-0.22238020830314728,-0.0883862906425761,-0.39724471436915254,-0.4595061342910026,-0.04568049919672283,-0.14747017148843064,-0.48817849148775727,-0.3886356909799777,-0.3886442039538715,-0.48466926655636494,-0.43652514131270564,-0.4002465189994319,-0.4365246029046247,-0.10899523615739558,-0.48467124211233326,-0.29467463736511706,-0.2222649318168087,-5.809266793298528,-0.08838755294953585,-0.3972417118724756,-0.39723870220489593,-0.1859808322199076,-0.04559118403871704,-0.29467527686897765,-0.2050392421187842,-0.39723914527540416,-0.05303822699587018,-0.4008841595549558,-0.22065449663944717,-0.3887239154265177,-0.3076572644810412,-0.3972394648835962,-0.4063567157214291,-0.0779010814587014,-0.39723983875427143,-0.0465705562694514,-0.40635110286945825,-0.29468279244509676,0.40645218496367497,-0.39155972197439687,-0.43654229354373736,-0.3972544743071677,-0.213661889557207,-0.23137164928968312,-0.40004503024166943,-0.3972463942239249,-0.29467830589579885,-0.397241120853512,-0.39724431013100103,-0.23137728817910555,-0.3973133038603707,-0.39723860928583055,-0.11969967611566695,-0.22476544751512048,-0.14746244253420854,-0.3752185294043745,-0.3972616420818562,-0.12008214286898851,-0.22064632557459732,-0.26159971417082795,-0.48466806563404763,-0.29467499182753787,-0.4846674886788657,-0.1854962700922579,4.705313573455409,-0.2946749258348828,-0.4504462514913185,-0.22227074174136205,-0.1745742754564283,-0.30765548820774685,-0.3886382136112513,-0.397238477076751,-0.3972385961738605,-0.22230183136499554,-0.055034920048056234,-0.08838977991698034,-0.39724030385061637,0.39271312492558125,-0.40636203041696395,-0.08838884262070018,-0.09289493983198856,-0.3975697240271283,-0.3105154177977263,-0.22226635013907262,-0.22226485313814626,-0.3972443245362856,-0.11969935511760477,-0.502765443820374,-0.3972446512306686,-0.3982592280471676,-0.11970192022144985,-0.22226575950425573,-0.5027717815136268,-0.39724364781693605,-0.2779339110550378,-0.2643191230155707,-0.23140330354963204,-0.39725421940596145,-0.04567768754905044,0.12589897640732722,-0.22226433103215879,-0.26787360640880714,-0.23137121934759025,-0.40634550236373895,-0.2231299103240986,-0.228014323877348,-0.23137815036362924,-0.3972898918654484,-0.11970214637886999,-0.2946776038009619,-0.22228173151632297,-0.0883954324691325,-0.2575462963448984,-0.1197037372471272,-0.2633913912525566,-0.39821418991964164,-0.20501099491577257,-0.27547089495068094,-0.18599493960525376,-0.23137244422268724,-0.5514953621927311,-0.12053730021577609,-0.40634944337578804,-0.39724008044299625,-0.4063468171081454,-0.23137057664275543,-0.40258164429867316,-0.11969942941418192,-0.3972435964964491,-0.4504785210380465,-0.5030654539356221,-0.29469585375959106,-0.2946762358809786,0.4063918088145617,-0.3997821505586811,-0.29468536104518783,-0.3972487235647936,-0.39724207071079576,-0.045671013744392704,-0.3972387512990188,-0.2947204803650907,-0.3978252284076282,-0.22152912292357374,-0.29474897545231915,-0.3972419767827344,-0.39727852933389163,-0.29469403232814134,-0.39725154844265087,-0.08838484340471586,0.047831686004693924,-0.22065390642149513,0.4064778401829344,-0.2232645216048486,-0.3972659701025116,-0.20501294459518177,0.527496168129007,-0.4365225772003791,-0.4498792915771718,0.4064421539842328,0.40643718978731364,-0.04576981412727512,-0.1916983590163919,-0.4791901691747527,-0.08838509086513559,-0.2223105552880973,0.13548914096749307,0.23472120290752885,-0.3972518463049466,-0.22226318592137595,-0.39724446409237313],\"type\":\"scatter3d\"},{\"customdata\":[[\"SHA-256\"],[\"Ethash\"],[\"Scrypt\"],[\"CryptoNight-V7\"],[\"Ethash\"],[\"Equihash\"],[\"Multiple\"],[\"Scrypt\"],[\"X11\"],[\"Scrypt\"],[\"Multiple\"],[\"Scrypt\"],[\"SHA-256\"],[\"Scrypt\"],[\"Scrypt\"],[\"Quark\"],[\"Groestl\"],[\"Scrypt\"],[\"Scrypt\"],[\"Scrypt\"],[\"X11\"],[\"Multiple\"],[\"SHA-256\"],[\"Scrypt\"],[\"Scrypt\"],[\"Scrypt\"],[\"Scrypt\"],[\"Scrypt\"],[\"NeoScrypt\"],[\"Scrypt\"],[\"Scrypt\"],[\"Scrypt\"],[\"Scrypt\"],[\"SHA-256\"],[\"Scrypt\"],[\"Scrypt\"],[\"Scrypt\"],[\"Scrypt\"],[\"HybridScryptHash256\"],[\"Scrypt\"],[\"Scrypt\"],[\"SHA-256\"],[\"Scrypt\"],[\"Scrypt\"],[\"Scrypt\"],[\"Scrypt\"],[\"SHA-256\"],[\"SHA-256\"],[\"SHA-256\"],[\"SHA-256\"],[\"SHA-256\"],[\"X11\"],[\"Scrypt\"],[\"Lyra2REv2\"],[\"Scrypt\"],[\"SHA-256\"],[\"CryptoNight\"],[\"CryptoNight\"],[\"Scrypt\"],[\"Scrypt\"],[\"Scrypt\"],[\"Scrypt\"],[\"Scrypt\"],[\"Scrypt\"],[\"Stanford Folding\"],[\"Multiple\"],[\"QuBit\"],[\"Scrypt\"],[\"Scrypt\"],[\"M7 POW\"],[\"Scrypt\"],[\"SHA-256\"],[\"Scrypt\"],[\"X11\"],[\"Lyra2RE\"],[\"SHA-256\"],[\"X11\"],[\"Scrypt\"],[\"Scrypt\"],[\"Ethash\"],[\"Blake2b\"],[\"X11\"],[\"SHA-256\"],[\"Scrypt\"],[\"1GB AES Pattern Search\"],[\"Scrypt\"],[\"SHA-256\"],[\"X11\"],[\"Dagger\"],[\"Scrypt\"],[\"X11GOST\"],[\"Scrypt\"],[\"ScryptOG\"],[\"X11\"],[\"Scrypt\"],[\"X11\"],[\"Equihash\"],[\"CryptoNight\"],[\"SHA-256\"],[\"Multiple\"],[\"Scrypt\"],[\"SHA-256\"],[\"Scrypt\"],[\"Lyra2Z\"],[\"Ethash\"],[\"Equihash\"],[\"Scrypt\"],[\"X11\"],[\"X11\"],[\"CryptoNight\"],[\"Scrypt\"],[\"CryptoNight\"],[\"Lyra2RE\"],[\"X11\"],[\"CryptoNight-V7\"],[\"Scrypt\"],[\"X11\"],[\"Equihash\"],[\"Scrypt\"],[\"Lyra2RE\"],[\"Dagger-Hashimoto\"],[\"Scrypt\"],[\"NIST5\"],[\"Scrypt\"],[\"SHA-256\"],[\"Scrypt\"],[\"CryptoNight-V7\"],[\"Argon2d\"],[\"Blake2b\"],[\"Cloverhash\"],[\"CryptoNight\"],[\"X11\"],[\"Scrypt\"],[\"Scrypt\"],[\"X11\"],[\"X11\"],[\"CryptoNight\"],[\"Time Travel\"],[\"Scrypt\"],[\"Keccak\"],[\"X11\"],[\"SHA-256\"],[\"Scrypt\"],[\"Scrypt\"],[\"Scrypt\"],[\"Scrypt\"],[\"Scrypt\"],[\"Scrypt\"],[\"CryptoNight\"],[\"Equihash\"],[\"X11\"],[\"NeoScrypt\"],[\"Equihash\"],[\"Dagger\"],[\"Scrypt\"],[\"X11\"],[\"NeoScrypt\"],[\"Ethash\"],[\"NeoScrypt\"],[\"Multiple\"],[\"CryptoNight\"],[\"CryptoNight\"],[\"Ethash\"],[\"Scrypt\"],[\"X11\"],[\"CryptoNight-V7\"],[\"Scrypt\"],[\"BLAKE256\"],[\"X11\"],[\"NeoScrypt\"],[\"NeoScrypt\"],[\"NeoScrypt\"],[\"Scrypt\"],[\"X11\"],[\"SHA-256\"],[\"C11\"],[\"Ethash\"],[\"Scrypt\"],[\"CryptoNight\"],[\"SkunkHash\"],[\"CryptoNight\"],[\"Scrypt\"],[\"Dagger\"],[\"Lyra2REv2\"],[\"Scrypt\"],[\"Scrypt\"],[\"X11\"],[\"Ethash\"],[\"CryptoNight\"],[\"Scrypt\"],[\"SHA-256\"],[\"IMesh\"],[\"Quark\"],[\"Equihash\"],[\"Lyra2Z\"],[\"NeoScrypt\"],[\"X11\"],[\"CryptoNight\"],[\"NIST5\"],[\"Lyra2RE\"],[\"Tribus\"],[\"Lyra2Z\"],[\"CryptoNight\"],[\"CryptoNight Heavy\"],[\"CryptoNight\"],[\"Jump Consistent Hash\"],[\"CryptoNight\"],[\"SHA-512\"],[\"X16R\"],[\"HMQ1725\"],[\"X11\"],[\"Scrypt\"],[\"Scrypt\"],[\"CryptoNight-V7\"],[\"Cryptonight-GPU\"],[\"XEVAN\"],[\"CryptoNight Heavy\"],[\"CryptoNight\"],[\"X11\"],[\"SHA-256\"],[\"X11\"],[\"SHA-512\"],[\"X16R\"],[\"Equihash\"],[\"HMQ1725\"],[\"Lyra2Z\"],[\"SHA-256\"],[\"PHI1612\"],[\"CryptoNight\"],[\"Blake\"],[\"Blake\"],[\"Blake\"],[\"Blake\"],[\"Equihash\"],[\"Exosis\"],[\"Scrypt\"],[\"Equihash\"],[\"Equihash\"],[\"Lyra2REv2\"],[\"QuBit\"],[\"SHA-256\"],[\"X13\"],[\"SHA-256\"],[\"Ethash\"],[\"Scrypt\"],[\"NeoScrypt\"],[\"Blake\"],[\"Scrypt\"],[\"SHA-256\"],[\"Scrypt\"],[\"Groestl\"],[\"Scrypt\"],[\"Scrypt\"],[\"Multiple\"],[\"Equihash+Scrypt\"],[\"Lyra2Z\"],[\"Ethash\"],[\"Equihash\"],[\"CryptoNight\"],[\"Equihash\"]],\"hovertemplate\":\"<b>%{hovertext}</b><br><br>Class=%{marker.color}<br>PC 1=%{x}<br>PC 2=%{y}<br>PC 3=%{z}<br>Algorithm=%{customdata[0]}<extra></extra>\",\"hovertext\":[\"Bitcoin\",\"Ethereum\",\"Litecoin\",\"Monero\",\"Ethereum Classic\",\"ZCash\",\"DigiByte\",\"ProsperCoin\",\"Spreadcoin\",\"Argentum\",\"MyriadCoin\",\"MoonCoin\",\"ZetaCoin\",\"SexCoin\",\"Quatloo\",\"QuarkCoin\",\"Riecoin\",\"Digitalcoin \",\"Catcoin\",\"CannaCoin\",\"CryptCoin\",\"Verge\",\"DevCoin\",\"EarthCoin\",\"E-Gulden\",\"Einsteinium\",\"Emerald\",\"Franko\",\"FeatherCoin\",\"GrandCoin\",\"GlobalCoin\",\"GoldCoin\",\"Infinite Coin\",\"IXcoin\",\"KrugerCoin\",\"LuckyCoin\",\"Litebar \",\"MegaCoin\",\"MediterraneanCoin\",\"MinCoin\",\"NobleCoin\",\"Namecoin\",\"NyanCoin\",\"RonPaulCoin\",\"StableCoin\",\"SmartCoin\",\"SysCoin\",\"TigerCoin\",\"TerraCoin\",\"UnbreakableCoin\",\"Unobtanium\",\"UroCoin\",\"ViaCoin\",\"Vertcoin\",\"WorldCoin\",\"JouleCoin\",\"ByteCoin\",\"DigitalNote \",\"MonaCoin\",\"Gulden\",\"PesetaCoin\",\"Wild Beast Coin\",\"Flo\",\"ArtByte\",\"Folding Coin\",\"Unitus\",\"CypherPunkCoin\",\"OmniCron\",\"GreenCoin\",\"Cryptonite\",\"MasterCoin\",\"SoonCoin\",\"1Credit\",\"MarsCoin \",\"Crypto\",\"Anarchists Prime\",\"BowsCoin\",\"Song Coin\",\"BitZeny\",\"Expanse\",\"Siacoin\",\"MindCoin\",\"I0coin\",\"Revolution VR\",\"HOdlcoin\",\"Gamecredits\",\"CarpeDiemCoin\",\"Adzcoin\",\"SoilCoin\",\"YoCoin\",\"SibCoin\",\"Francs\",\"Aiden\",\"BolivarCoin\",\"Omni\",\"PizzaCoin\",\"Komodo\",\"Karbo\",\"ZayedCoin\",\"Circuits of Value\",\"DopeCoin\",\"DollarCoin\",\"Shilling\",\"ZCoin\",\"Elementrem\",\"ZClassic\",\"KiloCoin\",\"ArtexCoin\",\"Kurrent\",\"Cannabis Industry Coin\",\"OsmiumCoin\",\"Bikercoins\",\"HexxCoin\",\"PacCoin\",\"Citadel\",\"BeaverCoin\",\"VaultCoin\",\"Zero\",\"Canada eCoin\",\"Zoin\",\"DubaiCoin\",\"EB3coin\",\"Coinonat\",\"BenjiRolls\",\"ILCoin\",\"EquiTrader\",\"Quantum Resistant Ledger\",\"Dynamic\",\"Nano\",\"ChanCoin\",\"Dinastycoin\",\"DigitalPrice\",\"Unify\",\"SocialCoin\",\"ArcticCoin\",\"DAS\",\"LeviarCoin\",\"Bitcore\",\"gCn Coin\",\"SmartCash\",\"Onix\",\"Bitcoin Cash\",\"Sojourn Coin\",\"NewYorkCoin\",\"FrazCoin\",\"Kronecoin\",\"AdCoin\",\"Linx\",\"Sumokoin\",\"BitcoinZ\",\"Elements\",\"VIVO Coin\",\"Bitcoin Gold\",\"Pirl\",\"eBoost\",\"Pura\",\"Innova\",\"Ellaism\",\"GoByte\",\"SHIELD\",\"UltraNote\",\"BitCoal\",\"DaxxCoin\",\"BoxyCoin\",\"AC3\",\"Lethean\",\"PopularCoin\",\"Photon\",\"Sucre\",\"SparksPay\",\"GoaCoin\",\"GunCoin\",\"IrishCoin\",\"Pioneer Coin\",\"UnitedBitcoin\",\"Interzone\",\"1717 Masonic Commemorative Token\",\"Crypto Wisdom Coin\",\"TurtleCoin\",\"MUNcoin\",\"Niobio Cash\",\"ShareChain\",\"Travelflex\",\"KREDS\",\"BitFlip\",\"LottoCoin\",\"Crypto Improvement Fund\",\"Callisto Network\",\"BitTube\",\"Poseidon\",\"Manna\",\"Aidos Kuneen\",\"Cosmo\",\"Bitrolium\",\"Alpenschillling\",\"Rapture\",\"FuturoCoin\",\"Monero Classic\",\"Jumpcoin\",\"Infinex\",\"KEYCO\",\"GINcoin\",\"PlatinCoin\",\"Loki\",\"Newton Coin\",\"MassGrid\",\"PluraCoin\",\"Arionum\",\"Motion\",\"PlusOneCoin\",\"Axe\",\"HexCoin\",\"Deimos\",\"Webchain\",\"Ryo\",\"Urals Coin\",\"Qwertycoin\",\"Bitcoin Nova\",\"DACash\",\"Project Pai\",\"Azart\",\"Kcash\",\"Xchange\",\"CrypticCoin\",\"Brazio\",\"Actinium\",\"Bitcoin SV\",\"Argoneum\",\"FREDEnergy\",\"BlakeBitcoin\",\"Universal Molecule\",\"Lithium\",\"Electron\",\"PirateCash\",\"Exosis\",\"Block-Logic\",\"Beam\",\"Bithereum\",\"Scribe Network\",\"SLICE\",\"BLAST\",\"Bitcoin Rhodium\",\"GlobalToken\",\"Media Protocol Token\",\"SolarCoin\",\"UFO Coin\",\"BlakeCoin\",\"Crypto Escudo\",\"Crown Coin\",\"SmileyCoin\",\"Groestlcoin\",\"Bata\",\"Pakcoin\",\"JoinCoin\",\"Vollar\",\"TecraCoin\",\"Reality Clash\",\"ChainZilla\",\"Beldex\",\"Horizen\"],\"legendgroup\":\"0\",\"marker\":{\"color\":[0,0,0,0,0,0,0,0,0,0,0,0,0,0,0,0,0,0,0,0,0,0,0,0,0,0,0,0,0,0,0,0,0,0,0,0,0,0,0,0,0,0,0,0,0,0,0,0,0,0,0,0,0,0,0,0,0,0,0,0,0,0,0,0,0,0,0,0,0,0,0,0,0,0,0,0,0,0,0,0,0,0,0,0,0,0,0,0,0,0,0,0,0,0,0,0,0,0,0,0,0,0,0,0,0,0,0,0,0,0,0,0,0,0,0,0,0,0,0,0,0,0,0,0,0,0,0,0,0,0,0,0,0,0,0,0,0,0,0,0,0,0,0,0,0,0,0,0,0,0,0,0,0,0,0,0,0,0,0,0,0,0,0,0,0,0,0,0,0,0,0,0,0,0,0,0,0,0,0,0,0,0,0,0,0,0,0,0,0,0,0,0,0,0,0,0,0,0,0,0,0,0,0,0,0,0,0,0,0,0,0,0,0,0,0,0,0,0,0,0,0,0,0,0,0,0,0,0,0,0,0,0,0,0,0,0,0,0,0,0,0,0,0,0,0,0,0,0,0,0,0,0,0,0,0,0,0,0,0,0],\"coloraxis\":\"coloraxis\",\"symbol\":\"diamond\"},\"mode\":\"markers\",\"name\":\"0\",\"scene\":\"scene\",\"showlegend\":true,\"x\":[-0.1392232900985442,-0.13664469440860313,-0.15801525176694453,-0.14695156826092315,-0.13502542015212388,-0.15774710449387697,0.1829059491593349,-0.15920911334558463,-0.21694502911450386,-0.15881032631208863,-0.08088782617481326,2.669279325272997,-0.1361868014622666,-0.15595266817878498,-0.15860690980865505,-0.2222142577411628,-0.19660780993916355,-0.15865635160020866,-0.15919061572835946,-0.1592805771518465,-0.21703816344407212,0.20780040860519983,0.2543150247158908,0.0997882436798393,-0.15901616415697914,-0.1544399288678537,-0.15895314719789483,-0.1593399821938364,-0.17254586672964978,-0.13770648341059696,-0.15808482496026174,-0.1583742816056196,1.6623800163604892,-0.13918299607493492,-0.15555227987360934,-0.1590437167717835,-0.15941329469510715,-0.15864176851542697,-0.146389129754289,-0.15928968690002426,-0.018790952003199874,-0.13926394857059746,-0.15268978346210169,-0.15926854634141446,-0.15728713700564703,-0.1587340209289123,-0.125886695774213,-0.1387053434279258,-0.13900477736750422,-0.13898807738087918,-0.13960202095619564,-0.21721904951109683,-0.1589728827753939,-0.18513555833967718,-0.155958010321222,-0.1387754804833288,4.002216255951338,0.4595450779706652,-0.15779397923025884,-0.1417731228110119,-0.15645931779427308,-0.15941563437918493,-0.1563183696056681,-0.14197195066604282,-0.12114183516864031,-0.11630360984598617,-0.17638749316013227,-0.159283267146837,-0.027025518942607678,-0.11425659765146726,-0.1594248544597943,-0.13929292222765288,0.51827717316757,-0.2165807571956084,-0.15059513867393476,-0.13902248606354137,-0.21687759316911345,-0.15747362560193853,-0.1566321808442848,-0.13775858507380387,0.4097112945487746,-0.2169143762627538,-0.13918416675622455,-0.15521443068292187,-0.16180222816339618,-0.15792864277439533,0.29672421796156595,-0.21604083329369583,-0.15927296735900937,-0.15818905002553432,-0.15269510627766336,-0.1592062539633282,-0.15552452204639905,-0.2168762851888997,-0.15942491538993206,-0.2170327143109422,-0.28587761125239675,0.2980466847287239,-0.13945514076191629,-0.09555107027617156,-0.15647512049199888,-0.13941201383785862,-0.15907463154735768,-0.08388692769290813,-0.1374898953059641,-0.15776965243925625,-0.08327148756991162,-0.20305138329812247,-0.2147729416191098,0.29804050229131657,-0.15940592473254905,0.2981767368275518,-0.15115731639642788,0.5262530212542605,-0.14566818415756114,-0.15937286404912068,-0.2094807961455813,-0.15778244971473845,-0.15742841125172088,-0.15086387281194188,-0.16581583864282667,-0.12915476885077468,-0.18138900462839883,-0.15891728394972515,-0.10439889231151114,-0.15873269367255965,-0.14551758482668023,-0.15344861623605002,-0.007839383009817825,-0.16397153440094517,0.3356633893043804,-0.21605003008273377,-0.15906424758059964,-0.15881897739000023,-0.21646060168815515,-0.21706178562741427,0.29845158797858184,-0.15489861796068188,3.391583287526663,-0.10650699016432191,-0.2075706924857118,-0.1392224183244399,-0.08208340816663857,1.6628261465731438,-0.15916632870348113,-0.15859612523176503,-0.15828466536688893,-0.1582710334976565,0.29864214112844994,0.06310781513370925,-0.16953366776438683,-0.17742798210879945,-0.1576219819354377,-0.15798211424424322,-0.15742654328716188,-0.21242348704629568,-0.17726723410504128,-0.13579170737267318,-0.17737138981103337,-0.10613300481201306,1.169720296455867,0.2980227647311531,-0.05771489858944382,-0.15862725044262782,-0.21215945659046406,-0.1341854896697923,-0.07209120239078125,1.1442299267770828,-0.2170346893881509,-0.17742526990774043,-0.17739349229467283,-0.1701765588839613,-0.15838629067887164,-0.2169569730248046,-0.13920090547475372,-0.19751644948647207,-0.25433685179350624,-0.15903585932058614,8.341457625128804,-0.15107815212029993,0.30205510526526,0.04165225195712634,-0.15746238134472432,-0.17009975333224556,-0.15898405901936155,0.16080862668905993,-0.2108587472907402,-0.08697973576745419,0.3062598183843431,-0.15923075136895226,-0.03553456650927118,-0.13981594174863002,-0.22713980162797515,-0.15657097946001047,-0.0815826871897016,-0.17746819324621832,-0.2160925583751112,0.29821298050117784,-0.18145027376935416,-0.15099634005311965,-0.1983509654532988,-0.08397463662277636,0.30229429058338636,0.617531563216472,2.1794957651855698,-0.12896889198811837,0.31237669144630176,-0.171691735719383,-0.18676836654086557,-0.14484057331664618,-0.2170161144984484,-0.15925642237197124,-0.14864129332928847,-0.1340809363976487,-0.1452342999683468,-0.16917326805942706,3.24362766846155,0.31141295332886176,-0.21652576855796377,-0.0973776143591273,-0.2169863575252692,-0.2437205251165054,-0.1861735977330375,-0.048044924797943735,-0.14261750183503658,-0.08334848465629272,-0.13922245750764806,-0.2098237244818524,0.3811852147457639,-0.1468222530897426,-0.14644491417327776,-0.1468516129873939,-0.09536641987678712,-0.2734032117749087,-0.15263281493603034,-0.15810372181955665,-0.15560522716625083,-0.1574478743375736,-0.18608856654606595,-0.17556725091812939,-0.13846861534830865,-0.102538953932737,-0.13729067616032414,0.0630727021272083,0.5639194298646503,-0.0994780881504947,-0.09537661556214606,-0.14212902181293324,-0.13900412070681406,0.585859351472854,-0.1961504848203691,-0.15933609703995372,-0.15720866304818415,-0.11707022069154056,-0.10190775040578785,-0.08207321119111291,-0.1375244343476205,-0.28405177739784493,0.32067850513526225,-0.15774820695963487],\"y\":[-1.3339849310888463,-2.06782742685789,-1.066374801327792,-2.3325720621104624,-2.0679218487439766,-2.107339171866911,-1.921270975610442,-1.0663724010436457,-0.9230697895725016,-1.0663892737430563,-1.9170225365700597,-1.2438645816093012,-1.3339826625971625,-1.066420785246346,-1.0664081762056143,-0.6200726691752796,-1.2430628173444151,-1.0663720461197186,-1.066371723754487,-1.0663692644841827,-0.9230717357612509,-1.917105906008718,-1.334931329561756,-1.0667553116771566,-1.066365336220537,-1.0664018424539943,-1.066371080413969,-1.066370045808311,-1.6486783937118508,-1.0666095412227845,-1.0663671013116747,-1.0663793435112792,-1.0659751920472673,-1.3339834557255668,-1.0664174124549515,-1.0663656130982906,-1.0663654941254228,-1.066366998898009,-2.243387299933349,-1.0663672996839129,-1.0721950213087494,-1.3339864197963993,-1.066364995401403,-1.0663745771792665,-1.0664696467433747,-1.0663771107430289,-1.3341312214553724,-1.3339850062120195,-1.3339923014098582,-1.3340195044058265,-1.333983610134964,-0.9230651836209878,-1.0663652153945244,-1.4780839204648786,-1.0664322682512513,-1.3339861015968455,-2.364560914051731,-2.3665724903295673,-1.0663821584338298,-1.0669483042679535,-1.066378134121588,-1.0663665152371922,-1.0663682990179764,-1.066457851806703,-2.1139064856491343,-1.9168553641808523,-1.631231682096191,-1.0663622127114791,-1.0688367314644716,-2.3149104545942785,-1.0663653826729276,-1.3339874806651355,-1.1088911933097945,-0.9230659672526391,-2.298546335953888,-1.334001557657669,-0.9230680523689618,-1.066447372298385,-1.0664456655623327,-2.067880586698271,-2.0170466147603583,-0.923065739381731,-1.3339834985899932,-1.0663644763399769,-2.278213641436948,-1.0663716301446626,-1.3338369311252076,-0.9230835279108147,-2.2679984760937457,-1.066442906684961,-2.282276760378873,-1.0663715643879288,-2.2664116778980743,-0.9230709323157639,-1.0663653826860435,-0.923076659958799,-1.7389315778789298,-2.365173467975677,-1.333985175494166,-1.916973862700057,-1.0664033168265907,-1.3339842568500846,-1.0663740646370163,-1.9547364413089279,-2.0678775552346464,-2.1073399974585945,-1.070896174273194,-0.9229124151645192,-0.9231425063153885,-2.365181745900911,-1.0663662228769224,-2.3651796855198577,-2.2985260846895583,-0.9690389582978836,-2.332660483604477,-1.0663654849985214,-0.9235138075374735,-2.1073375381916586,-1.0663650255507782,-2.2985233918264854,-2.255729756946857,-1.0681844302688737,-0.6422803786367506,-1.0663723440738553,-1.3345243656879522,-1.0663922869053992,-2.332596412650502,-2.072330290991978,-2.032584281026272,-2.3277268681349295,-2.365252734180322,-0.9230955760043799,-1.0663658354794523,-1.066397642057416,-0.9230813306751873,-0.9230732594497386,-2.3651908486897923,-2.237988911644569,-1.082736897512683,-1.2841160607296354,-0.9235170651656381,-1.3339848991688963,-1.0712186526187237,-0.9996433168053692,-1.066370102526905,-1.066396069975291,-1.0663963772444722,-1.0663958781143876,-2.365209408854179,-2.11460836262311,-0.9226367134826371,-1.6486309765592566,-2.1073345905118464,-2.2680436630096104,-1.0663649571553664,-0.9231457802472165,-1.6486382660535126,-2.068001143477504,-1.6486324178417309,-1.9169660614194228,-2.3954664371555294,-2.3651761737039836,-2.0722570131102898,-1.066408920976722,-0.9232825047087145,-2.332836212994865,-1.0668270107681914,-1.2487750934891821,-0.9230729260861881,-1.6486264854945456,-1.6486333735147807,-1.6487116830206776,-1.0663737477034698,-0.923072422776885,-1.3339835010228698,-1.2346817852030012,-0.21959133919179769,-1.0663682532366006,-2.8026167383413845,-2.125810136610773,-2.365265318726452,-1.0663220989521267,-2.267983418766457,-1.4782770563140541,-1.06637806792532,-1.0681127649940232,-0.9231982813345234,-2.070766684772217,-2.365597384582428,-1.0663731933185892,-1.3375252852276749,-2.2212808769105012,-0.6200809281140511,-2.1073319741391243,-1.9548559956253742,-1.648628057130041,-0.9230971331752854,-2.365173527526504,-0.6422626746395618,-2.298532106853387,-1.1095668161947405,-1.9547316744065044,-2.3654497986850687,-2.2152474060484164,-2.430957569089429,-2.259011101121955,-2.3653734156376873,-1.2249708410346056,-1.2773174740674567,-2.127144694793403,-0.9230731243192282,-1.0663749422687123,-1.06670204939316,-2.3333817339960734,-2.362590055041951,-0.6941330460260644,-2.254007847139427,-2.365408702851756,-0.9230763971602143,-1.3339744981697461,-0.9230749626078382,-0.2723148907158203,-1.277352734082643,-2.1088699549032777,-2.1271994416493465,-1.9547625469203167,-1.3339849006035878,-0.78201018970874,-2.3680362696371855,-2.280359560290834,-2.28040731649179,-2.280363730612524,-2.2835838540896036,-0.25908883461891996,-2.1735393146554056,-1.066404391199307,-2.1074377349879483,-2.1073354517251217,-1.4780812652761548,-1.6312748449355967,-1.3339887729806024,-0.3317977273193585,-1.3340217666059444,-2.067834382266699,-1.1116849583754664,-1.6486849213210537,-2.283584227404018,-1.0664636029574401,-1.3339922773662665,-1.0756743724464966,-1.2430614435639913,-1.0663653391904118,-1.0664170001709337,-1.916885483078434,-2.231403510422052,-1.9548080797681755,-2.0678775626694526,-1.5437700619640344,-2.3653623920048648,-2.107339212233629],\"z\":[0.14804693220110463,0.23458552085228146,-0.028551908635623242,0.28313001238298513,0.23457446140107152,0.13090293129268743,0.23910643263228737,-0.02854588206109484,0.07401865228140314,-0.02854840376894641,0.2405557319112887,-0.04826163071454084,0.14803186912303698,-0.02856364463051335,-0.028550015926551348,-0.037676525135535086,0.04367881788302518,-0.02854862597732763,-0.028545952823254086,-0.02854542658966931,0.0740190548973313,0.23911417448660424,0.14605545207285453,-0.029848930672014284,-0.028546620183256106,-0.028570585091457722,-0.028547116084207905,-0.028545155223912957,0.16365653438662764,-0.028660563836435678,-0.02855131815455243,-0.02855026287054264,-0.03761272034069798,0.14804677805736743,-0.02856553355121757,-0.028546491614964264,-0.028544645749411526,-0.028548538920075937,0.32192012802374304,-0.028545318997839086,-0.029430058715302406,0.14804708773905867,-0.028578142195208676,-0.02854565470169709,-0.028558539654318253,-0.028548399142383905,0.1479758280709287,0.14804434820391013,0.14804560979036668,0.1480446655790526,0.14804886173057846,0.07402016386883112,-0.02854683208801342,0.1406759733124079,-0.028563981439819416,0.1480446631216136,0.24851269078846402,0.2661068834358026,-0.028553244383920633,-0.028651016172112805,-0.028559769414024133,-0.0285446664057617,-0.028560160666604908,-0.028634502360153885,0.3273315093610632,0.24073754702581282,0.19083638327079963,-0.028545189993702542,-0.029282725230037672,0.26233528883370977,-0.028544584604211238,0.14804719857703919,-0.03326841738398684,0.07401695760440197,0.3236210295519961,0.14804540509681474,0.07401837114045531,-0.02855690514805128,-0.028561045172278095,0.2345893903508151,0.3522913391024725,0.07401862768559538,0.14804678253577858,-0.028565542080188803,0.30571786813394497,-0.028552239956100872,0.1458787080959859,0.07401371064931053,0.26004961530695786,-0.028553197896903585,0.4241158785823151,-0.028545869833116088,0.16574416815246004,0.07401827347092178,-0.028544584300930056,0.074018871886507,-0.14344403990965224,0.26695612444537037,0.14804808008701525,0.24063035895246102,-0.0285604876790072,0.14804789420301434,-0.028546605016007275,0.18266903588997213,0.2345881470567002,0.13090301754927217,-0.029067557722839272,0.07395438258979843,0.07400552439030038,0.2669558932649313,-0.028544705548707777,0.2669552794373261,0.3236244725850818,0.06885938335074192,0.2831208170327238,-0.028544846980417798,0.07396739490726978,0.13090315917080927,-0.028554524242488027,0.3236230951929748,0.2866373696367164,-0.02875303357638943,-0.019944186003265755,-0.02854733483339062,0.1478562826778995,-0.02854888608239115,0.2831220942366321,0.26248280268682606,0.3538807853444582,0.16600769092046344,0.2667661214292223,0.07401337516783509,-0.02854639632089022,-0.02854862550566472,0.07401587245784677,0.0740191244135615,0.2669535561736182,0.27711692309500857,-0.0467621550668783,0.1108005098004578,0.0739577712075953,0.14804692886616969,-0.029083685926167977,-0.03551554461713791,-0.02854602256617142,-0.028549686519117705,-0.028551248664380295,-0.0285513008127456,0.26695201896498666,0.12957204705393513,0.07379604501669951,0.16368236923343374,0.1309024526395557,0.26004175110013356,-0.028554531388338442,0.07399371030261317,0.16368133729957732,0.23457577116008224,0.16368204154198668,0.2406833497660217,0.26165264097575064,0.26695615803452577,0.23405191222503458,-0.028549938113979087,0.07398806696644701,0.28305802161670485,-0.02899449525527843,0.07771888255710604,0.07401899990776964,0.16368249785681155,0.16368212146117514,0.16364367135892213,-0.028550025906361562,0.07401862847310832,0.148046865890154,0.18319726879771803,0.04087200236787759,-0.02854661433933094,0.21302002209002688,0.3394369006872636,0.26693323806569896,-0.029545450277273504,0.26004106730364535,0.14059491709106636,-0.028547183163607114,-0.030196039990858042,0.07398424946006628,0.23424494676018884,0.2669017705061878,-0.02854579928539282,0.14741806092745474,0.3420723232036918,-0.037652235971054764,0.13089729689946256,0.1826537668979962,0.16368266205893964,0.07401353785872435,0.26695529368680065,-0.019943320287041013,0.3236234796240275,0.10530336974381055,0.18266962393277628,0.26692620710774634,0.19233540443258604,0.25549629012621755,0.3139366596292535,0.2668783705655218,0.007712753259522153,0.10082466153777139,0.26991313092336494,0.07401890105023998,-0.028545726686675054,-0.028608988961228925,0.2830402347852388,0.2669834451274587,-0.08176089265022149,0.17801929712519723,0.26688205732091763,0.07401635341675446,0.1478386895484608,0.07401869454981502,-0.3416002663005532,0.10082058103385408,0.13030768973115794,0.2699003176567223,0.18266552586881518,0.1480469290160641,0.06103601326000792,0.2664511267050173,0.17325244858902936,0.1732490563250271,0.17325246293818558,0.17289392681209945,-0.06282028454860637,0.2656584330877863,-0.028552404188713878,0.13088913594304324,0.13090155757167082,0.14068080746082945,0.1908309288079647,0.1480430490539552,-0.06782896983525176,0.14803613356475925,0.2335898423633012,-0.03358433614430948,0.16329213352364044,0.17289396581543162,-0.02863390148851888,0.1480456072783281,-0.03255395943663315,0.043676581901621936,-0.028545025624680597,-0.02855726453431419,0.2407404148097747,0.3852949002730864,0.18265772836745484,0.2345883189755331,-0.14858739525757245,0.2668373404446738,0.13090293551014076],\"type\":\"scatter3d\"},{\"customdata\":[[\"Proof-of-BibleHash\"],[\"SHA-256 + Hive\"],[\"ECC 256K1\"]],\"hovertemplate\":\"<b>%{hovertext}</b><br><br>Class=%{marker.color}<br>PC 1=%{x}<br>PC 2=%{y}<br>PC 3=%{z}<br>Algorithm=%{customdata[0]}<extra></extra>\",\"hovertext\":[\"BiblePay\",\"LitecoinCash\",\"Acute Angle Cloud\"],\"legendgroup\":\"3\",\"marker\":{\"color\":[3,3,3],\"coloraxis\":\"coloraxis\",\"symbol\":\"square\"},\"mode\":\"markers\",\"name\":\"3\",\"scene\":\"scene\",\"showlegend\":true,\"x\":[-0.17844776968925585,-0.3814085829643886,-0.3124968666468264],\"y\":[2.634438081899227,2.8665765979703375,2.515718299602539],\"z\":[20.65174466536593,21.981952286398954,12.38554518132615],\"type\":\"scatter3d\"},{\"customdata\":[[\"TRC10\"]],\"hovertemplate\":\"<b>%{hovertext}</b><br><br>Class=%{marker.color}<br>PC 1=%{x}<br>PC 2=%{y}<br>PC 3=%{z}<br>Algorithm=%{customdata[0]}<extra></extra>\",\"hovertext\":[\"BitTorrent\"],\"legendgroup\":\"2\",\"marker\":{\"color\":[2],\"coloraxis\":\"coloraxis\",\"symbol\":\"x\"},\"mode\":\"markers\",\"name\":\"2\",\"scene\":\"scene\",\"showlegend\":true,\"x\":[35.49961829661983],\"y\":[1.8823873393644173],\"z\":[0.2610847138666059],\"type\":\"scatter3d\"}],                        {\"template\":{\"data\":{\"bar\":[{\"error_x\":{\"color\":\"#2a3f5f\"},\"error_y\":{\"color\":\"#2a3f5f\"},\"marker\":{\"line\":{\"color\":\"#E5ECF6\",\"width\":0.5},\"pattern\":{\"fillmode\":\"overlay\",\"size\":10,\"solidity\":0.2}},\"type\":\"bar\"}],\"barpolar\":[{\"marker\":{\"line\":{\"color\":\"#E5ECF6\",\"width\":0.5},\"pattern\":{\"fillmode\":\"overlay\",\"size\":10,\"solidity\":0.2}},\"type\":\"barpolar\"}],\"carpet\":[{\"aaxis\":{\"endlinecolor\":\"#2a3f5f\",\"gridcolor\":\"white\",\"linecolor\":\"white\",\"minorgridcolor\":\"white\",\"startlinecolor\":\"#2a3f5f\"},\"baxis\":{\"endlinecolor\":\"#2a3f5f\",\"gridcolor\":\"white\",\"linecolor\":\"white\",\"minorgridcolor\":\"white\",\"startlinecolor\":\"#2a3f5f\"},\"type\":\"carpet\"}],\"choropleth\":[{\"colorbar\":{\"outlinewidth\":0,\"ticks\":\"\"},\"type\":\"choropleth\"}],\"contour\":[{\"colorbar\":{\"outlinewidth\":0,\"ticks\":\"\"},\"colorscale\":[[0.0,\"#0d0887\"],[0.1111111111111111,\"#46039f\"],[0.2222222222222222,\"#7201a8\"],[0.3333333333333333,\"#9c179e\"],[0.4444444444444444,\"#bd3786\"],[0.5555555555555556,\"#d8576b\"],[0.6666666666666666,\"#ed7953\"],[0.7777777777777778,\"#fb9f3a\"],[0.8888888888888888,\"#fdca26\"],[1.0,\"#f0f921\"]],\"type\":\"contour\"}],\"contourcarpet\":[{\"colorbar\":{\"outlinewidth\":0,\"ticks\":\"\"},\"type\":\"contourcarpet\"}],\"heatmap\":[{\"colorbar\":{\"outlinewidth\":0,\"ticks\":\"\"},\"colorscale\":[[0.0,\"#0d0887\"],[0.1111111111111111,\"#46039f\"],[0.2222222222222222,\"#7201a8\"],[0.3333333333333333,\"#9c179e\"],[0.4444444444444444,\"#bd3786\"],[0.5555555555555556,\"#d8576b\"],[0.6666666666666666,\"#ed7953\"],[0.7777777777777778,\"#fb9f3a\"],[0.8888888888888888,\"#fdca26\"],[1.0,\"#f0f921\"]],\"type\":\"heatmap\"}],\"heatmapgl\":[{\"colorbar\":{\"outlinewidth\":0,\"ticks\":\"\"},\"colorscale\":[[0.0,\"#0d0887\"],[0.1111111111111111,\"#46039f\"],[0.2222222222222222,\"#7201a8\"],[0.3333333333333333,\"#9c179e\"],[0.4444444444444444,\"#bd3786\"],[0.5555555555555556,\"#d8576b\"],[0.6666666666666666,\"#ed7953\"],[0.7777777777777778,\"#fb9f3a\"],[0.8888888888888888,\"#fdca26\"],[1.0,\"#f0f921\"]],\"type\":\"heatmapgl\"}],\"histogram\":[{\"marker\":{\"pattern\":{\"fillmode\":\"overlay\",\"size\":10,\"solidity\":0.2}},\"type\":\"histogram\"}],\"histogram2d\":[{\"colorbar\":{\"outlinewidth\":0,\"ticks\":\"\"},\"colorscale\":[[0.0,\"#0d0887\"],[0.1111111111111111,\"#46039f\"],[0.2222222222222222,\"#7201a8\"],[0.3333333333333333,\"#9c179e\"],[0.4444444444444444,\"#bd3786\"],[0.5555555555555556,\"#d8576b\"],[0.6666666666666666,\"#ed7953\"],[0.7777777777777778,\"#fb9f3a\"],[0.8888888888888888,\"#fdca26\"],[1.0,\"#f0f921\"]],\"type\":\"histogram2d\"}],\"histogram2dcontour\":[{\"colorbar\":{\"outlinewidth\":0,\"ticks\":\"\"},\"colorscale\":[[0.0,\"#0d0887\"],[0.1111111111111111,\"#46039f\"],[0.2222222222222222,\"#7201a8\"],[0.3333333333333333,\"#9c179e\"],[0.4444444444444444,\"#bd3786\"],[0.5555555555555556,\"#d8576b\"],[0.6666666666666666,\"#ed7953\"],[0.7777777777777778,\"#fb9f3a\"],[0.8888888888888888,\"#fdca26\"],[1.0,\"#f0f921\"]],\"type\":\"histogram2dcontour\"}],\"mesh3d\":[{\"colorbar\":{\"outlinewidth\":0,\"ticks\":\"\"},\"type\":\"mesh3d\"}],\"parcoords\":[{\"line\":{\"colorbar\":{\"outlinewidth\":0,\"ticks\":\"\"}},\"type\":\"parcoords\"}],\"pie\":[{\"automargin\":true,\"type\":\"pie\"}],\"scatter\":[{\"marker\":{\"colorbar\":{\"outlinewidth\":0,\"ticks\":\"\"}},\"type\":\"scatter\"}],\"scatter3d\":[{\"line\":{\"colorbar\":{\"outlinewidth\":0,\"ticks\":\"\"}},\"marker\":{\"colorbar\":{\"outlinewidth\":0,\"ticks\":\"\"}},\"type\":\"scatter3d\"}],\"scattercarpet\":[{\"marker\":{\"colorbar\":{\"outlinewidth\":0,\"ticks\":\"\"}},\"type\":\"scattercarpet\"}],\"scattergeo\":[{\"marker\":{\"colorbar\":{\"outlinewidth\":0,\"ticks\":\"\"}},\"type\":\"scattergeo\"}],\"scattergl\":[{\"marker\":{\"colorbar\":{\"outlinewidth\":0,\"ticks\":\"\"}},\"type\":\"scattergl\"}],\"scattermapbox\":[{\"marker\":{\"colorbar\":{\"outlinewidth\":0,\"ticks\":\"\"}},\"type\":\"scattermapbox\"}],\"scatterpolar\":[{\"marker\":{\"colorbar\":{\"outlinewidth\":0,\"ticks\":\"\"}},\"type\":\"scatterpolar\"}],\"scatterpolargl\":[{\"marker\":{\"colorbar\":{\"outlinewidth\":0,\"ticks\":\"\"}},\"type\":\"scatterpolargl\"}],\"scatterternary\":[{\"marker\":{\"colorbar\":{\"outlinewidth\":0,\"ticks\":\"\"}},\"type\":\"scatterternary\"}],\"surface\":[{\"colorbar\":{\"outlinewidth\":0,\"ticks\":\"\"},\"colorscale\":[[0.0,\"#0d0887\"],[0.1111111111111111,\"#46039f\"],[0.2222222222222222,\"#7201a8\"],[0.3333333333333333,\"#9c179e\"],[0.4444444444444444,\"#bd3786\"],[0.5555555555555556,\"#d8576b\"],[0.6666666666666666,\"#ed7953\"],[0.7777777777777778,\"#fb9f3a\"],[0.8888888888888888,\"#fdca26\"],[1.0,\"#f0f921\"]],\"type\":\"surface\"}],\"table\":[{\"cells\":{\"fill\":{\"color\":\"#EBF0F8\"},\"line\":{\"color\":\"white\"}},\"header\":{\"fill\":{\"color\":\"#C8D4E3\"},\"line\":{\"color\":\"white\"}},\"type\":\"table\"}]},\"layout\":{\"annotationdefaults\":{\"arrowcolor\":\"#2a3f5f\",\"arrowhead\":0,\"arrowwidth\":1},\"autotypenumbers\":\"strict\",\"coloraxis\":{\"colorbar\":{\"outlinewidth\":0,\"ticks\":\"\"}},\"colorscale\":{\"diverging\":[[0,\"#8e0152\"],[0.1,\"#c51b7d\"],[0.2,\"#de77ae\"],[0.3,\"#f1b6da\"],[0.4,\"#fde0ef\"],[0.5,\"#f7f7f7\"],[0.6,\"#e6f5d0\"],[0.7,\"#b8e186\"],[0.8,\"#7fbc41\"],[0.9,\"#4d9221\"],[1,\"#276419\"]],\"sequential\":[[0.0,\"#0d0887\"],[0.1111111111111111,\"#46039f\"],[0.2222222222222222,\"#7201a8\"],[0.3333333333333333,\"#9c179e\"],[0.4444444444444444,\"#bd3786\"],[0.5555555555555556,\"#d8576b\"],[0.6666666666666666,\"#ed7953\"],[0.7777777777777778,\"#fb9f3a\"],[0.8888888888888888,\"#fdca26\"],[1.0,\"#f0f921\"]],\"sequentialminus\":[[0.0,\"#0d0887\"],[0.1111111111111111,\"#46039f\"],[0.2222222222222222,\"#7201a8\"],[0.3333333333333333,\"#9c179e\"],[0.4444444444444444,\"#bd3786\"],[0.5555555555555556,\"#d8576b\"],[0.6666666666666666,\"#ed7953\"],[0.7777777777777778,\"#fb9f3a\"],[0.8888888888888888,\"#fdca26\"],[1.0,\"#f0f921\"]]},\"colorway\":[\"#636efa\",\"#EF553B\",\"#00cc96\",\"#ab63fa\",\"#FFA15A\",\"#19d3f3\",\"#FF6692\",\"#B6E880\",\"#FF97FF\",\"#FECB52\"],\"font\":{\"color\":\"#2a3f5f\"},\"geo\":{\"bgcolor\":\"white\",\"lakecolor\":\"white\",\"landcolor\":\"#E5ECF6\",\"showlakes\":true,\"showland\":true,\"subunitcolor\":\"white\"},\"hoverlabel\":{\"align\":\"left\"},\"hovermode\":\"closest\",\"mapbox\":{\"style\":\"light\"},\"paper_bgcolor\":\"white\",\"plot_bgcolor\":\"#E5ECF6\",\"polar\":{\"angularaxis\":{\"gridcolor\":\"white\",\"linecolor\":\"white\",\"ticks\":\"\"},\"bgcolor\":\"#E5ECF6\",\"radialaxis\":{\"gridcolor\":\"white\",\"linecolor\":\"white\",\"ticks\":\"\"}},\"scene\":{\"xaxis\":{\"backgroundcolor\":\"#E5ECF6\",\"gridcolor\":\"white\",\"gridwidth\":2,\"linecolor\":\"white\",\"showbackground\":true,\"ticks\":\"\",\"zerolinecolor\":\"white\"},\"yaxis\":{\"backgroundcolor\":\"#E5ECF6\",\"gridcolor\":\"white\",\"gridwidth\":2,\"linecolor\":\"white\",\"showbackground\":true,\"ticks\":\"\",\"zerolinecolor\":\"white\"},\"zaxis\":{\"backgroundcolor\":\"#E5ECF6\",\"gridcolor\":\"white\",\"gridwidth\":2,\"linecolor\":\"white\",\"showbackground\":true,\"ticks\":\"\",\"zerolinecolor\":\"white\"}},\"shapedefaults\":{\"line\":{\"color\":\"#2a3f5f\"}},\"ternary\":{\"aaxis\":{\"gridcolor\":\"white\",\"linecolor\":\"white\",\"ticks\":\"\"},\"baxis\":{\"gridcolor\":\"white\",\"linecolor\":\"white\",\"ticks\":\"\"},\"bgcolor\":\"#E5ECF6\",\"caxis\":{\"gridcolor\":\"white\",\"linecolor\":\"white\",\"ticks\":\"\"}},\"title\":{\"x\":0.05},\"xaxis\":{\"automargin\":true,\"gridcolor\":\"white\",\"linecolor\":\"white\",\"ticks\":\"\",\"title\":{\"standoff\":15},\"zerolinecolor\":\"white\",\"zerolinewidth\":2},\"yaxis\":{\"automargin\":true,\"gridcolor\":\"white\",\"linecolor\":\"white\",\"ticks\":\"\",\"title\":{\"standoff\":15},\"zerolinecolor\":\"white\",\"zerolinewidth\":2}}},\"scene\":{\"domain\":{\"x\":[0.0,1.0],\"y\":[0.0,1.0]},\"xaxis\":{\"title\":{\"text\":\"PC 1\"}},\"yaxis\":{\"title\":{\"text\":\"PC 2\"}},\"zaxis\":{\"title\":{\"text\":\"PC 3\"}}},\"coloraxis\":{\"colorbar\":{\"title\":{\"text\":\"Class\"}},\"colorscale\":[[0.0,\"#0d0887\"],[0.1111111111111111,\"#46039f\"],[0.2222222222222222,\"#7201a8\"],[0.3333333333333333,\"#9c179e\"],[0.4444444444444444,\"#bd3786\"],[0.5555555555555556,\"#d8576b\"],[0.6666666666666666,\"#ed7953\"],[0.7777777777777778,\"#fb9f3a\"],[0.8888888888888888,\"#fdca26\"],[1.0,\"#f0f921\"]]},\"legend\":{\"title\":{\"text\":\"Class\"},\"tracegroupgap\":0,\"x\":0,\"y\":1},\"margin\":{\"t\":60},\"width\":800},                        {\"responsive\": true}                    ).then(function(){\n",
       "                            \n",
       "var gd = document.getElementById('a6a0c1bd-5ca6-443d-b431-1b9072f10575');\n",
       "var x = new MutationObserver(function (mutations, observer) {{\n",
       "        var display = window.getComputedStyle(gd).display;\n",
       "        if (!display || display === 'none') {{\n",
       "            console.log([gd, 'removed!']);\n",
       "            Plotly.purge(gd);\n",
       "            observer.disconnect();\n",
       "        }}\n",
       "}});\n",
       "\n",
       "// Listen for the removal of the full notebook cells\n",
       "var notebookContainer = gd.closest('#notebook-container');\n",
       "if (notebookContainer) {{\n",
       "    x.observe(notebookContainer, {childList: true});\n",
       "}}\n",
       "\n",
       "// Listen for the clearing of the current output cell\n",
       "var outputEl = gd.closest('.output');\n",
       "if (outputEl) {{\n",
       "    x.observe(outputEl, {childList: true});\n",
       "}}\n",
       "\n",
       "                        })                };                });            </script>        </div>"
      ]
     },
     "metadata": {},
     "output_type": "display_data"
    }
   ],
   "source": [
    "# Creating a 3D-Scatter with the PCA data and the clusters\n",
    "fig = px.scatter_3d(\n",
    "    clustered_df,\n",
    "    x=\"PC 1\",\n",
    "    y=\"PC 2\",\n",
    "    z=\"PC 3\",\n",
    "    color=\"Class\",\n",
    "    symbol=\"Class\",\n",
    "    hover_name = \"CoinName\",\n",
    "    hover_data = ['Algorithm'],\n",
    "    width=800\n",
    ")\n",
    "\n",
    "fig.update_layout(legend=dict(x=0,y=1))\n",
    "\n",
    "fig.show()"
   ]
  },
  {
   "cell_type": "code",
   "execution_count": 129,
   "id": "9830b5fd",
   "metadata": {},
   "outputs": [
    {
     "data": {},
     "metadata": {},
     "output_type": "display_data"
    },
    {
     "data": {
      "application/vnd.holoviews_exec.v0+json": "",
      "text/html": [
       "<div id='1238'>\n",
       "\n",
       "\n",
       "\n",
       "\n",
       "\n",
       "  <div class=\"bk-root\" id=\"42199c03-1e33-4bdd-821e-f78ec4b61f9b\" data-root-id=\"1238\"></div>\n",
       "</div>\n",
       "<script type=\"application/javascript\">(function(root) {\n",
       "  function embed_document(root) {\n",
       "    var docs_json = {\"cb9b07aa-faf6-41b5-bcb6-9c6df319486b\":{\"defs\":[{\"extends\":null,\"module\":null,\"name\":\"ReactiveHTML1\",\"overrides\":[],\"properties\":[]},{\"extends\":null,\"module\":null,\"name\":\"FlexBox1\",\"overrides\":[],\"properties\":[{\"default\":\"flex-start\",\"kind\":null,\"name\":\"align_content\"},{\"default\":\"flex-start\",\"kind\":null,\"name\":\"align_items\"},{\"default\":\"row\",\"kind\":null,\"name\":\"flex_direction\"},{\"default\":\"wrap\",\"kind\":null,\"name\":\"flex_wrap\"},{\"default\":\"flex-start\",\"kind\":null,\"name\":\"justify_content\"}]},{\"extends\":null,\"module\":null,\"name\":\"GridStack1\",\"overrides\":[],\"properties\":[{\"default\":\"warn\",\"kind\":null,\"name\":\"mode\"},{\"default\":null,\"kind\":null,\"name\":\"ncols\"},{\"default\":null,\"kind\":null,\"name\":\"nrows\"},{\"default\":true,\"kind\":null,\"name\":\"allow_resize\"},{\"default\":true,\"kind\":null,\"name\":\"allow_drag\"},{\"default\":[],\"kind\":null,\"name\":\"state\"}]},{\"extends\":null,\"module\":null,\"name\":\"click1\",\"overrides\":[],\"properties\":[{\"default\":\"\",\"kind\":null,\"name\":\"terminal_output\"},{\"default\":\"\",\"kind\":null,\"name\":\"debug_name\"},{\"default\":0,\"kind\":null,\"name\":\"clears\"}]},{\"extends\":null,\"module\":null,\"name\":\"TemplateActions1\",\"overrides\":[],\"properties\":[{\"default\":0,\"kind\":null,\"name\":\"open_modal\"},{\"default\":0,\"kind\":null,\"name\":\"close_modal\"}]},{\"extends\":null,\"module\":null,\"name\":\"MaterialTemplateActions1\",\"overrides\":[],\"properties\":[{\"default\":0,\"kind\":null,\"name\":\"open_modal\"},{\"default\":0,\"kind\":null,\"name\":\"close_modal\"}]}],\"roots\":{\"references\":[{\"attributes\":{},\"id\":\"1268\",\"type\":\"NumberEditor\"},{\"attributes\":{\"children\":[{\"id\":\"1239\"},{\"id\":\"1287\"},{\"id\":\"1294\"}],\"margin\":[0,0,0,0],\"name\":\"Row02013\",\"tags\":[\"embedded\"]},\"id\":\"1238\",\"type\":\"Row\"},{\"attributes\":{},\"id\":\"1241\",\"type\":\"Selection\"},{\"attributes\":{\"columns\":[{\"id\":\"1244\"},{\"id\":\"1249\"},{\"id\":\"1254\"},{\"id\":\"1259\"},{\"id\":\"1264\"},{\"id\":\"1269\"},{\"id\":\"1274\"},{\"id\":\"1279\"},{\"id\":\"1284\"}],\"height\":300,\"reorderable\":false,\"source\":{\"id\":\"1240\"},\"view\":{\"id\":\"1289\"},\"width\":700},\"id\":\"1287\",\"type\":\"DataTable\"},{\"attributes\":{},\"id\":\"1283\",\"type\":\"IntEditor\"},{\"attributes\":{},\"id\":\"1290\",\"type\":\"UnionRenderers\"},{\"attributes\":{},\"id\":\"1243\",\"type\":\"StringEditor\"},{\"attributes\":{\"format\":\"0,0.0[00000]\"},\"id\":\"1267\",\"type\":\"NumberFormatter\"},{\"attributes\":{\"editor\":{\"id\":\"1273\"},\"field\":\"PC_2\",\"formatter\":{\"id\":\"1272\"},\"title\":\"PC 2\"},\"id\":\"1274\",\"type\":\"TableColumn\"},{\"attributes\":{\"format\":\"0,0.0[00000]\"},\"id\":\"1277\",\"type\":\"NumberFormatter\"},{\"attributes\":{\"editor\":{\"id\":\"1278\"},\"field\":\"PC_3\",\"formatter\":{\"id\":\"1277\"},\"title\":\"PC 3\"},\"id\":\"1279\",\"type\":\"TableColumn\"},{\"attributes\":{\"data\":{\"Algorithm\":[\"Scrypt\",\"Scrypt\",\"X13\",\"SHA-256\",\"Ethash\",\"Scrypt\",\"X11\",\"CryptoNight-V7\",\"Ethash\",\"Equihash\",\"SHA-512\",\"Multiple\",\"SHA-256\",\"SHA-256\",\"Scrypt\",\"X15\",\"X11\",\"Scrypt\",\"Scrypt\",\"Scrypt\",\"Multiple\",\"Scrypt\",\"SHA-256\",\"Scrypt\",\"Scrypt\",\"Scrypt\",\"Quark\",\"Groestl\",\"Scrypt\",\"Scrypt\",\"Scrypt\",\"Scrypt\",\"Scrypt\",\"X11\",\"Scrypt\",\"Groestl\",\"Multiple\",\"SHA-256\",\"Scrypt\",\"Scrypt\",\"Scrypt\",\"Scrypt\",\"PoS\",\"Scrypt\",\"Scrypt\",\"NeoScrypt\",\"Scrypt\",\"Scrypt\",\"Scrypt\",\"Scrypt\",\"X11\",\"Scrypt\",\"X11\",\"SHA-256\",\"Scrypt\",\"Scrypt\",\"Scrypt\",\"SHA3\",\"Scrypt\",\"HybridScryptHash256\",\"Scrypt\",\"Scrypt\",\"SHA-256\",\"Scrypt\",\"X13\",\"Scrypt\",\"SHA-256\",\"Scrypt\",\"X13\",\"NeoScrypt\",\"Scrypt\",\"Scrypt\",\"Scrypt\",\"Scrypt\",\"Scrypt\",\"Scrypt\",\"X11\",\"X11\",\"SHA-256\",\"Multiple\",\"SHA-256\",\"PHI1612\",\"X11\",\"SHA-256\",\"SHA-256\",\"SHA-256\",\"X11\",\"Scrypt\",\"Scrypt\",\"Scrypt\",\"Scrypt\",\"Lyra2REv2\",\"Scrypt\",\"X11\",\"Multiple\",\"SHA-256\",\"X13\",\"Scrypt\",\"CryptoNight\",\"CryptoNight\",\"Shabal256\",\"Counterparty\",\"Scrypt\",\"SHA-256\",\"Groestl\",\"Scrypt\",\"Scrypt\",\"Scrypt\",\"X13\",\"Scrypt\",\"Scrypt\",\"Scrypt\",\"Scrypt\",\"X13\",\"Scrypt\",\"Stanford Folding\",\"X11\",\"Multiple\",\"QuBit\",\"Scrypt\",\"Scrypt\",\"Scrypt\",\"M7 POW\",\"Scrypt\",\"SHA-256\",\"Scrypt\",\"X11\",\"SHA3\",\"X11\",\"Lyra2RE\",\"SHA-256\",\"QUAIT\",\"X11\",\"X11\",\"Scrypt\",\"Scrypt\",\"Scrypt\",\"Ethash\",\"X13\",\"Blake2b\",\"SHA-256\",\"X15\",\"X11\",\"SHA-256\",\"BLAKE256\",\"Scrypt\",\"1GB AES Pattern Search\",\"SHA-256\",\"X11\",\"Scrypt\",\"SHA-256\",\"SHA-256\",\"NIST5\",\"Scrypt\",\"Scrypt\",\"X11\",\"Dagger\",\"Scrypt\",\"X11GOST\",\"X11\",\"Scrypt\",\"SHA-256\",\"Scrypt\",\"PoS\",\"Scrypt\",\"ScryptOG\",\"X11\",\"X11\",\"SHA-256\",\"SHA-256\",\"NIST5\",\"X11\",\"Scrypt\",\"POS 3.0\",\"Scrypt\",\"Scrypt\",\"Scrypt\",\"X13\",\"X11\",\"X11\",\"Equihash\",\"X11\",\"Scrypt\",\"CryptoNight\",\"SHA-256\",\"SHA-256\",\"X11\",\"Scrypt\",\"Multiple\",\"Scrypt\",\"Scrypt\",\"Scrypt\",\"SHA-256\",\"Scrypt\",\"Scrypt\",\"SHA-256D\",\"PoS\",\"Scrypt\",\"X11\",\"Lyra2Z\",\"PoS\",\"X13\",\"X14\",\"PoS\",\"SHA-256D\",\"Ethash\",\"Equihash\",\"DPoS\",\"X11\",\"Scrypt\",\"X11\",\"X13\",\"X11\",\"PoS\",\"Scrypt\",\"Scrypt\",\"X11\",\"PoS\",\"X11\",\"SHA-256\",\"Scrypt\",\"X11\",\"Scrypt\",\"Scrypt\",\"X11\",\"CryptoNight\",\"Scrypt\",\"Scrypt\",\"Scrypt\",\"Scrypt\",\"Quark\",\"QuBit\",\"Scrypt\",\"CryptoNight\",\"Lyra2RE\",\"Scrypt\",\"SHA-256\",\"X11\",\"Scrypt\",\"X11\",\"Scrypt\",\"CryptoNight-V7\",\"Scrypt\",\"Scrypt\",\"Scrypt\",\"X13\",\"X11\",\"Equihash\",\"Scrypt\",\"Scrypt\",\"Lyra2RE\",\"Scrypt\",\"Dagger-Hashimoto\",\"X11\",\"Blake2S\",\"X11\",\"Scrypt\",\"PoS\",\"X11\",\"NIST5\",\"PoS\",\"X11\",\"Scrypt\",\"Scrypt\",\"Scrypt\",\"SHA-256\",\"X11\",\"Scrypt\",\"Scrypt\",\"SHA-256\",\"PoS\",\"Scrypt\",\"X15\",\"SHA-256\",\"Scrypt\",\"POS 3.0\",\"CryptoNight-V7\",\"536\",\"Argon2d\",\"Blake2b\",\"Cloverhash\",\"CryptoNight\",\"NIST5\",\"X11\",\"NIST5\",\"Skein\",\"Scrypt\",\"X13\",\"Scrypt\",\"X11\",\"X11\",\"Scrypt\",\"CryptoNight\",\"X13\",\"Time Travel\",\"Scrypt\",\"Keccak\",\"SkunkHash v2 Raptor\",\"X11\",\"Skein\",\"SHA-256\",\"X11\",\"Scrypt\",\"VeChainThor Authority\",\"Scrypt\",\"PoS\",\"Scrypt\",\"Scrypt\",\"Scrypt\",\"Scrypt\",\"Scrypt\",\"Scrypt\",\"Scrypt\",\"CryptoNight\",\"SHA-512\",\"Ouroboros\",\"X11\",\"Equihash\",\"NeoScrypt\",\"X11\",\"Scrypt\",\"NeoScrypt\",\"Lyra2REv2\",\"Equihash\",\"Scrypt\",\"SHA-256\",\"NIST5\",\"PHI1612\",\"Dagger\",\"Scrypt\",\"Quark\",\"Scrypt\",\"POS 2.0\",\"Scrypt\",\"SHA-256\",\"X11\",\"NeoScrypt\",\"Ethash\",\"NeoScrypt\",\"Quark\",\"X11\",\"DPoS\",\"NIST5\",\"X13\",\"Multiple\",\"Scrypt\",\"CryptoNight\",\"CryptoNight\",\"Ethash\",\"NIST5\",\"Scrypt\",\"Quark\",\"X11\",\"CryptoNight-V7\",\"Scrypt\",\"Scrypt\",\"Scrypt\",\"X11\",\"BLAKE256\",\"X11\",\"Scrypt\",\"Scrypt\",\"NeoScrypt\",\"NeoScrypt\",\"Quark\",\"NeoScrypt\",\"Scrypt\",\"Scrypt\",\"Scrypt\",\"X11\",\"Scrypt\",\"X11\",\"SHA-256\",\"C11\",\"POS 3.0\",\"Ethash\",\"Scrypt\",\"Scrypt\",\"CryptoNight\",\"SkunkHash\",\"Scrypt\",\"CryptoNight\",\"X11\",\"Scrypt\",\"SHA-256\",\"Dagger\",\"Lyra2REv2\",\"X13\",\"Proof-of-BibleHash\",\"SHA-256 + Hive\",\"Scrypt\",\"Scrypt\",\"Skein\",\"X11\",\"Skein\",\"X11\",\"C11\",\"Proof-of-Authority\",\"X11\",\"XEVAN\",\"Scrypt\",\"VBFT\",\"Ethash\",\"CryptoNight\",\"Scrypt\",\"SHA-256\",\"IMesh\",\"PHI1612\",\"Quark\",\"NIST5\",\"Scrypt\",\"Scrypt\",\"Equihash\",\"Scrypt\",\"Lyra2Z\",\"Green Protocol\",\"PoS\",\"Scrypt\",\"NeoScrypt\",\"Semux BFT consensus\",\"X11\",\"Quark\",\"PoS\",\"CryptoNight\",\"X16R\",\"Scrypt\",\"NIST5\",\"Lyra2RE\",\"XEVAN\",\"Tribus\",\"Scrypt\",\"Lyra2Z\",\"Scrypt\",\"Scrypt\",\"CryptoNight\",\"X11\",\"SHA-256D\",\"CryptoNight Heavy\",\"CryptoNight\",\"Scrypt\",\"Scrypt\",\"X11\",\"Scrypt\",\"Jump Consistent Hash\",\"SHA-256D\",\"CryptoNight\",\"Scrypt\",\"X15\",\"Scrypt\",\"Quark\",\"Scrypt\",\"SHA-512\",\"SHA-256\",\"DPoS\",\"X16R\",\"HMQ1725\",\"X11\",\"Scrypt\",\"X16R\",\"Quark\",\"Quark\",\"Scrypt\",\"Lyra2REv2\",\"Quark\",\"Scrypt\",\"Scrypt\",\"Scrypt\",\"CryptoNight-V7\",\"Cryptonight-GPU\",\"XEVAN\",\"CryptoNight Heavy\",\"CryptoNight\",\"X11\",\"X11\",\"X11\",\"Scrypt\",\"PoS\",\"SHA-256\",\"Keccak\",\"X11\",\"X11\",\"Tribus\",\"Scrypt\",\"NeoScrypt\",\"SHA-512\",\"X16R\",\"ECC 256K1\",\"Equihash\",\"XEVAN\",\"HMQ1725\",\"Lyra2Z\",\"SHA-512\",\"SHA-256\",\"Quark\",\"PHI1612\",\"XEVAN\",\"X11\",\"CryptoNight\",\"Quark\",\"Blake\",\"Blake\",\"Blake\",\"Blake\",\"Equihash\",\"Exosis\",\"Scrypt\",\"Scrypt\",\"Equihash\",\"Quark\",\"Equihash\",\"Quark\",\"Scrypt\",\"Lyra2REv2\",\"QuBit\",\"X11\",\"Scrypt\",\"XEVAN\",\"SHA-256D\",\"X11\",\"SHA-256\",\"X13\",\"SHA-256\",\"X11\",\"DPoS\",\"Ethash\",\"Scrypt\",\"Scrypt\",\"X11\",\"NeoScrypt\",\"Scrypt\",\"Blake\",\"Scrypt\",\"SHA-256\",\"Scrypt\",\"X11\",\"Scrypt\",\"Scrypt\",\"SHA-256\",\"X11\",\"SHA-256\",\"Scrypt\",\"Scrypt\",\"Scrypt\",\"Groestl\",\"X11\",\"Scrypt\",\"PoS\",\"Scrypt\",\"Scrypt\",\"X11\",\"SHA-256\",\"DPoS\",\"Scrypt\",\"Scrypt\",\"NeoScrypt\",\"SHA3-256\",\"Multiple\",\"X13\",\"Equihash+Scrypt\",\"Lyra2Z\",\"PHI2\",\"DPoS\",\"Ethash\",\"DPoS\",\"SHA-256\",\"Lyra2Z\",\"Leased POS\",\"PoS\",\"Scrypt\",\"TRC10\",\"Equihash\",\"PoS\",\"SHA-256\",\"Scrypt\",\"CryptoNight\",\"Equihash\",\"Scrypt\",\"Scrypt\"],\"Class\":{\"__ndarray__\":\"AQAAAAEAAAABAAAAAAAAAAAAAAAAAAAAAQAAAAAAAAAAAAAAAAAAAAEAAAAAAAAAAQAAAAEAAAAAAAAAAQAAAAAAAAAAAAAAAQAAAAEAAAAAAAAAAAAAAAAAAAAAAAAAAAAAAAEAAAAAAAAAAAAAAAAAAAABAAAAAAAAAAEAAAAAAAAAAAAAAAEAAAABAAAAAAAAAAAAAAAAAAAAAAAAAAAAAAAAAAAAAQAAAAEAAAAAAAAAAAAAAAAAAAAAAAAAAAAAAAEAAAABAAAAAAAAAAEAAAAAAAAAAAAAAAAAAAAAAAAAAQAAAAAAAAAAAAAAAQAAAAAAAAABAAAAAQAAAAEAAAAAAAAAAAAAAAAAAAABAAAAAQAAAAEAAAABAAAAAQAAAAAAAAAAAAAAAAAAAAEAAAABAAAAAAAAAAEAAAAAAAAAAQAAAAEAAAAAAAAAAAAAAAAAAAAAAAAAAQAAAAEAAAAAAAAAAQAAAAAAAAAAAAAAAQAAAAEAAAAAAAAAAQAAAAEAAAAAAAAAAAAAAAEAAAABAAAAAAAAAAEAAAABAAAAAAAAAAEAAAAAAAAAAQAAAAAAAAABAAAAAAAAAAEAAAABAAAAAAAAAAAAAAABAAAAAAAAAAAAAAAAAAAAAQAAAAAAAAAAAAAAAAAAAAAAAAAAAAAAAQAAAAEAAAAAAAAAAAAAAAAAAAABAAAAAAAAAAEAAAAAAAAAAAAAAAEAAAAAAAAAAQAAAAAAAAABAAAAAQAAAAAAAAAAAAAAAQAAAAAAAAAAAAAAAQAAAAEAAAAAAAAAAQAAAAAAAAABAAAAAQAAAAEAAAAAAAAAAAAAAAAAAAAAAAAAAQAAAAEAAAABAAAAAQAAAAEAAAAAAAAAAAAAAAAAAAABAAAAAQAAAAEAAAABAAAAAQAAAAAAAAABAAAAAQAAAAEAAAABAAAAAQAAAAAAAAABAAAAAAAAAAEAAAABAAAAAAAAAAEAAAAAAAAAAQAAAAEAAAAAAAAAAQAAAAAAAAABAAAAAAAAAAEAAAAAAAAAAQAAAAEAAAABAAAAAQAAAAAAAAABAAAAAQAAAAEAAAABAAAAAQAAAAAAAAAAAAAAAQAAAAEAAAAAAAAAAAAAAAEAAAABAAAAAQAAAAEAAAABAAAAAAAAAAEAAAABAAAAAQAAAAEAAAABAAAAAQAAAAEAAAABAAAAAAAAAAEAAAABAAAAAQAAAAEAAAABAAAAAQAAAAAAAAAAAAAAAAAAAAEAAAABAAAAAQAAAAEAAAAAAAAAAQAAAAAAAAABAAAAAQAAAAAAAAABAAAAAAAAAAAAAAABAAAAAAAAAAAAAAABAAAAAAAAAAEAAAABAAAAAQAAAAAAAAABAAAAAQAAAAAAAAABAAAAAQAAAAEAAAABAAAAAQAAAAEAAAABAAAAAAAAAAEAAAAAAAAAAQAAAAEAAAABAAAAAQAAAAAAAAABAAAAAAAAAAEAAAAAAAAAAAAAAAAAAAAAAAAAAQAAAAAAAAABAAAAAQAAAAAAAAABAAAAAAAAAAAAAAAAAAAAAQAAAAAAAAABAAAAAAAAAAAAAAAAAAAAAQAAAAAAAAABAAAAAAAAAAEAAAABAAAAAQAAAAAAAAABAAAAAAAAAAAAAAAAAAAAAAAAAAAAAAABAAAAAQAAAAAAAAABAAAAAQAAAAEAAAAAAAAAAQAAAAAAAAABAAAAAAAAAAEAAAAAAAAAAQAAAAEAAAABAAAAAQAAAAAAAAABAAAAAQAAAAAAAAABAAAAAQAAAAEAAAAAAAAAAAAAAAAAAAAAAAAAAQAAAAEAAAABAAAAAQAAAAEAAAAAAAAAAQAAAAAAAAAAAAAAAAAAAAEAAAAAAAAAAQAAAAAAAAAAAAAAAQAAAAEAAAAAAAAAAQAAAAAAAAAAAAAAAQAAAAEAAAAAAAAAAAAAAAEAAAAAAAAAAAAAAAEAAAABAAAAAQAAAAEAAAAAAAAAAAAAAAAAAAABAAAAAAAAAAAAAAABAAAAAAAAAAAAAAABAAAAAAAAAAEAAAAAAAAAAQAAAAAAAAAAAAAAAQAAAAMAAAADAAAAAAAAAAAAAAABAAAAAQAAAAEAAAAAAAAAAQAAAAEAAAABAAAAAQAAAAEAAAABAAAAAAAAAAAAAAAAAAAAAAAAAAAAAAABAAAAAAAAAAEAAAABAAAAAQAAAAAAAAABAAAAAAAAAAEAAAABAAAAAQAAAAAAAAABAAAAAAAAAAEAAAABAAAAAAAAAAEAAAABAAAAAAAAAAAAAAABAAAAAAAAAAEAAAAAAAAAAQAAAAEAAAAAAAAAAQAAAAEAAAAAAAAAAAAAAAEAAAABAAAAAQAAAAEAAAAAAAAAAQAAAAAAAAABAAAAAQAAAAEAAAABAAAAAQAAAAAAAAABAAAAAQAAAAAAAAAAAAAAAAAAAAEAAAABAAAAAQAAAAEAAAABAAAAAQAAAAEAAAAAAAAAAAAAAAEAAAAAAAAAAAAAAAAAAAAAAAAAAAAAAAEAAAAAAAAAAQAAAAEAAAABAAAAAAAAAAEAAAABAAAAAAAAAAEAAAABAAAAAQAAAAAAAAAAAAAAAwAAAAAAAAABAAAAAAAAAAAAAAABAAAAAAAAAAEAAAAAAAAAAQAAAAEAAAAAAAAAAQAAAAAAAAAAAAAAAAAAAAAAAAAAAAAAAAAAAAAAAAABAAAAAAAAAAEAAAAAAAAAAQAAAAEAAAAAAAAAAAAAAAEAAAABAAAAAQAAAAEAAAABAAAAAAAAAAAAAAAAAAAAAQAAAAEAAAAAAAAAAQAAAAAAAAABAAAAAAAAAAEAAAAAAAAAAQAAAAEAAAABAAAAAQAAAAAAAAABAAAAAQAAAAEAAAAAAAAAAQAAAAAAAAABAAAAAAAAAAEAAAABAAAAAQAAAAAAAAAAAAAAAQAAAAEAAAABAAAAAQAAAAEAAAABAAAAAQAAAAAAAAABAAAAAAAAAAAAAAABAAAAAQAAAAAAAAABAAAAAQAAAAEAAAABAAAAAQAAAAEAAAACAAAAAAAAAAEAAAABAAAAAQAAAAAAAAAAAAAAAQAAAAEAAAA=\",\"dtype\":\"int32\",\"order\":\"little\",\"shape\":[578]},\"CoinName\":[\"42 Coin\",\"404Coin\",\"EliteCoin\",\"Bitcoin\",\"Ethereum\",\"Litecoin\",\"Dash\",\"Monero\",\"Ethereum Classic\",\"ZCash\",\"Bitshares\",\"DigiByte\",\"BitcoinDark\",\"PayCoin\",\"ProsperCoin\",\"KoboCoin\",\"Spreadcoin\",\"Argentum\",\"Aurora Coin\",\"BlueCoin\",\"MyriadCoin\",\"MoonCoin\",\"ZetaCoin\",\"SexCoin\",\"Quatloo\",\"EnergyCoin\",\"QuarkCoin\",\"Riecoin\",\"Digitalcoin \",\"BitBar\",\"Catcoin\",\"CryptoBullion\",\"CannaCoin\",\"CryptCoin\",\"CasinoCoin\",\"Diamond\",\"Verge\",\"DevCoin\",\"EarthCoin\",\"E-Gulden\",\"Einsteinium\",\"Emerald\",\"Exclusive Coin\",\"FlutterCoin\",\"Franko\",\"FeatherCoin\",\"GrandCoin\",\"GlobalCoin\",\"GoldCoin\",\"HoboNickels\",\"HyperStake\",\"Infinite Coin\",\"IOCoin\",\"IXcoin\",\"KrugerCoin\",\"LuckyCoin\",\"Litebar \",\"MaxCoin\",\"MegaCoin\",\"MediterraneanCoin\",\"MintCoin\",\"MinCoin\",\"MazaCoin\",\"Nautilus Coin\",\"NavCoin\",\"NobleCoin\",\"Namecoin\",\"NyanCoin\",\"OpalCoin\",\"Orbitcoin\",\"PotCoin\",\"PhoenixCoin\",\"Reddcoin\",\"RonPaulCoin\",\"StableCoin\",\"SmartCoin\",\"SuperCoin\",\"SyncCoin\",\"SysCoin\",\"TeslaCoin\",\"TigerCoin\",\"TittieCoin\",\"TorCoin\",\"TerraCoin\",\"UnbreakableCoin\",\"Unobtanium\",\"UroCoin\",\"UnitaryStatus Dollar\",\"UltraCoin\",\"ViaCoin\",\"VeriCoin\",\"Vertcoin\",\"WorldCoin\",\"X11 Coin\",\"Crypti\",\"JouleCoin\",\"StealthCoin\",\"ZCC Coin\",\"ByteCoin\",\"DigitalNote \",\"BurstCoin\",\"StorjCoin\",\"MonaCoin\",\"Neutron\",\"FairCoin\",\"Gulden\",\"RubyCoin\",\"PesetaCoin\",\"Kore\",\"Wild Beast Coin\",\"Dnotes\",\"Flo\",\"8BIT Coin\",\"Sativa Coin\",\"ArtByte\",\"Folding Coin\",\"Ucoin\",\"Unitus\",\"CypherPunkCoin\",\"OmniCron\",\"Vtorrent\",\"GreenCoin\",\"Cryptonite\",\"MasterCoin\",\"SoonCoin\",\"1Credit\",\"IslaCoin\",\"Nexus\",\"MarsCoin \",\"Crypto\",\"Anarchists Prime\",\"Droidz\",\"BowsCoin\",\"Squall Coin\",\"Song Coin\",\"BitZeny\",\"Diggits\",\"Expanse\",\"Paycon\",\"Siacoin\",\"Emercoin\",\"EverGreenCoin\",\"MindCoin\",\"I0coin\",\"Decred\",\"Revolution VR\",\"HOdlcoin\",\"EDRCoin\",\"Hitcoin\",\"Gamecredits\",\"DubaiCoin\",\"CarpeDiemCoin\",\"PWR Coin\",\"BillaryCoin\",\"GPU Coin\",\"Adzcoin\",\"SoilCoin\",\"YoCoin\",\"SibCoin\",\"EuropeCoin\",\"ZeitCoin\",\"SwingCoin\",\"SafeExchangeCoin\",\"Nebuchadnezzar\",\"Francs\",\"Aiden\",\"BolivarCoin\",\"Ratecoin\",\"Revenu\",\"Clockcoin\",\"VIP Tokens\",\"BitSend\",\"Omni\",\"Let it Ride\",\"PutinCoin\",\"iBankCoin\",\"Frankywillcoin\",\"MudraCoin\",\"PizzaCoin\",\"Lutetium Coin\",\"Komodo\",\"GoldBlocks\",\"CarterCoin\",\"Karbo\",\"BitTokens\",\"ZayedCoin\",\"MustangCoin\",\"ZoneCoin\",\"Circuits of Value\",\"RootCoin\",\"DopeCoin\",\"BitCurrency\",\"DollarCoin\",\"Swiscoin\",\"Shilling\",\"BuzzCoin\",\"Opair\",\"PesoBit\",\"Halloween Coin\",\"ZCoin\",\"CoffeeCoin\",\"RoyalCoin\",\"GanjaCoin V2\",\"TeamUP\",\"LanaCoin\",\"Elementrem\",\"ZClassic\",\"ARK\",\"InsaneCoin\",\"KiloCoin\",\"ArtexCoin\",\"EmberCoin\",\"XenixCoin\",\"FreeCoin\",\"PLNCoin\",\"AquariusCoin\",\"Kurrent\",\"Creatio\",\"Eternity\",\"Eurocoin\",\"BitcoinFast\",\"Stakenet\",\"BitConnect Coin\",\"MoneyCoin\",\"Enigma\",\"Cannabis Industry Coin\",\"Russiacoin\",\"PandaCoin\",\"GameUnits\",\"GAKHcoin\",\"Allsafe\",\"LiteCreed\",\"OsmiumCoin\",\"Bikercoins\",\"HexxCoin\",\"Klingon Empire Darsek\",\"Internet of People\",\"KushCoin\",\"Printerium\",\"PacCoin\",\"Impeach\",\"Citadel\",\"Zilbercoin\",\"FirstCoin\",\"BeaverCoin\",\"FindCoin\",\"VaultCoin\",\"Zero\",\"OpenChat\",\"Canada eCoin\",\"Zoin\",\"RenosCoin\",\"DubaiCoin\",\"VirtacoinPlus\",\"TajCoin\",\"Impact\",\"EB3coin\",\"Atmos\",\"HappyCoin\",\"Coinonat\",\"MacronCoin\",\"Condensate\",\"Independent Money System\",\"ArgusCoin\",\"LomoCoin\",\"ProCurrency\",\"GoldReserve\",\"BenjiRolls\",\"GrowthCoin\",\"ILCoin\",\"Phreak\",\"Degas Coin\",\"HTML5 Coin\",\"Ultimate Secure Cash\",\"EquiTrader\",\"QTUM\",\"Quantum Resistant Ledger\",\"Espers\",\"Dynamic\",\"Nano\",\"ChanCoin\",\"Dinastycoin\",\"Denarius\",\"DigitalPrice\",\"Virta Unique Coin\",\"Bitcoin Planet\",\"Unify\",\"BritCoin\",\"SocialCoin\",\"ArcticCoin\",\"DAS\",\"Linda\",\"LeviarCoin\",\"DeepOnion\",\"Bitcore\",\"gCn Coin\",\"SmartCash\",\"Signatum\",\"Onix\",\"Cream\",\"Bitcoin Cash\",\"Monoeci\",\"Draftcoin\",\"Vechain\",\"Sojourn Coin\",\"Stakecoin\",\"NewYorkCoin\",\"FrazCoin\",\"Kronecoin\",\"AdCoin\",\"Linx\",\"CoinonatX\",\"Ethereum Dark\",\"Sumokoin\",\"Obsidian\",\"Cardano\",\"Regalcoin\",\"BitcoinZ\",\"TrezarCoin\",\"Elements\",\"TerraNovaCoin\",\"VIVO Coin\",\"Rupee\",\"Bitcoin Gold\",\"WomenCoin\",\"Theresa May Coin\",\"NamoCoin\",\"LUXCoin\",\"Pirl\",\"Xios\",\"Bitcloud 2.0\",\"eBoost\",\"KekCoin\",\"BlackholeCoin\",\"Infinity Economics\",\"Pura\",\"Innova\",\"Ellaism\",\"GoByte\",\"Alqo\",\"Magnet\",\"Lamden Tau\",\"Electra\",\"Bitcoin Diamond\",\"SHIELD\",\"Cash & Back Coin\",\"UltraNote\",\"BitCoal\",\"DaxxCoin\",\"Bulwark\",\"BoxyCoin\",\"Kalkulus\",\"AC3\",\"Lethean\",\"GermanCoin\",\"LiteCoin Ultra\",\"PopularCoin\",\"PhantomX\",\"Photon\",\"Sucre\",\"Accolade\",\"OmiseGO Classic\",\"SparksPay\",\"GoaCoin\",\"Digiwage\",\"GunCoin\",\"IrishCoin\",\"Trollcoin\",\"Litecoin Plus\",\"Monkey Project\",\"ECC\",\"Pioneer Coin\",\"UnitedBitcoin\",\"Interzone\",\"TokenPay\",\"1717 Masonic Commemorative Token\",\"Crypto Wisdom Coin\",\"My Big Coin\",\"TurtleCoin\",\"MUNcoin\",\"Unified Society USDEX\",\"Niobio Cash\",\"BitSoar Coin\",\"ShareChain\",\"Credence Coin\",\"Travelflex\",\"KREDS\",\"Tokyo Coin\",\"BiblePay\",\"LitecoinCash\",\"BitFlip\",\"LottoCoin\",\"BashCoin\",\"DigiMoney\",\"Lizus Payment\",\"Crypto Improvement Fund\",\"Stipend\",\"Poa Network\",\"Pushi\",\"Ellerium\",\"Velox\",\"Ontology\",\"Callisto Network\",\"BitTube\",\"Poseidon\",\"Manna\",\"Aidos Kuneen\",\"Seraph\",\"Cosmo\",\"Bitspace\",\"Briacoin\",\"Ignition\",\"Bitrolium\",\"MedicCoin\",\"Alpenschillling\",\"Bitcoin Green\",\"Deviant Coin\",\"Abjcoin\",\"Rapture\",\"Semux\",\"FuturoCoin\",\"Carebit\",\"Zealium\",\"Monero Classic\",\"Proton\",\"iDealCash\",\"Jumpcoin\",\"Infinex\",\"Bitcoin Incognito\",\"KEYCO\",\"HollyWoodCoin\",\"GINcoin\",\"Parlay\",\"Listerclassic Coin\",\"PlatinCoin\",\"BetKings\",\"Cognitio\",\"Loki\",\"Newton Coin\",\"Mercoin\",\"Swisscoin\",\"Reliance\",\"Xt3ch\",\"MassGrid\",\"TheVig\",\"PluraCoin\",\"EmaratCoin\",\"Dekado\",\"Lynx\",\"Poseidon Quark\",\"MYCE\",\"Arionum\",\"BitcoinWSpectrum\",\"Muse\",\"Motion\",\"PlusOneCoin\",\"Axe\",\"GambleCoin\",\"Trivechain\",\"Dystem\",\"Giant\",\"Peony Coin\",\"Absolute Coin\",\"Vitae\",\"HexCoin\",\"Deimos\",\"TPCash\",\"Webchain\",\"Ryo\",\"Urals Coin\",\"Qwertycoin\",\"Bitcoin Nova\",\"ARENON\",\"DACash\",\"EUNO\",\"MMOCoin\",\"Ketan\",\"Project Pai\",\"XDNA\",\"PAXEX\",\"Azart\",\"Averopay\",\"ThunderStake\",\"SimpleBank\",\"Kcash\",\"Xchange\",\"Acute Angle Cloud\",\"CrypticCoin\",\"Bettex coin\",\"Brazio\",\"Actinium\",\"TWIST\",\"Bitcoin SV\",\"DACH Coin\",\"Argoneum\",\"BitMoney\",\"Junson Ming Chan Coin\",\"FREDEnergy\",\"HerbCoin\",\"BlakeBitcoin\",\"Universal Molecule\",\"Lithium\",\"Electron\",\"PirateCash\",\"Exosis\",\"Block-Logic\",\"Oduwa\",\"Beam\",\"Galilel\",\"Bithereum\",\"Crypto Sports\",\"Credit\",\"Scribe Network\",\"SLICE\",\"Dash Platinum\",\"Nasdacoin\",\"Beetle Coin\",\"Titan Coin\",\"Award\",\"BLAST\",\"Bitcoin Rhodium\",\"GlobalToken\",\"Insane Coin\",\"ALAX\",\"Media Protocol Token\",\"LiteDoge\",\"SolarCoin\",\"TruckCoin\",\"UFO Coin\",\"OrangeCoin\",\"BlakeCoin\",\"BitstarCoin\",\"NeosCoin\",\"HyperCoin\",\"PinkCoin\",\"Crypto Escudo\",\"AudioCoin\",\"IncaKoin\",\"Piggy Coin\",\"Crown Coin\",\"Genstake\",\"SmileyCoin\",\"XiaoMiCoin\",\"Groestlcoin\",\"CapriCoin\",\" ClubCoin\",\"Radium\",\"Bata\",\"Pakcoin\",\"Creditbit \",\"OKCash\",\"Lisk\",\"HiCoin\",\"WhiteCoin\",\"FriendshipCoin\",\"Fiii\",\"JoinCoin\",\"Triangles Coin\",\"Vollar\",\"TecraCoin\",\"Gexan\",\"EOS\",\"Reality Clash\",\"Oxycoin\",\"TigerCash\",\"LAPO\",\"Waves\",\"Particl\",\"ShardCoin\",\"BitTorrent\",\"ChainZilla\",\"Nxt\",\"ZEPHYR\",\"Gapcoin\",\"Beldex\",\"Horizen\",\"BitcoinPlus\",\"DivotyCoin\"],\"PC_1\":{\"__ndarray__\":\"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\",\"dtype\":\"float64\",\"order\":\"little\",\"shape\":[578]},\"PC_2\":{\"__ndarray__\":\"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\",\"dtype\":\"float64\",\"order\":\"little\",\"shape\":[578]},\"PC_3\":{\"__ndarray__\":\"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\",\"dtype\":\"float64\",\"order\":\"little\",\"shape\":[578]},\"ProofType\":[\"PoW/PoS\",\"PoW/PoS\",\"PoW/PoS\",\"PoW\",\"PoW\",\"PoW\",\"PoW/PoS\",\"PoW\",\"PoW\",\"PoW\",\"PoS\",\"PoW\",\"PoW/PoS\",\"PoS\",\"PoW\",\"PoW/PoS\",\"PoW\",\"PoW\",\"PoW/PoS\",\"PoW/PoS\",\"PoW\",\"PoW\",\"PoW\",\"PoW\",\"PoW\",\"PoW/PoS\",\"PoW\",\"PoW\",\"PoW\",\"PoW/PoS\",\"PoW\",\"PoW/PoS\",\"PoW\",\"PoW\",\"PoC\",\"PoW/PoS\",\"PoW\",\"PoW\",\"PoW\",\"PoW\",\"PoW\",\"PoW\",\"PoS\",\"PoS/PoW/PoT\",\"PoW\",\"PoW\",\"PoW\",\"PoW\",\"PoW\",\"PoW/PoS\",\"PoS\",\"PoW\",\"PoW/PoS\",\"PoW\",\"PoW\",\"PoW\",\"PoW\",\"PoW/PoS\",\"PoW\",\"PoW\",\"PoS\",\"PoW\",\"PoW/PoS\",\"PoS\",\"PoW/PoS\",\"PoW\",\"PoW\",\"PoW\",\"PoW/PoS\",\"PoW/PoS\",\"PoW/PoS\",\"PoW/PoS\",\"PoW/PoS\",\"PoW\",\"PoW\",\"PoW\",\"PoS\",\"PoW/PoS\",\"PoW\",\"PoS\",\"PoW\",\"PoS\",\"PoW/PoS\",\"PoW\",\"PoW\",\"PoW\",\"PoW\",\"PoW/PoS\",\"PoW/PoS\",\"PoW\",\"PoST\",\"PoW\",\"PoW\",\"PoW/PoS\",\"PoS\",\"PoW\",\"PoW/PoS\",\"PoW/PoS\",\"PoW\",\"PoW\",\"PoC\",\"PoS\",\"PoW\",\"PoW/PoS\",\"PoW/PoS\",\"PoW\",\"PoS\",\"PoW\",\"PoW/PoS\",\"PoW\",\"PoS\",\"PoW\",\"PoW/PoS\",\"PoW/PoS\",\"PoW\",\"PoW\",\"PoS\",\"PoW\",\"PoW\",\"PoW\",\"PoW/PoS\",\"PoW\",\"PoW\",\"PoW\",\"PoW\",\"PoW\",\"PoW/PoS\",\"PoW/nPoS\",\"PoW\",\"PoW\",\"PoW\",\"PoW/PoS\",\"PoW\",\"PoS/PoW\",\"PoW\",\"PoW\",\"PoS\",\"PoW\",\"PoW/PoS\",\"PoW\",\"PoW/PoS\",\"PoW/PoS\",\"PoW\",\"PoW\",\"PoW/PoS\",\"PoW\",\"PoW\",\"PoW/PoS\",\"PoW/PoS\",\"PoW\",\"PoW/PoS\",\"PoW\",\"PoW/PoS\",\"PoW/PoS\",\"PoS\",\"PoW\",\"PoW\",\"PoW\",\"PoW\",\"PoW/PoS\",\"PoS\",\"PoW/PoS\",\"PoC\",\"PoS\",\"PoW\",\"PoW\",\"PoW\",\"PoW/PoS\",\"PoW/PoS\",\"PoW/PoS\",\"PoW/PoS\",\"PoW/PoS\",\"PoW\",\"PoS\",\"PoW/PoS\",\"PoW/PoS\",\"PoW/PoS\",\"PoS\",\"PoW\",\"PoS\",\"dPoW/PoW\",\"PoW/PoS\",\"PoW/PoS\",\"PoW\",\"PoW/PoS\",\"PoW\",\"PoW/PoS\",\"PoW/PoS\",\"PoW\",\"PoW/PoS\",\"PoW\",\"PoS\",\"PoW\",\"PoW/PoW\",\"PoW\",\"PoW/PoS\",\"PoS\",\"PoW/PoS\",\"PoW/PoS\",\"PoW\",\"PoS\",\"PoS\",\"PoW/PoS\",\"PoS\",\"PoW/PoS\",\"PoW\",\"PoW\",\"DPoS\",\"PoW/PoS\",\"PoW\",\"PoW\",\"PoW/PoS\",\"PoW/PoS\",\"PoS\",\"PoW/PoS\",\"PoW/PoS\",\"PoW\",\"PoS\",\"PoW/PoS\",\"PoW/PoS\",\"PoW/PoS\",\"TPoS\",\"PoW/PoS\",\"PoW/PoS\",\"PoW/PoS\",\"PoW\",\"PoW/PoS\",\"PoS\",\"PoW/PoS\",\"PoW/PoS\",\"PoS\",\"PoW/PoS\",\"PoW\",\"PoW\",\"PoW\",\"PoW/PoS\",\"PoW/PoS\",\"PoW/PoS\",\"PoW/PoS\",\"PoW\",\"PoW/PoS\",\"PoW\",\"PoS\",\"PoW/PoS \",\"PoW\",\"PoS\",\"PoW\",\"PoW\",\"PoW/PoS\",\"PoW\",\"PoW\",\"PoS\",\"PoW\",\"PoW/PoS\",\"PoW/PoS\",\"PoW/PoS\",\"PoW\",\"PoS\",\"PoW/PoS\",\"PoW\",\"PoS\",\"PoW/PoS\",\"PoW/PoS\",\"PoW/PoS\",\"PoW/PoS\",\"PoS\",\"PoW/PoS\",\"PoW\",\"PoS\",\"PoW\",\"PoS\",\"PoW/PoS\",\"PoW/PoS\",\"PoS\",\"PoW\",\"PoS\",\"PoW\",\"PoW/PoS\",\"PoW\",\"PoW\",\"PoW\",\"PoW\",\"PoW/PoS\",\"PoW\",\"PoW/PoS\",\"PoW/PoS\",\"PoW\",\"PoW/PoS\",\"PoW\",\"PoW\",\"PoW\",\"PoW/PoS\",\"PoW\",\"PoW/PoS\",\"PoW\",\"PoW\",\"PoW\",\"PoS\",\"PoW\",\"PoW/PoS\",\"PoW\",\"PoW/PoS\",\"PoS\",\"Proof of Authority\",\"PoW\",\"PoS\",\"PoW\",\"PoW\",\"PoW\",\"PoW\",\"PoW\",\"PoW/PoS\",\"PoW/PoS\",\"PoW\",\"PoS\",\"PoS\",\"PoW/PoS\",\"PoW\",\"PoW/PoS\",\"PoW\",\"PoW/PoS\",\"PoW\",\"PoS\",\"PoW\",\"PoW/PoS\",\"PoW/PoS\",\"PoW/PoS\",\"PoW/PoS\",\"PoW\",\"PoW/PoS\",\"PoW/PoS\",\"PoW\",\"PoS\",\"PoW/PoS\",\"PoS\",\"PoW\",\"PoW\",\"PoW\",\"PoW\",\"PoW/PoS\",\"PoW/PoS\",\"DPoS\",\"PoW/PoS\",\"PoW/PoS\",\"PoW\",\"PoW/PoS\",\"PoW\",\"PoW\",\"PoW\",\"PoS\",\"PoW\",\"PoS\",\"PoW\",\"PoW\",\"PoW/PoS\",\"PoW/PoS\",\"PoW\",\"PoW/PoS\",\"PoW\",\"PoW\",\"PoW/PoS\",\"PoW/PoS\",\"PoW\",\"PoW\",\"PoS\",\"PoW\",\"PoW\",\"PoW/PoS\",\"PoW/PoS\",\"PoS\",\"PoS\",\"PoW\",\"PoW\",\"PoW\",\"PoS\",\"PoS\",\"PoW\",\"PoW and PoS\",\"PoW\",\"PoW\",\"PoW/PoS\",\"PoW\",\"PoS\",\"PoW\",\"PoW/PoS\",\"PoW\",\"PoW\",\"PoS\",\"POBh\",\"PoW + Hive\",\"PoW\",\"PoW\",\"PoW/PoS\",\"PoW/PoS\",\"PoW/PoS\",\"PoW\",\"PoW/PoS\",\"PoA\",\"PoW/PoS\",\"PoW/PoS\",\"PoS\",\"PoS\",\"PoW\",\"PoW\",\"PoW\",\"PoW\",\"PoW\",\"PoW/PoS\",\"PoW\",\"PoW/PoS\",\"PoW/PoS\",\"PoW/PoS\",\"PoW\",\"PoS\",\"PoW\",\"PoS\",\"PoS\",\"PoW/PoS\",\"PoW\",\"DPoS\",\"PoW\",\"PoW/PoS\",\"PoS\",\"PoW\",\"PoS\",\"PoW/PoS\",\"PoW\",\"PoW\",\"PoS/PoW\",\"PoW\",\"PoS\",\"PoW\",\"PoS\",\"PoW/PoS\",\"PoW\",\"PoS\",\"PoW/PoS\",\"PoW\",\"PoW\",\"PoW/PoS\",\"PoW/PoS\",\"PoS\",\"PoS\",\"PoW\",\"PoW/PoS\",\"PoW\",\"PoW/PoS\",\"PoS\",\"HPoW\",\"PoS\",\"PoW/PoS\",\"PoW\",\"PoS\",\"PoS\",\"PoW\",\"PoW\",\"PoW\",\"PoS\",\"PoW/PoS\",\"PoS\",\"PoW/PoS\",\"PoS\",\"PoW/PoS\",\"PoS\",\"PoW\",\"PoW\",\"PoW/PoS\",\"PoW\",\"PoW\",\"PoW\",\"PoW\",\"PoW\",\"PoS\",\"PoW\",\"PoW/PoS\",\"PoS\",\"PoS\",\"PoW\",\"PoW/PoS\",\"PoS\",\"PoW\",\"PoW/PoS\",\"PoW/PoS\",\"PoW/PoS\",\"Zero-Knowledge Proof\",\"PoW\",\"DPOS\",\"PoW\",\"PoS\",\"PoW\",\"PoW\",\"PoS\",\"PoW\",\"PoS\",\"PoW\",\"Pos\",\"PoS\",\"PoW\",\"PoW/PoS\",\"PoW\",\"PoW\",\"PoW\",\"PoW\",\"PoS\",\"PoW\",\"PoW\",\"PoW/PoS\",\"PoW\",\"PoW/PoS\",\"PoW\",\"PoS\",\"PoW/PoS\",\"PoW\",\"PoW\",\"PoS\",\"PoW/PoS\",\"PoW/PoS\",\"PoW/PoS\",\"PoW/PoS\",\"PoW\",\"PoW\",\"PoW\",\"PoW/PoS\",\"DPoS\",\"PoW\",\"PoW/PoS\",\"PoW\",\"PoW/PoS\",\"PoW\",\"PoW/PoS\",\"PoW\",\"PoW/PoS\",\"PoS\",\"PoW/PoS\",\"PoW/PoS\",\"PoW\",\"PoW/PoS\",\"PoW/PoS\",\"PoW/PoS\",\"PoW\",\"PoW/PoS\",\"PoW\",\"PoW/PoS\",\"PoW\",\"PoW/PoS\",\"PoW/PoS\",\"PoS\",\"PoW\",\"PoW\",\"Proof of Trust\",\"PoW/PoS\",\"DPoS\",\"PoS\",\"PoW/PoS\",\"PoW/PoS\",\"DPoC\",\"PoW\",\"PoW/PoS\",\"PoW\",\"PoW\",\"PoW/PoS\",\"DPoS\",\"PoW\",\"DPoS\",\"PoS\",\"PoW/PoS\",\"LPoS\",\"PoS\",\"PoS\",\"DPoS\",\"DPoW\",\"PoS/LPoS\",\"DPoS\",\"PoW/PoS\",\"PoW\",\"PoW\",\"PoS\",\"PoW/PoS\"],\"TotalCoinSupply\":[\"42\",\"532000000\",\"314159265359\",\"21000000\",\"0\",\"84000000\",\"22000000\",\"0\",\"210000000\",\"21000000\",\"3600570502\",\"21000000000\",\"22000000\",\"12500000\",\"21000000\",\"350000000\",\"20000000\",\"64000000\",\"16768584\",\"0\",\"2000000000\",\"384000000000\",\"169795588\",\"250000000\",\"100000000\",\"0\",\"247000000\",\"84000000\",\"48166000\",\"500000\",\"21000000 \",\"1000000\",\"13140000\",\"18000000\",\"40000000000\",\"4380000\",\"16555000000\",\"21000000000\",\"13500000000\",\"21000000 \",\"299792458\",\"32000000\",\"0\",\"0\",\"11235813\",\"336000000\",\"1420609614\",\"70000000\",\"72245700\",\"120000000\",\"0\",\"90600000000\",\"22000000\",\"21000000\",\"265420800\",\"20000000\",\"1350000\",\"100000000\",\"42000000\",\"200000000\",\"0\",\"10000000\",\"2419200000\",\"16180000\",\"0\",\"15000000000\",\"21000000\",\"337000000\",\"0\",\"3770000\",\"420000000\",\"98000000\",\"0\",\"21000000\",\"250000000\",\"51200000\",\"0\",\"1000\",\"888000000\",\"100000000\",\"47011968\",\"2300000000\",\"10000000\",\"42000000\",\"80000000\",\"250000\",\"0\",\"1600000000\",\"100000000\",\"23000000\",\"0\",\"84000000\",\"265420800\",\"5500000\",\"0\",\"45000000\",\"0\",\"1000000000\",\"184467440735\",\"10000000000\",\"2158812800\",\"500000000\",\"105120000\",\"68000000\",\"0\",\"1680000000\",\"0\",\"166386000\",\"12000000\",\"2628000\",\"500000000\",\"160000000\",\"0\",\"10000000\",\"1000000000\",\"1000000000\",\"20000000\",\"0\",\"0\",\"3371337\",\"20000000\",\"10000000000\",\"1840000000\",\"619478\",\"21000000\",\"92000000000\",\"0\",\"78000000\",\"33000000\",\"65789100\",\"53760000\",\"5060000\",\"21000000\",\"0\",\"210240000\",\"250000000\",\"100000000\",\"16906397\",\"50000000\",\"0\",\"1000000000\",\"26298000\",\"16000000\",\"21000000\",\"21000000\",\"210000000\",\"81962100\",\"22000000\",\"26550000000\",\"84000000\",\"10500000\",\"21626280000 \",\"0\",\"42000000\",\"221052632\",\"84000000\",\"30000000\",\"168351300\",\"24000000\",\"384000000\",\" 99000000000\",\"40000000\",\"2147483647\",\"20000000\",\"20000000\",\"84000000\",\"25000000\",\"75000000\",\"222725000\",\"525000000\",\"90000000\",\"139000000\",\"616448\",\"33500000\",\"2000000000\",\"44333333\",\"100000000\",\"200000000\",\"25000000\",\"657000000\",\"200000000\",\"50000000\",\"90000000\",\"10000000\",\"21000000\",\"9736000\",\"3000000\",\"21000000\",\"1200000000\",\"0\",\"200000000\",\"0\",\"10638298\",\"3100000000\",\"30000000\",\"20000000000\",\"74000000\",\"0\",\"1500000000\",\"21400000\",\"39999898\",\"2500124\",\"100000000\",\"301000000\",\"7506000000\",\"26205539\",\"21000000\",\"125000000\",\"30000000\",\"10000000000\",\"500000000\",\"850000000\",\"3853326.77707314\",\"50000000\",\"38540000 \",\"42000000\",\"228000000\",\"20000000\",\"60000000\",\"20000000\",\"33000000\",\"76500000\",\"28000000\",\"650659833\",\"5000000\",\"21000000\",\"144000000\",\"32514916898\",\"13000000\",\"3315789\",\"15000000\",\"78835200\",\"2714286\",\"25000000\",\"9999999\",\"500000000\",\"21000000\",\"9354000\",\"20000000\",\"100000000000\",\"21933333\",\"185000000\",\"55000000\",\"110000000\",\"3360000\",\"14524851.4827\",\"1000000000\",\"17000000\",\"1000000000\",\"100000000 \",\"21000000\",\"34426423\",\"2232901\",\"100000000\",\"36900000\",\"110000000\",\"4000000000\",\"110290030\",\"100000000\",\"48252000\",\"400000000\",\"500000000\",\"21212121\",\"28600000\",\"1000000000\",\"75000000000\",\"40000000\",\"35520400\",\"2000000000\",\"2500000000\",\"30000000\",\"105000000\",\"90000000000\",\"200084200\",\"72000000\",\"100000000\",\"105000000\",\"50000000000\",\"0\",\"340282367\",\"30000000\",\"2000000000\",\"10000000\",\"100000000\",\"120000000\",\"100000000\",\"19276800\",\"30000000\",\" 75000000\",\"60000000\",\"18900000\",\"50000000000\",\"54000000\",\"18898187.6216583\",\"21000000\",\"200000000000\",\"5000000000\",\"137500000\",\"1100000000\",\"100000000\",\"21000000\",\"9507271\",\"17405891.19707116\",\"86712634466\",\"10500000000\",\"61599965\",\"0\",\"20000000\",\"84000000\",\"100000000\",\"100000000\",\"48252000\",\"4200000\",\"88888888\",\"91388946\",\"45000000000\",\"27000000\",\"21000000000\",\"400000000\",\"1800000000\",\"15733333\",\"27000000\",\"24000000\",\"21000000\",\"25000000000\",\"100000000\",\"1200000000\",\"60000000\",\"156306732.71\",\"21000000\",\"200000000\",\"100000000\",\"21000000\",\"14788275.991\",\"9000000000\",\"350000000\",\"45000000\",\"280000000\",\"31800000\",\"57879300\",\"144000000\",\"500000000\",\"30000000000\",\"210000000\",\"660000000\",\"210000000\",\"85000000000\",\"12500000\",\"10000000000\",\"27716121\",\"100000000\",\"20000000\",\"550000000\",\"999481516\",\"50000000000\",\"150000000\",\"4999999999\",\"50000000\",\" 90000000000\",\"19800000\",\"50000000\",\"70000000\",\"21000000\",\"32000000\",\"120000000\",\"500000000\",\"64000000\",\"900000000\",\"4000000\",\"21000000\",\"25000000000\",\"23000000\",\"20166000\",\"23000000\",\"25000000\",\"1618033\",\"24000000\",\"30000000\",\"1000000000000\",\"16600000\",\"232000000\",\"336000000\",\"3980000000\",\"10000000000\",\"25000000\",\"100000000\",\"1100000000\",\"800000000\",\"5200000000\",\"840000000\",\"40000000\",\"18406979840\",\"72000000\",\"25000000\",\"69000000\",\"500000000\",\"19340594\",\"252460800\",\"25000000\",\"60000000\",\"124000000\",\"1000000000\",\"6500000000\",\"1000000000\",\"21000000\",\"10044655075.56243680\",\"25000000\",\"32000000\",\"11892000\",\"50000000\",\"3000000\",\"5000000\",\"70000000\",\"500000000\",\"300000000\",\"21000000\",\"88000000\",\"30000000\",\"21000000\",\"100000000\",\"100000000\",\"200000000\",\"80000000\",\"18400000\",\"45000000\",\"5121951220\",\"21000000\",\"26280000\",\"21000000\",\"18000000\",\"26000000\",\"10500000\",\"30000000\",\"110000000\",\"600000518\",\"8148139\",\"7500000\",\"150000000\",\"184000000000\",\"100000000\",\"10200000000\",\"62000000\",\"44000000\",\"168000000\",\"100000000\",\"1000000000\",\"84000000\",\"90000000\",\"92000000000\",\"650000000 \",\"250000000\",\"545399000\",\"100262205\",\"18081806 \",\"22075700\",\"21000000\",\"21000000\",\"15600000\",\"82546564\",\"21000000\",\"5151000\",\"16880000000\",\"52500000\",\"100000000\",\"22105263\",\"1000000000\",\"1000000000\",\"1750000000\",\"88188888\",\"210000000\",\"184470000000\",\"1000000000\",\"55000000\",\"50000000\",\"50000000\",\"260000000\",\"210000000\",\"2100000000\",\"366000000\",\"100000000\",\"25000000\",\"36500000\",\"18000000000\",\"21000000\",\"1000000000\",\"100000000\",\"1000000000\",\"7600000000\",\"50000000\",\"207000000\",\"84000000\",\"200000000\",\"21000000\",\"38000000\",\"64000000\",\"70000000000\",\"0\",\"8080000000\",\"54000000\",\"21000000\",\"105120001.44\",\"25228800\",\"7000000000\",\"105000000\",\"21000000\",\"120000000\",\"21000000\",\"262800000\",\"19035999\",\"30886000\",\"13370000\",\"74800000000\",\"32700000\",\"100000000\",\"19700000\",\"84000000\",\"500000000\",\"5000000000\",\"420000000\",\"64000000\",\"2100000\",\"168000000\",\"30000000\",\"1000000000\",\"10000000000\",\"35000000000\",\"98100000000\",\"0\",\"4000000000\",\"200000000\",\"7000000000\",\"54256119\",\"21000000\",\"0\",\"500000000\",\"1000000000\",\"10500000000\",\"190000000\",\"1000000000\",\"42000000\",\"15000000\",\"50000000000\",\"400000000\",\"105000000\",\"208000000\",\"160000000\",\"9000000\",\"5000000\",\"182000000\",\"16504333\",\"105000000\",\"159918400\",\"10008835635\",\"300000000\",\"60168145\",\"5000000000\",\"2800000\",\"120000\",\"2100000000\",\"210000000\",\"21000000\",\"0\",\"24487944\",\"0\",\"1000000000\",\"100000000000\",\"100000000\",\"8634140\",\"900000000\",\"990000000000\",\"11000000\",\"1000000000\",\"2000000000\",\"250000000\",\"1400222610\",\"21000000\",\"1000000\",\"100000000\"],\"TotalCoinsMined\":{\"__ndarray__\":\"E66yfP7/REC4HgUDbHLPQcQCukHCRBtCAAAAcMAYcUHb+b76hayZQfhoZlo4D45BczEFzM85YUFmkFFyf2dwQQAAAFztBptBAAAAEAQqXEEAAAA6IW3kQQAAKLzoPgVCAAAAAJ6qM0Epu0/cGOFmQQAAAIAdAVZBuzNpefhbeEFogey/NERlQQ8SPW7cR2dB+ijjv4NLcUEAAABO5u/CQQAAgMotKNlBAAAAAAAAVkCRe4LLOUqkQWlwu1zuvZ5B7FG4slgRXEES3YNEKFedQbxc1FkO8a5Bi10hSWmgh0FQLIHFyuR/Qc7ixUJvyuRAZlhcKb2KW0HCR4pNGbYvQdDqKuGh8VFBQQ4rjd4PU0GutucKX6AiQqBfqd8TNklB/fZoycqrDUIAAHBTCXwRQnWTloARWwdCTGbm7Bjxc0He//+wcBeqQbTI9iT1l3JBAAAAQJaqVUHCNFQR94a7QaQ8LSbMbzFBMPUDShPgqEEAAAA1WFnKQQJaxIOwUI9BD/H/v0jdg0EMI73Wa0iVQftcscYLA9lBo6E6fO0XNUJp65YfTtVwQW3n+0/EHHRBmpmZw9ANokHNzEzyVm5yQeu2uDrY2TBBAAAAaLVMjUFB3vH/OTGCQTMzM4eHR4NB0/wVEd7UE0K3KNQ4KyRWQdb//9BLDNhBAAAAAGTcbkFIZKnBRYOPQWh5ONDpoOFBAAAAAIIbbEHvrnvnQfOzQWC5lIqR6GxBEqW9I0SSSEECRgfUkYuqQQAAgKodopFB7loEOWBNG0KzdfRrHdkwQZqZmdvoF3dBqQYrknhoeEEorP5t5i2IQQAAAAAAZJJASWWmrurJwEEmvO6+tSKTQQAAAACNwoRBsaedNq8s2EHonwEAK9k1QQAAAEB233VBAAAAAINhQUF75AdVfoYIQQAAAAAObDJBZmYm5Ctg0EHqsCJZOvSHQfP/r8ISFHZBBGSeRqeJfkHGd4jeymaIQQAAAHQ6hJxBqj02xuuDWkEAAAAAhNeXQWWO5dqisIJBhvyY1oWPf0HN5/S7TaShQQAAB3WebUVCcSCmnaK6+UEAAADwLATbQQAAAMC4ZohBcBN8y0VCkEEAAADwmKeCQQAAADhjXYlBAAAAZOS8uEGF80Sm1ux5QeDz06y0ZKBBm6kQ40DcPkGTMePy+TQGQRqL3sPG0aRB26a4ke4mokEAAAAAwWU2QQAAAICAEltBAAAAUZSex0EAAABPt3DFQQAAAACKhURBAAAAsGYMj0EAAABAGUhYQchLLY4xV2NBAAAAQF4iZkFxPQ5ywyzxQQAAAMx5HcVBAAAAAKznIkEAAACAQ8VnQQAAAABQifVAAAAAAOgYN0EAAAAgqFqOQbTMIm2Yun5BAAAAQFI2akFuowEAyCBsQb/Mf8ucV2BBAAAAsANCbkFIisgQwBcUQQAAAECDDn9BAAAAkCQHkkEAAAAAhNeXQQAAAMClBGRBAAAAwKL5dUEAAEizP9MeQnMvcJZSiIRBdN9gjbfOaUEAAADg5UNuQXYi101WBnRBZYmz3Q7FY0EAAAAAsQipQQAAAKBO1mVB0TYn7F3/S0EAAJj8c3sEQgAAABB1ppBBAAAAgM2QU0EAAGSVNj8UQs9mP8p8wQJCZta35+opYUEAAACQC02DQQAAAKChgoVBAAAAAGjAVUEVe6IeXWwjQQAAALCvdnBBhtM4uazZY0FWnZ2VUDchQsSzAmd+slBBAADA////30EAAAAA0BJzQfWeCOrNEFlBAAAAAPQGlEEAK/ZPCAtqQcdoTXpKCqBBAAAAAAU+MkEAAACAJMhvQQAAAIxo5ZNBZm8EyAhCd0EAAAAAANAiQfyTU4WrZoJBn69J+WY7yEEAAAAAPURRQQAAAACE15dBAAAAANASU0EAAAAAfQY1QQAAACCDlMNBAAAATNyhm0EAAAAgjK9tQQAAAOA5lYRBKodcLhjXXUEAAAAAyisiQQAAAACA0VdBdRnlsMgRJEEAAAAA6bJDQQAAAABlzc1BAAAAALGZPUEAAACwqtubQQAAADC9N6RBAAAAQKNeYUEAAIDcEtPDQQAAAABMNWVBAADsTbU7EkIsDC47qqaRQQAAANBQ+H9B38WTdFiNr0FRzfhP5t5cQQAAACB6uqFBAAAAAA4TQ0EAAAAAhNeXQXh6paJD/nBBbFvich8g0EEAAAAw1v14QQAAAID7aVVBAAAAkCHMmUEAAADQOX5xQQAAAOaJZqdBAAAAAJ+OyEEAAMPVHnc1QvUhd2MHZk1BAAAAAITXh0EAAAAARExwQaeWKbVUsEJBAAAAaNJCjUEAAAAA0BJzQfoQ8YQ6J1dBAAAAQMWuZ0EBbEB6Y05zQQAAAISrBZJBbwoQTIIiZUEAAABATtFkQQAAAACe3ChBAAAAAMLZLUEAAABAhPVfQbVVN4SufR9CAAAAgCt/SkEAAACAJkxJQbdAp5ehD2RBAAAAYNLTfEEAAAAAlEgrQQAAAADk2GFB6YGPcbKgPEEAAADA69p2QYgj1Ty/RUNBrDNEPXaWVUEAAAAAVIxmQQAAAB3ZAMBBAAAAAEzPEkEHCrzQHOxkQYyDbPs6TEZBAAAAAN45mkEAAAAAfcRHQUVHcm82tGtBAAAAQFj6fEEceJZ5bWdaQQAAAABlzc1Bom1DQfXNl0EAAADYxa9xQQAAAOitMIFBAAAAgCIJQUFO5b6iHxtpQSGPoH1QPWdB3+Fmz1dgmkEAAACgOZCOQQRWjnMxf5pBy5sooDqGdEEAAAAA+E5jQQAAAFk07bdBO1STrt4BnUEAAACAGXtUQQAAAACkhTFBAAAAAICEHkEAAABE0/iXQQAAAGA7YHBBjSlYMjhWc0EJpFzqaJexQQAAAMvOotNBYUctP6K5ZUEAAADAil50QQAAwNHu7iJCAAAAIFm6Y0FyQtfNdxRqQQAAAACE15dBZQhWw591kEEAANx7ZDwVQqidawoi3nJBAAAApNTEn0GR22qx9Y1xQQAAwMGR9tpBAAAAADvTT0EAAAD4bMGAQQAAANhbA45BAAAAgOL0WUEAAACwDEtxQQAAAMBnSHRBAAAAwKe2U0EfFfrF/9V4QQAAAADTAkRBf/D5i/XYAEIAAABg8QJrQZrdyaDV5nRBkpqRkij6cEEAAE6ra/tCQksfp79isuBBAAAAeCK+mUHKGI/ZUTOdQZLD0dPOkYZBarxZWnQpcUEkWCbRVflnQfNrlRV4zHFBAACgM7jSKUIAAAAAeJ0dQQAAAACAhE5B8NfWTe6lQEIAAABATYJiQXDZd1YrpXBBCTICsWQif0EAAABwyROAQQAAAEBoonJBAAAAAJAFUEEAAACgexBhQQAAAACE13dBAAAozX4lGELOvrqCMLRbQQM+oN4favNBAAAAgK7FpUHLSpu+SSPkQYums+r+ZzFBUXuZyafIT0EAAAAAYON2QfmEbJHLZ3BBAACMvNGQJkIAAADAVfKVQQAAAArCtMBB2W9W1BuvX0EAAAAgzTSAQQAAAACcZkBBinB46O9JfUEnT/nF59aXQeDzw8nmhGdByXa+H4Y1b0EAALDPiMMAQgAAAOYp46RBKVyPwtZRWEEAAADgsVRoQQAAALicP1ZBDw7W0Hgfj0GOdqwW6jaCQWFvfsfpK7FBAAAAkuJyGkLIlMeRA+GlQenwkAagtrxBz2ssRX91mkE4+JX7JPURQgAAAACIKlFBAAAAhC0Mv0G/7S5cWURpQXnC3DN6+lVBqdpuTpcrcEEAAAC8HCaTQRKDYLnxTLpBXI/WvvhL8kHLoUVKCQ9gQUjhGyQdie1BBOfcMG6KhUFZF6rN7wUcQv52QCDsIVBBAAAAAEVDVUFaWwIOXc+HQakEWVV+711BRK5tn51hTkEAAAAA9gh6QQAAAMGN3rFBm/K3SiGwhUEAAABOJZ3BQQndJR2TG0NBAAAAAPXPUEEAAADodkgXQmzR3gqzK2BBAAAAAFc7c0FE3QeDpbpmQVUBjViqf3NBAAAAAHGwOEHCAWhjVdBwQeij6NCF7WFBPYqbEsO+KEIj91O/aGFSQeJ2kHPw/qtBxK8Yz5bun0HXLwgsnGvrQQAAACBfoAJCAAAAAF8lSkEmcxxInZaZQdUhxePFL8NBAAAAWip0q0Hx13gn/mfaQZawGn54BsNBFcYWgDK9Z0EAAKio2v0KQg6vGo9CPmZBAAAAAC/eSkF4Tf5/+cdGQU8/AM1KMKlBREsDxtF1ZUEAAAB+NGCoQc3MzIwJikBBUrgehS2XGUFaJijSrWJ4QQAAgLiUZcNBAAAASoiErUF1dZ/rzhWTQZlQHBOiDU9BibUWT0GW4UEAAAAAhNd3QQAAAAB6wTRB8Njxlc0HYUEZwhbUWUxqQRm2f6CLzilBAAAAgMkJMkEAAABUMQORQQAAoBhH3a9Bg3RsWu0SekF9BpRr9bJiQU0Fpq323HRB67Hly3bYYkGQqbVS7RVRQQAAAAAryTJBiRH9UgdUfkFybgOZg6igQUza+cLWH2VBAAAAALyMbkEAAAAAlsxQQeZ0XZZv7NRBkkEJJOIXdEFEUX1tNnJTQY1+9GKwzGRBAAAAAG5GKEG0drvL83SCQQRTE+2nplpBAAAAADPdTEGIN+GYGOFeQQAAAADAlPRAi1CsVLKqZUHYmFvsMBkkQQAAAAAuRHJBAACivbA6I0IMAivFJCh4QQAAADC9/wJCAAAAAIGuW0FIUPwALBtdQYNtFCAxMqBBnLOPe8qyf0ElyzPgHbHAQe/Jw7pGmXRBz/PnRZrhfEFZ5otViSEyQujU/Hk0uURBrkgMf15VjkEAAABg0qGMQRjSAcgBkYtBAAAAgB9acUGmrVdBav9eQThQXsVjfWBBoqWhrAEMU0HMn6nfnm9fQaz59oQ3m4FBTSPWD2YEW0GrIClxwJRWQZblkOe4zC9BqLUfPhFuaUEhQAGtN3+PQUhk5RDXnTVBRDOjjs8KsEEZ8ryfJp1UQddG4emEt21BAAAAQESoUkFpyxQjRSBsQV3NAOrTLTdCAAAAOC/gvEFxPQpfeGByQYgCLEzPeHlBFg2eX3tYfUH/sqtvYrGZQQdWG3NDymFBAAAAQN1K30F7Zgl2ANNRQQAAAMAPL1FB2sDhV1IiU0FrDhCck188QReaN9DOls9BV8MwfU8rQkEAAAAAZc3NQVFXrzOTmmJBAAAAAGXNzUEAAACK1Y3vQXJgh0tT5FlBjyXSPgYFkkEAAABApAFqQQAAAACE16dBP8xZKrQocUFrLpJV8UdrQdwKBuwVpWpBYhS8MGbbqEFwTkFiKgcQQpEsUsY/0ttBhCXzzZHWgEESlJG9MaRzQZO4O1ApFThByd3xJ6g5bkE18cmfrwl3QQAAAAAKtGlBMzMzsy/JGEHNPWRpN9OAQRxGnKyZL2xBAAAAAGMEgUGfRPozO2txQQAAADhU/HdB9P7crG2FPUFPHsAGbLUcQoLat+4BC1dBjbmGzWunaEHVjX/iFtclQSbCSwM+mHNBbw+6QBy3p0EAAABosbbKQa3xPlFpaW1BzrkFZYbviEEAAACAdNsxQdL+/69fLJRBOMwhha2sdkEAAAAAZc3NQQAAACBfoAJC5x1IVZ2IDEL7Pxej2H6KQSibcjLG6qxBAACA+gF/7EEAAAAAf/xKQUgFZGJXRnZBAAAAQJGfc0FeS8aPUMFQQW94x/+7XmJBFoV9WDoCukEAAAAGiUDHQR9ofThlOs1BBFbV6ym1EEJuUAeag3W9QUrmXREL7HVBAAAAADicjEFprytpX40bQpijizthGbhBuqmMb8R5kUGs4drOJgGoQa4Pq9CTtJhBBonp3l4nTUGfQd76IkZTQZk6wZ0znZBBDFuTijkecEEqosuD3c2RQQAAALD1nJxBApot/nygAkKJmGJ4mQquQaD9SAGBGDFB0nu/vNIL9sEAAABAnW1JQag65AZOLwFBAAAAAITXl0HML86jjn2DQWx0lBDyCkFB2T2JBSNqzkH5eoiBgFp3QRSu13KMudBBAAAAAGXNzUHkA5tBnKYEQgAAAACE15dB2arJMci0YUHhroOhM8V3QcX0e579z2xCPMawiCD7ZEEAAAAAZc3NQfOO0/5kzd1BlPryxIx6bEEAAIBBgTbNQQAAAGCG1VtBR9gB8W9U/0C0Ym7X4H50QQ==\",\"dtype\":\"float64\",\"order\":\"little\",\"shape\":[578]}},\"selected\":{\"id\":\"1241\"},\"selection_policy\":{\"id\":\"1290\"}},\"id\":\"1240\",\"type\":\"ColumnDataSource\"},{\"attributes\":{},\"id\":\"1278\",\"type\":\"NumberEditor\"},{\"attributes\":{\"source\":{\"id\":\"1240\"}},\"id\":\"1289\",\"type\":\"CDSView\"},{\"attributes\":{\"editor\":{\"id\":\"1263\"},\"field\":\"TotalCoinSupply\",\"formatter\":{\"id\":\"1262\"},\"title\":\"TotalCoinSupply\"},\"id\":\"1264\",\"type\":\"TableColumn\"},{\"attributes\":{},\"id\":\"1252\",\"type\":\"StringFormatter\"},{\"attributes\":{\"margin\":[5,5,5,5],\"name\":\"HSpacer02018\",\"sizing_mode\":\"stretch_width\"},\"id\":\"1294\",\"type\":\"Spacer\"},{\"attributes\":{},\"id\":\"1247\",\"type\":\"StringFormatter\"},{\"attributes\":{},\"id\":\"1248\",\"type\":\"StringEditor\"},{\"attributes\":{},\"id\":\"1263\",\"type\":\"StringEditor\"},{\"attributes\":{\"editor\":{\"id\":\"1253\"},\"field\":\"ProofType\",\"formatter\":{\"id\":\"1252\"},\"title\":\"ProofType\"},\"id\":\"1254\",\"type\":\"TableColumn\"},{\"attributes\":{\"format\":\"0,0.0[00000]\"},\"id\":\"1257\",\"type\":\"NumberFormatter\"},{\"attributes\":{\"editor\":{\"id\":\"1243\"},\"field\":\"CoinName\",\"formatter\":{\"id\":\"1242\"},\"title\":\"CoinName\"},\"id\":\"1244\",\"type\":\"TableColumn\"},{\"attributes\":{\"margin\":[5,5,5,5],\"name\":\"HSpacer02017\",\"sizing_mode\":\"stretch_width\"},\"id\":\"1239\",\"type\":\"Spacer\"},{\"attributes\":{\"editor\":{\"id\":\"1283\"},\"field\":\"Class\",\"formatter\":{\"id\":\"1282\"},\"title\":\"Class\"},\"id\":\"1284\",\"type\":\"TableColumn\"},{\"attributes\":{},\"id\":\"1262\",\"type\":\"StringFormatter\"},{\"attributes\":{\"format\":\"0,0.0[00000]\"},\"id\":\"1272\",\"type\":\"NumberFormatter\"},{\"attributes\":{\"editor\":{\"id\":\"1268\"},\"field\":\"PC_1\",\"formatter\":{\"id\":\"1267\"},\"title\":\"PC 1\"},\"id\":\"1269\",\"type\":\"TableColumn\"},{\"attributes\":{},\"id\":\"1242\",\"type\":\"StringFormatter\"},{\"attributes\":{},\"id\":\"1258\",\"type\":\"NumberEditor\"},{\"attributes\":{\"editor\":{\"id\":\"1258\"},\"field\":\"TotalCoinsMined\",\"formatter\":{\"id\":\"1257\"},\"title\":\"TotalCoinsMined\"},\"id\":\"1259\",\"type\":\"TableColumn\"},{\"attributes\":{},\"id\":\"1253\",\"type\":\"StringEditor\"},{\"attributes\":{},\"id\":\"1273\",\"type\":\"NumberEditor\"},{\"attributes\":{\"editor\":{\"id\":\"1248\"},\"field\":\"Algorithm\",\"formatter\":{\"id\":\"1247\"},\"title\":\"Algorithm\"},\"id\":\"1249\",\"type\":\"TableColumn\"},{\"attributes\":{},\"id\":\"1282\",\"type\":\"NumberFormatter\"}],\"root_ids\":[\"1238\"]},\"title\":\"Bokeh Application\",\"version\":\"2.4.2\"}};\n",
       "    var render_items = [{\"docid\":\"cb9b07aa-faf6-41b5-bcb6-9c6df319486b\",\"root_ids\":[\"1238\"],\"roots\":{\"1238\":\"42199c03-1e33-4bdd-821e-f78ec4b61f9b\"}}];\n",
       "    root.Bokeh.embed.embed_items_notebook(docs_json, render_items);\n",
       "  }\n",
       "  if (root.Bokeh !== undefined && root.Bokeh.Panel !== undefined) {\n",
       "    embed_document(root);\n",
       "  } else {\n",
       "    var attempts = 0;\n",
       "    var timer = setInterval(function(root) {\n",
       "      if (root.Bokeh !== undefined && root.Bokeh.Panel !== undefined) {\n",
       "        clearInterval(timer);\n",
       "        embed_document(root);\n",
       "      } else if (document.readyState == \"complete\") {\n",
       "        attempts++;\n",
       "        if (attempts > 200) {\n",
       "          clearInterval(timer);\n",
       "          console.log(\"Bokeh: ERROR: Unable to run BokehJS code because BokehJS library is missing\");\n",
       "        }\n",
       "      }\n",
       "    }, 25, root)\n",
       "  }\n",
       "})(window);</script>"
      ],
      "text/plain": [
       ":Table   [CoinName,Algorithm,ProofType,TotalCoinsMined,TotalCoinSupply,PC 1,PC 2,PC 3,Class]"
      ]
     },
     "execution_count": 129,
     "metadata": {
      "application/vnd.holoviews_exec.v0+json": {
       "id": "1238"
      }
     },
     "output_type": "execute_result"
    }
   ],
   "source": [
    "import hvplot.pandas\n",
    "\n",
    "clustered_df.hvplot.table()"
   ]
  },
  {
   "cell_type": "code",
   "execution_count": 132,
   "id": "c1adf000",
   "metadata": {},
   "outputs": [
    {
     "name": "stdout",
     "output_type": "stream",
     "text": [
      "There are 578 tradable cryptocurrencies.\n"
     ]
    }
   ],
   "source": [
    "# Print the total number of tradable cryptocurrencies.\n",
    "print(\"There are\", len(clustered_df), \"tradable cryptocurrencies.\")"
   ]
  },
  {
   "cell_type": "code",
   "execution_count": 134,
   "id": "d8e3ac17",
   "metadata": {},
   "outputs": [
    {
     "data": {
      "text/plain": [
       "array([[4.20000000e-11, 5.94230127e-03],\n",
       "       [5.32000000e-04, 7.00182308e-03],\n",
       "       [3.14159265e-01, 3.53420682e-02],\n",
       "       ...,\n",
       "       [2.10000000e-05, 5.94962775e-03],\n",
       "       [1.00000000e-06, 5.94243008e-03],\n",
       "       [1.00000000e-04, 5.96388077e-03]])"
      ]
     },
     "execution_count": 134,
     "metadata": {},
     "output_type": "execute_result"
    }
   ],
   "source": [
    "# Scaling data to create the scatter plot with tradable cryptocurrencies.\n",
    "scaler = MinMaxScaler()\n",
    "\n",
    "scaled = scaler.fit_transform(clustered_df[[\"TotalCoinSupply\", \"TotalCoinsMined\"]])\n",
    "\n",
    "scaled"
   ]
  },
  {
   "cell_type": "code",
   "execution_count": 138,
   "id": "00cfd72f",
   "metadata": {},
   "outputs": [
    {
     "data": {
      "text/html": [
       "<div>\n",
       "<style scoped>\n",
       "    .dataframe tbody tr th:only-of-type {\n",
       "        vertical-align: middle;\n",
       "    }\n",
       "\n",
       "    .dataframe tbody tr th {\n",
       "        vertical-align: top;\n",
       "    }\n",
       "\n",
       "    .dataframe thead th {\n",
       "        text-align: right;\n",
       "    }\n",
       "</style>\n",
       "<table border=\"1\" class=\"dataframe\">\n",
       "  <thead>\n",
       "    <tr style=\"text-align: right;\">\n",
       "      <th></th>\n",
       "      <th>TotalCoinSupply</th>\n",
       "      <th>TotalCoinsMined</th>\n",
       "      <th>CoinName</th>\n",
       "      <th>Class</th>\n",
       "    </tr>\n",
       "    <tr>\n",
       "      <th>Index</th>\n",
       "      <th></th>\n",
       "      <th></th>\n",
       "      <th></th>\n",
       "      <th></th>\n",
       "    </tr>\n",
       "  </thead>\n",
       "  <tbody>\n",
       "    <tr>\n",
       "      <th>42</th>\n",
       "      <td>4.200000e-11</td>\n",
       "      <td>0.005942</td>\n",
       "      <td>42 Coin</td>\n",
       "      <td>1</td>\n",
       "    </tr>\n",
       "    <tr>\n",
       "      <th>404</th>\n",
       "      <td>5.320000e-04</td>\n",
       "      <td>0.007002</td>\n",
       "      <td>404Coin</td>\n",
       "      <td>1</td>\n",
       "    </tr>\n",
       "    <tr>\n",
       "      <th>1337</th>\n",
       "      <td>3.141593e-01</td>\n",
       "      <td>0.035342</td>\n",
       "      <td>EliteCoin</td>\n",
       "      <td>1</td>\n",
       "    </tr>\n",
       "    <tr>\n",
       "      <th>BTC</th>\n",
       "      <td>2.100000e-05</td>\n",
       "      <td>0.005960</td>\n",
       "      <td>Bitcoin</td>\n",
       "      <td>0</td>\n",
       "    </tr>\n",
       "    <tr>\n",
       "      <th>ETH</th>\n",
       "      <td>0.000000e+00</td>\n",
       "      <td>0.006050</td>\n",
       "      <td>Ethereum</td>\n",
       "      <td>0</td>\n",
       "    </tr>\n",
       "    <tr>\n",
       "      <th>LTC</th>\n",
       "      <td>8.400000e-05</td>\n",
       "      <td>0.006006</td>\n",
       "      <td>Litecoin</td>\n",
       "      <td>0</td>\n",
       "    </tr>\n",
       "    <tr>\n",
       "      <th>DASH</th>\n",
       "      <td>2.200000e-05</td>\n",
       "      <td>0.005951</td>\n",
       "      <td>Dash</td>\n",
       "      <td>1</td>\n",
       "    </tr>\n",
       "    <tr>\n",
       "      <th>XMR</th>\n",
       "      <td>0.000000e+00</td>\n",
       "      <td>0.005960</td>\n",
       "      <td>Monero</td>\n",
       "      <td>0</td>\n",
       "    </tr>\n",
       "    <tr>\n",
       "      <th>ETC</th>\n",
       "      <td>2.100000e-04</td>\n",
       "      <td>0.006056</td>\n",
       "      <td>Ethereum Classic</td>\n",
       "      <td>0</td>\n",
       "    </tr>\n",
       "    <tr>\n",
       "      <th>ZEC</th>\n",
       "      <td>2.100000e-05</td>\n",
       "      <td>0.005950</td>\n",
       "      <td>ZCash</td>\n",
       "      <td>0</td>\n",
       "    </tr>\n",
       "  </tbody>\n",
       "</table>\n",
       "</div>"
      ],
      "text/plain": [
       "       TotalCoinSupply  TotalCoinsMined          CoinName  Class\n",
       "Index                                                           \n",
       "42        4.200000e-11         0.005942           42 Coin      1\n",
       "404       5.320000e-04         0.007002           404Coin      1\n",
       "1337      3.141593e-01         0.035342         EliteCoin      1\n",
       "BTC       2.100000e-05         0.005960           Bitcoin      0\n",
       "ETH       0.000000e+00         0.006050          Ethereum      0\n",
       "LTC       8.400000e-05         0.006006          Litecoin      0\n",
       "DASH      2.200000e-05         0.005951              Dash      1\n",
       "XMR       0.000000e+00         0.005960            Monero      0\n",
       "ETC       2.100000e-04         0.006056  Ethereum Classic      0\n",
       "ZEC       2.100000e-05         0.005950             ZCash      0"
      ]
     },
     "execution_count": 138,
     "metadata": {},
     "output_type": "execute_result"
    }
   ],
   "source": [
    "# Create a new DataFrame that has the scaled data with the clustered_df DataFrame index.\n",
    "scaled_df = pd.DataFrame(scaled, columns=[\"TotalCoinSupply\", \"TotalCoinsMined\"], index = clustered_df.index)\n",
    "\n",
    "# Add the \"CoinName\" column from the clustered_df DataFrame to the new DataFrame.\n",
    "scaled_df[\"CoinName\"] = clustered_df[\"CoinName\"]\n",
    "\n",
    "# Add the \"Class\" column from the clustered_df DataFrame to the new DataFrame. \n",
    "scaled_df[\"Class\"] = clustered_df[\"Class\"]\n",
    "\n",
    "scaled_df.head(10)"
   ]
  },
  {
   "cell_type": "code",
   "execution_count": 141,
   "id": "45644eaa",
   "metadata": {},
   "outputs": [
    {
     "data": {},
     "metadata": {},
     "output_type": "display_data"
    },
    {
     "data": {
      "application/vnd.holoviews_exec.v0+json": "",
      "text/html": [
       "<div id='1306'>\n",
       "\n",
       "\n",
       "\n",
       "\n",
       "\n",
       "  <div class=\"bk-root\" id=\"24905285-d743-4cb0-b5d2-6f3da1010ad6\" data-root-id=\"1306\"></div>\n",
       "</div>\n",
       "<script type=\"application/javascript\">(function(root) {\n",
       "  function embed_document(root) {\n",
       "    var docs_json = {\"5116e89a-c60b-4a05-a430-5f6cc1a3b8bf\":{\"defs\":[{\"extends\":null,\"module\":null,\"name\":\"ReactiveHTML1\",\"overrides\":[],\"properties\":[]},{\"extends\":null,\"module\":null,\"name\":\"FlexBox1\",\"overrides\":[],\"properties\":[{\"default\":\"flex-start\",\"kind\":null,\"name\":\"align_content\"},{\"default\":\"flex-start\",\"kind\":null,\"name\":\"align_items\"},{\"default\":\"row\",\"kind\":null,\"name\":\"flex_direction\"},{\"default\":\"wrap\",\"kind\":null,\"name\":\"flex_wrap\"},{\"default\":\"flex-start\",\"kind\":null,\"name\":\"justify_content\"}]},{\"extends\":null,\"module\":null,\"name\":\"GridStack1\",\"overrides\":[],\"properties\":[{\"default\":\"warn\",\"kind\":null,\"name\":\"mode\"},{\"default\":null,\"kind\":null,\"name\":\"ncols\"},{\"default\":null,\"kind\":null,\"name\":\"nrows\"},{\"default\":true,\"kind\":null,\"name\":\"allow_resize\"},{\"default\":true,\"kind\":null,\"name\":\"allow_drag\"},{\"default\":[],\"kind\":null,\"name\":\"state\"}]},{\"extends\":null,\"module\":null,\"name\":\"click1\",\"overrides\":[],\"properties\":[{\"default\":\"\",\"kind\":null,\"name\":\"terminal_output\"},{\"default\":\"\",\"kind\":null,\"name\":\"debug_name\"},{\"default\":0,\"kind\":null,\"name\":\"clears\"}]},{\"extends\":null,\"module\":null,\"name\":\"TemplateActions1\",\"overrides\":[],\"properties\":[{\"default\":0,\"kind\":null,\"name\":\"open_modal\"},{\"default\":0,\"kind\":null,\"name\":\"close_modal\"}]},{\"extends\":null,\"module\":null,\"name\":\"MaterialTemplateActions1\",\"overrides\":[],\"properties\":[{\"default\":0,\"kind\":null,\"name\":\"open_modal\"},{\"default\":0,\"kind\":null,\"name\":\"close_modal\"}]}],\"roots\":{\"references\":[{\"attributes\":{\"axis_label\":\"TotalCoinSupply\",\"coordinates\":null,\"formatter\":{\"id\":\"1354\"},\"group\":null,\"major_label_policy\":{\"id\":\"1355\"},\"ticker\":{\"id\":\"1325\"}},\"id\":\"1324\",\"type\":\"LinearAxis\"},{\"attributes\":{},\"id\":\"1318\",\"type\":\"LinearScale\"},{\"attributes\":{},\"id\":\"1325\",\"type\":\"BasicTicker\"},{\"attributes\":{\"angle\":{\"value\":0.0},\"fill_alpha\":{\"value\":1.0},\"fill_color\":{\"value\":\"#30a2da\"},\"hatch_alpha\":{\"value\":1.0},\"hatch_color\":{\"value\":\"#30a2da\"},\"hatch_scale\":{\"value\":12.0},\"hatch_weight\":{\"value\":1.0},\"line_alpha\":{\"value\":1.0},\"line_cap\":{\"value\":\"butt\"},\"line_color\":{\"value\":\"#30a2da\"},\"line_dash\":{\"value\":[]},\"line_dash_offset\":{\"value\":0},\"line_join\":{\"value\":\"bevel\"},\"line_width\":{\"value\":1},\"marker\":{\"value\":\"circle\"},\"size\":{\"value\":5.477225575051661},\"x\":{\"field\":\"TotalCoinsMined\"},\"y\":{\"field\":\"TotalCoinSupply\"}},\"id\":\"1349\",\"type\":\"Scatter\"},{\"attributes\":{},\"id\":\"1330\",\"type\":\"WheelZoomTool\"},{\"attributes\":{\"coordinates\":null,\"group\":null,\"text_color\":\"black\",\"text_font_size\":\"12pt\"},\"id\":\"1312\",\"type\":\"Title\"},{\"attributes\":{},\"id\":\"1351\",\"type\":\"BasicTickFormatter\"},{\"attributes\":{\"end\":1.1,\"reset_end\":1.1,\"reset_start\":-0.1,\"start\":-0.1,\"tags\":[[[\"TotalCoinSupply\",\"TotalCoinSupply\",null]]]},\"id\":\"1309\",\"type\":\"Range1d\"},{\"attributes\":{\"overlay\":{\"id\":\"1333\"}},\"id\":\"1331\",\"type\":\"BoxZoomTool\"},{\"attributes\":{},\"id\":\"1321\",\"type\":\"BasicTicker\"},{\"attributes\":{},\"id\":\"1352\",\"type\":\"AllLabels\"},{\"attributes\":{\"margin\":[5,5,5,5],\"name\":\"HSpacer02140\",\"sizing_mode\":\"stretch_width\"},\"id\":\"1307\",\"type\":\"Spacer\"},{\"attributes\":{\"source\":{\"id\":\"1341\"}},\"id\":\"1348\",\"type\":\"CDSView\"},{\"attributes\":{\"axis_label\":\"TotalCoinsMined\",\"coordinates\":null,\"formatter\":{\"id\":\"1351\"},\"group\":null,\"major_label_policy\":{\"id\":\"1352\"},\"ticker\":{\"id\":\"1321\"}},\"id\":\"1320\",\"type\":\"LinearAxis\"},{\"attributes\":{},\"id\":\"1328\",\"type\":\"SaveTool\"},{\"attributes\":{\"tools\":[{\"id\":\"1310\"},{\"id\":\"1328\"},{\"id\":\"1329\"},{\"id\":\"1330\"},{\"id\":\"1331\"},{\"id\":\"1332\"}]},\"id\":\"1334\",\"type\":\"Toolbar\"},{\"attributes\":{\"end\":1.042857142857143,\"reset_end\":1.042857142857143,\"reset_start\":-0.04285714285714286,\"start\":-0.04285714285714286,\"tags\":[[[\"TotalCoinsMined\",\"TotalCoinsMined\",null]]]},\"id\":\"1308\",\"type\":\"Range1d\"},{\"attributes\":{\"axis\":{\"id\":\"1320\"},\"coordinates\":null,\"grid_line_color\":null,\"group\":null,\"ticker\":null},\"id\":\"1323\",\"type\":\"Grid\"},{\"attributes\":{},\"id\":\"1332\",\"type\":\"ResetTool\"},{\"attributes\":{},\"id\":\"1363\",\"type\":\"UnionRenderers\"},{\"attributes\":{\"bottom_units\":\"screen\",\"coordinates\":null,\"fill_alpha\":0.5,\"fill_color\":\"lightgrey\",\"group\":null,\"left_units\":\"screen\",\"level\":\"overlay\",\"line_alpha\":1.0,\"line_color\":\"black\",\"line_dash\":[4,4],\"line_width\":2,\"right_units\":\"screen\",\"syncable\":false,\"top_units\":\"screen\"},\"id\":\"1333\",\"type\":\"BoxAnnotation\"},{\"attributes\":{\"fill_alpha\":{\"value\":0.2},\"fill_color\":{\"value\":\"#30a2da\"},\"hatch_alpha\":{\"value\":0.2},\"hatch_color\":{\"value\":\"#30a2da\"},\"line_alpha\":{\"value\":0.2},\"line_color\":{\"value\":\"#30a2da\"},\"size\":{\"value\":5.477225575051661},\"x\":{\"field\":\"TotalCoinsMined\"},\"y\":{\"field\":\"TotalCoinSupply\"}},\"id\":\"1346\",\"type\":\"Scatter\"},{\"attributes\":{\"callback\":null,\"renderers\":[{\"id\":\"1347\"}],\"tags\":[\"hv_created\"],\"tooltips\":[[\"TotalCoinsMined\",\"@{TotalCoinsMined}\"],[\"TotalCoinSupply\",\"@{TotalCoinSupply}\"]]},\"id\":\"1310\",\"type\":\"HoverTool\"},{\"attributes\":{\"children\":[{\"id\":\"1307\"},{\"id\":\"1311\"},{\"id\":\"1376\"}],\"margin\":[0,0,0,0],\"name\":\"Row02136\",\"tags\":[\"embedded\"]},\"id\":\"1306\",\"type\":\"Row\"},{\"attributes\":{\"below\":[{\"id\":\"1320\"}],\"center\":[{\"id\":\"1323\"},{\"id\":\"1327\"}],\"height\":300,\"left\":[{\"id\":\"1324\"}],\"margin\":[5,5,5,5],\"min_border_bottom\":10,\"min_border_left\":10,\"min_border_right\":10,\"min_border_top\":10,\"renderers\":[{\"id\":\"1347\"}],\"sizing_mode\":\"fixed\",\"title\":{\"id\":\"1312\"},\"toolbar\":{\"id\":\"1334\"},\"width\":700,\"x_range\":{\"id\":\"1308\"},\"x_scale\":{\"id\":\"1316\"},\"y_range\":{\"id\":\"1309\"},\"y_scale\":{\"id\":\"1318\"}},\"id\":\"1311\",\"subtype\":\"Figure\",\"type\":\"Plot\"},{\"attributes\":{},\"id\":\"1342\",\"type\":\"Selection\"},{\"attributes\":{\"margin\":[5,5,5,5],\"name\":\"HSpacer02141\",\"sizing_mode\":\"stretch_width\"},\"id\":\"1376\",\"type\":\"Spacer\"},{\"attributes\":{},\"id\":\"1316\",\"type\":\"LinearScale\"},{\"attributes\":{},\"id\":\"1355\",\"type\":\"AllLabels\"},{\"attributes\":{\"axis\":{\"id\":\"1324\"},\"coordinates\":null,\"dimension\":1,\"grid_line_color\":null,\"group\":null,\"ticker\":null},\"id\":\"1327\",\"type\":\"Grid\"},{\"attributes\":{\"data\":{\"TotalCoinSupply\":{\"__ndarray__\":\"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\",\"dtype\":\"float64\",\"order\":\"little\",\"shape\":[578]},\"TotalCoinsMined\":{\"__ndarray__\":\"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\",\"dtype\":\"float64\",\"order\":\"little\",\"shape\":[578]}},\"selected\":{\"id\":\"1342\"},\"selection_policy\":{\"id\":\"1363\"}},\"id\":\"1341\",\"type\":\"ColumnDataSource\"},{\"attributes\":{\"coordinates\":null,\"data_source\":{\"id\":\"1341\"},\"glyph\":{\"id\":\"1344\"},\"group\":null,\"hover_glyph\":null,\"muted_glyph\":{\"id\":\"1346\"},\"nonselection_glyph\":{\"id\":\"1345\"},\"selection_glyph\":{\"id\":\"1349\"},\"view\":{\"id\":\"1348\"}},\"id\":\"1347\",\"type\":\"GlyphRenderer\"},{\"attributes\":{},\"id\":\"1329\",\"type\":\"PanTool\"},{\"attributes\":{},\"id\":\"1354\",\"type\":\"BasicTickFormatter\"},{\"attributes\":{\"fill_color\":{\"value\":\"#30a2da\"},\"hatch_color\":{\"value\":\"#30a2da\"},\"line_color\":{\"value\":\"#30a2da\"},\"size\":{\"value\":5.477225575051661},\"x\":{\"field\":\"TotalCoinsMined\"},\"y\":{\"field\":\"TotalCoinSupply\"}},\"id\":\"1344\",\"type\":\"Scatter\"},{\"attributes\":{\"fill_alpha\":{\"value\":0.1},\"fill_color\":{\"value\":\"#30a2da\"},\"hatch_alpha\":{\"value\":0.1},\"hatch_color\":{\"value\":\"#30a2da\"},\"line_alpha\":{\"value\":0.1},\"line_color\":{\"value\":\"#30a2da\"},\"size\":{\"value\":5.477225575051661},\"x\":{\"field\":\"TotalCoinsMined\"},\"y\":{\"field\":\"TotalCoinSupply\"}},\"id\":\"1345\",\"type\":\"Scatter\"}],\"root_ids\":[\"1306\"]},\"title\":\"Bokeh Application\",\"version\":\"2.4.2\"}};\n",
       "    var render_items = [{\"docid\":\"5116e89a-c60b-4a05-a430-5f6cc1a3b8bf\",\"root_ids\":[\"1306\"],\"roots\":{\"1306\":\"24905285-d743-4cb0-b5d2-6f3da1010ad6\"}}];\n",
       "    root.Bokeh.embed.embed_items_notebook(docs_json, render_items);\n",
       "  }\n",
       "  if (root.Bokeh !== undefined && root.Bokeh.Panel !== undefined) {\n",
       "    embed_document(root);\n",
       "  } else {\n",
       "    var attempts = 0;\n",
       "    var timer = setInterval(function(root) {\n",
       "      if (root.Bokeh !== undefined && root.Bokeh.Panel !== undefined) {\n",
       "        clearInterval(timer);\n",
       "        embed_document(root);\n",
       "      } else if (document.readyState == \"complete\") {\n",
       "        attempts++;\n",
       "        if (attempts > 200) {\n",
       "          clearInterval(timer);\n",
       "          console.log(\"Bokeh: ERROR: Unable to run BokehJS code because BokehJS library is missing\");\n",
       "        }\n",
       "      }\n",
       "    }, 25, root)\n",
       "  }\n",
       "})(window);</script>"
      ],
      "text/plain": [
       ":Scatter   [TotalCoinsMined]   (TotalCoinSupply)"
      ]
     },
     "execution_count": 141,
     "metadata": {
      "application/vnd.holoviews_exec.v0+json": {
       "id": "1306"
      }
     },
     "output_type": "execute_result"
    }
   ],
   "source": [
    "scaled_df.hvplot.scatter(x=\"TotalCoinsMined\", y=\"TotalCoinSupply\")"
   ]
  },
  {
   "cell_type": "code",
   "execution_count": null,
   "id": "754d636b",
   "metadata": {},
   "outputs": [],
   "source": []
  }
 ],
 "metadata": {
  "kernelspec": {
   "display_name": "mlenv",
   "language": "python",
   "name": "mlenv"
  },
  "language_info": {
   "codemirror_mode": {
    "name": "ipython",
    "version": 3
   },
   "file_extension": ".py",
   "mimetype": "text/x-python",
   "name": "python",
   "nbconvert_exporter": "python",
   "pygments_lexer": "ipython3",
   "version": "3.7.13"
  }
 },
 "nbformat": 4,
 "nbformat_minor": 5
}
